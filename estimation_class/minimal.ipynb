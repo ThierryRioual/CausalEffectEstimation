{
 "cells": [
  {
   "cell_type": "code",
   "execution_count": 14,
   "metadata": {},
   "outputs": [],
   "source": [
    "import pyAgrum.causal as csl\n",
    "import pyAgrum as gum\n",
    "from pyAgrum.causal.causalEffectEstimation import CausalEffectEstimation\n",
    "\n",
    "import pandas as pd\n",
    "import numpy as np"
   ]
  },
  {
   "cell_type": "code",
   "execution_count": 15,
   "metadata": {},
   "outputs": [],
   "source": [
    "n = int(1e6)"
   ]
  },
  {
   "cell_type": "code",
   "execution_count": 28,
   "metadata": {},
   "outputs": [],
   "source": [
    "X = np.random.random(n)\n",
    "T = (X >= 0.5).astype(int)\n",
    "Y = 2*T\n",
    "#df = pd.DataFrame({\"X\": X, \"T\": T, \"Y\": Y})\n",
    "#cslbn = csl.CausalModel(gum.fastBN(\"T->Y; X->Y\"))\n",
    "df = pd.DataFrame({\"T\": T, \"Y\": Y})\n",
    "cslbn = csl.CausalModel(gum.fastBN(\"T[0,1]->Y[0:3:10]\"))\n",
    "CE_est = CausalEffectEstimation(df, cslbn)"
   ]
  },
  {
   "cell_type": "code",
   "execution_count": 29,
   "metadata": {},
   "outputs": [
    {
     "data": {
      "text/plain": [
       "'Randomized Controlled Trial'"
      ]
     },
     "execution_count": 29,
     "metadata": {},
     "output_type": "execute_result"
    }
   ],
   "source": [
    "CE_est.identifyAdjustmentSet(\"T\",\"Y\", verbose=False)"
   ]
  },
  {
   "cell_type": "code",
   "execution_count": 30,
   "metadata": {},
   "outputs": [
    {
     "data": {
      "text/plain": [
       "2.0"
      ]
     },
     "execution_count": 30,
     "metadata": {},
     "output_type": "execute_result"
    }
   ],
   "source": [
    "CE_est.fitDM()\n",
    "CE_est.estimateCausalEffect()"
   ]
  },
  {
   "cell_type": "code",
   "execution_count": 31,
   "metadata": {},
   "outputs": [
    {
     "data": {
      "text/plain": [
       "1.799999999999964"
      ]
     },
     "execution_count": 31,
     "metadata": {},
     "output_type": "execute_result"
    }
   ],
   "source": [
    "CE_est.fitCausalBNEstimator()\n",
    "CE_est.estimateCausalEffect()"
   ]
  },
  {
   "cell_type": "code",
   "execution_count": null,
   "metadata": {},
   "outputs": [],
   "source": []
  }
 ],
 "metadata": {
  "kernelspec": {
   "display_name": "Python 3",
   "language": "python",
   "name": "python3"
  },
  "language_info": {
   "codemirror_mode": {
    "name": "ipython",
    "version": 3
   },
   "file_extension": ".py",
   "mimetype": "text/x-python",
   "name": "python",
   "nbconvert_exporter": "python",
   "pygments_lexer": "ipython3",
   "version": "3.10.12"
  }
 },
 "nbformat": 4,
 "nbformat_minor": 2
}
