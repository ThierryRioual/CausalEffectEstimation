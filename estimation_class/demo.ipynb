{
 "cells": [
  {
   "cell_type": "code",
   "execution_count": 154,
   "metadata": {},
   "outputs": [
    {
     "name": "stdout",
     "output_type": "stream",
     "text": [
      "The autoreload extension is already loaded. To reload it, use:\n",
      "  %reload_ext autoreload\n"
     ]
    }
   ],
   "source": [
    "%load_ext autoreload\n",
    "%autoreload 2"
   ]
  },
  {
   "cell_type": "code",
   "execution_count": 155,
   "metadata": {},
   "outputs": [],
   "source": [
    "from sklearn.linear_model import LinearRegression\n",
    "from causalml.inference.meta.slearner import BaseSLearner\n",
    "\n",
    "import pandas as pd\n",
    "import numpy as np\n",
    "\n",
    "from scipy.stats import norm, logistic"
   ]
  },
  {
   "cell_type": "code",
   "execution_count": 156,
   "metadata": {},
   "outputs": [],
   "source": [
    "import pyAgrum as gum\n",
    "import pyAgrum.lib as gnb\n",
    "\n",
    "import pyAgrum.causal as csl\n",
    "import pyAgrum.causal.notebook as cslnb\n",
    "\n",
    "import pyAgrum.skbn as skbn"
   ]
  },
  {
   "cell_type": "code",
   "execution_count": 157,
   "metadata": {},
   "outputs": [],
   "source": [
    "def getDiscretizedVariable(name, tick_start, tick_end, num_intervals):\n",
    "    variable = gum.DiscretizedVariable(name, name)\n",
    "    ticks = np.linspace(tick_start, tick_end, num_intervals+1)\n",
    "    for i in ticks:\n",
    "        variable.addTick(i)\n",
    "    variable.setEmpirical(True)\n",
    "    return variable\n",
    "\n",
    "def processDataFrame(df):\n",
    "    for column in df.columns:\n",
    "        if df[column].nunique() == 2:\n",
    "            df[column] = df[column].astype(int)\n",
    "        else:\n",
    "            df[column] = df[column].apply(\n",
    "                lambda x : sum([float(i) for i in x[1:-1].split(\";\")])/2\n",
    "            )\n",
    "\n",
    "def getATEfromCBN(cslbn):\n",
    "    _, c0, _ = csl.causalImpact(cm=cslbn, doing=\"T\", on=\"Y\", values={\"T\":0})\n",
    "    _, c1, _ = csl.causalImpact(cm=cslbn, doing=\"T\", on=\"Y\", values={\"T\":1})\n",
    "    diff = c1 - c0\n",
    "    return diff.expectedValue(lambda d : diff.variable(0).numerical(d[diff.variable(0).name()]))"
   ]
  },
  {
   "cell_type": "code",
   "execution_count": 158,
   "metadata": {},
   "outputs": [],
   "source": [
    "n = int(1e6)"
   ]
  },
  {
   "cell_type": "markdown",
   "metadata": {},
   "source": [
    "# Linear Randomized Contolled Trial\n",
    "\n",
    "$$\n",
    "X \\sim \\mathcal{N}(1,1) \\\\\n",
    "T \\sim \\mathcal{B}(0.3) \\\\\n",
    "Y \\sim \\mathcal{N}(X+2T, 1)\n",
    "$$\n",
    "\n",
    "$$ Y = X + 2T + \\varepsilon \\text{, } \\varepsilon \\sim \\mathcal{N}(0,1)$$\n",
    "\n",
    "$$\n",
    "\\begin{align*}\n",
    "\\tau &= \\mathbb{E}[Y \\mid do(T=1)] - \\mathbb{E}[Y \\mid do(T=0)] \\\\\n",
    "&= \\mathbb{E}[Y \\mid T=1] - \\mathbb{E}[Y \\mid T=0] \\\\\n",
    "&= \\mathbb{E}[X + 2T + \\varepsilon \\mid T=1] - \\mathbb{E}[X + 2T + \\varepsilon \\mid T=0] \\\\\n",
    "&= \\mathbb{E}[X] + 2 \\cdot 1 + \\mathbb{E}[\\varepsilon] - \\mathbb{E}[X] - 2 \\cdot 0 - \\mathbb{E}[\\varepsilon]\\\\\n",
    "&= 2\n",
    "\\end{align*}\n",
    "$$"
   ]
  },
  {
   "cell_type": "code",
   "execution_count": 159,
   "metadata": {},
   "outputs": [
    {
     "data": {
      "text/html": [
       "<div>\n",
       "<style scoped>\n",
       "    .dataframe tbody tr th:only-of-type {\n",
       "        vertical-align: middle;\n",
       "    }\n",
       "\n",
       "    .dataframe tbody tr th {\n",
       "        vertical-align: top;\n",
       "    }\n",
       "\n",
       "    .dataframe thead th {\n",
       "        text-align: right;\n",
       "    }\n",
       "</style>\n",
       "<table border=\"1\" class=\"dataframe\">\n",
       "  <thead>\n",
       "    <tr style=\"text-align: right;\">\n",
       "      <th></th>\n",
       "      <th>X</th>\n",
       "      <th>T</th>\n",
       "      <th>Y</th>\n",
       "    </tr>\n",
       "  </thead>\n",
       "  <tbody>\n",
       "    <tr>\n",
       "      <th>0</th>\n",
       "      <td>-0.956939</td>\n",
       "      <td>0</td>\n",
       "      <td>-1.270711</td>\n",
       "    </tr>\n",
       "    <tr>\n",
       "      <th>1</th>\n",
       "      <td>2.307382</td>\n",
       "      <td>1</td>\n",
       "      <td>4.932536</td>\n",
       "    </tr>\n",
       "    <tr>\n",
       "      <th>2</th>\n",
       "      <td>0.231758</td>\n",
       "      <td>0</td>\n",
       "      <td>0.894167</td>\n",
       "    </tr>\n",
       "    <tr>\n",
       "      <th>3</th>\n",
       "      <td>1.541802</td>\n",
       "      <td>0</td>\n",
       "      <td>1.701010</td>\n",
       "    </tr>\n",
       "    <tr>\n",
       "      <th>4</th>\n",
       "      <td>0.215875</td>\n",
       "      <td>0</td>\n",
       "      <td>0.008218</td>\n",
       "    </tr>\n",
       "  </tbody>\n",
       "</table>\n",
       "</div>"
      ],
      "text/plain": [
       "          X  T         Y\n",
       "0 -0.956939  0 -1.270711\n",
       "1  2.307382  1  4.932536\n",
       "2  0.231758  0  0.894167\n",
       "3  1.541802  0  1.701010\n",
       "4  0.215875  0  0.008218"
      ]
     },
     "execution_count": 159,
     "metadata": {},
     "output_type": "execute_result"
    }
   ],
   "source": [
    "X = np.random.normal(1, 1, n)\n",
    "T = np.random.binomial(1, 0.3, n)\n",
    "Y = np.random.normal(X+2*T, 1, n)\n",
    "df0 = pd.DataFrame({\"X\": X, \"T\": T, \"Y\":Y}, index=np.arange(0,n))\n",
    "df0.head()"
   ]
  },
  {
   "cell_type": "code",
   "execution_count": 160,
   "metadata": {},
   "outputs": [
    {
     "data": {
      "text/html": [
       "<svg xmlns=\"http://www.w3.org/2000/svg\" xmlns:xlink=\"http://www.w3.org/1999/xlink\" width=\"134pt\" height=\"116pt\" viewBox=\"0.00 0.00 134.00 116.00\">\n",
       "<g id=\"graph0\" class=\"graph\" transform=\"scale(1 1) rotate(0) translate(4 112)\">\n",
       "<title>G</title>\n",
       "<!-- X -->\n",
       "<g id=\"node1\" class=\"node\">\n",
       "<title>X</title>\n",
       "<ellipse fill=\"#404040\" stroke=\"#4a4a4a\" cx=\"27\" cy=\"-90\" rx=\"27\" ry=\"18\"/>\n",
       "<text text-anchor=\"middle\" x=\"27\" y=\"-86.3\" font-family=\"Times,serif\" font-size=\"14.00\" fill=\"white\">X</text>\n",
       "</g>\n",
       "<!-- Y -->\n",
       "<g id=\"node2\" class=\"node\">\n",
       "<title>Y</title>\n",
       "<ellipse fill=\"#404040\" stroke=\"#4a4a4a\" cx=\"63\" cy=\"-18\" rx=\"27\" ry=\"18\"/>\n",
       "<text text-anchor=\"middle\" x=\"63\" y=\"-14.3\" font-family=\"Times,serif\" font-size=\"14.00\" fill=\"white\">Y</text>\n",
       "</g>\n",
       "<!-- X&#45;&gt;Y -->\n",
       "<g id=\"edge1\" class=\"edge\">\n",
       "<title>X-&gt;Y</title>\n",
       "<path fill=\"none\" stroke=\"#4a4a4a\" d=\"M34.46,-72.31C38.82,-63.83 44.26,-53.26 49.15,-43.74\"/>\n",
       "<path fill=\"none\" stroke=\"#4a4a4a\" d=\"M36.24,-73.22C40.6,-64.74 46.04,-54.17 50.93,-44.65\"/>\n",
       "<polygon fill=\"#4a4a4a\" stroke=\"#4a4a4a\" points=\"53.23,-45.64 54.7,-35.15 47.01,-42.44 53.23,-45.64\"/>\n",
       "</g>\n",
       "<!-- T -->\n",
       "<g id=\"node3\" class=\"node\">\n",
       "<title>T</title>\n",
       "<ellipse fill=\"#404040\" stroke=\"#4a4a4a\" cx=\"99\" cy=\"-90\" rx=\"27\" ry=\"18\"/>\n",
       "<text text-anchor=\"middle\" x=\"99\" y=\"-86.3\" font-family=\"Times,serif\" font-size=\"14.00\" fill=\"white\">T</text>\n",
       "</g>\n",
       "<!-- T&#45;&gt;Y -->\n",
       "<g id=\"edge2\" class=\"edge\">\n",
       "<title>T-&gt;Y</title>\n",
       "<path fill=\"none\" stroke=\"#4a4a4a\" d=\"M89.76,-73.22C85.4,-64.74 79.96,-54.17 75.07,-44.65\"/>\n",
       "<path fill=\"none\" stroke=\"#4a4a4a\" d=\"M91.54,-72.31C87.18,-63.83 81.74,-53.26 76.85,-43.74\"/>\n",
       "<polygon fill=\"#4a4a4a\" stroke=\"#4a4a4a\" points=\"78.99,-42.44 71.3,-35.15 72.77,-45.64 78.99,-42.44\"/>\n",
       "</g>\n",
       "</g>\n",
       "</svg>"
      ],
      "text/plain": [
       "<pyAgrum.causal._CausalModel.CausalModel at 0x740732845900>"
      ]
     },
     "execution_count": 160,
     "metadata": {},
     "output_type": "execute_result"
    }
   ],
   "source": [
    "bn0 = gum.BayesNet()\n",
    "\n",
    "bn0.beginTopologyTransformation()\n",
    "\n",
    "bn0.add(getDiscretizedVariable(\"X\", -4,6, 100))\n",
    "bn0.add(getDiscretizedVariable(\"Y\", -4,6, 100))\n",
    "bn0.add(gum.IntegerVariable(\"T\", \"T\", [0,1]))\n",
    "\n",
    "bn0.addArc(\"X\", \"Y\")\n",
    "bn0.addArc(\"T\", \"Y\")\n",
    "\n",
    "bn0.cpt(\"X\").fillFromDistribution(norm, loc=1, scale=1)\n",
    "bn0.cpt(\"T\").fillWith([0.7, 0.3])\n",
    "bn0.cpt(\"Y\").fillFromDistribution(norm, loc=\"X + 2*T\", scale=1)\n",
    "\n",
    "bn0.endTopologyTransformation()\n",
    "\n",
    "cslbn0 = csl.CausalModel(bn0)\n",
    "\n",
    "cslbn0"
   ]
  },
  {
   "cell_type": "code",
   "execution_count": 161,
   "metadata": {},
   "outputs": [
    {
     "data": {
      "text/plain": [
       "1.9655810046044915"
      ]
     },
     "execution_count": 161,
     "metadata": {},
     "output_type": "execute_result"
    }
   ],
   "source": [
    "getATEfromCBN(cslbn0)"
   ]
  },
  {
   "cell_type": "code",
   "execution_count": 162,
   "metadata": {},
   "outputs": [
    {
     "name": "stdout",
     "output_type": "stream",
     "text": [
      "Randomized Controlled Trial adjustment found. \n",
      "\n",
      "Supported estimators include:\n",
      "- CausalModelEstimator\n",
      "- DM\n",
      "If the outcome variable is a cause of other covariates in the causal graph,\n",
      "Backdoor estimators may also be used.\n"
     ]
    },
    {
     "data": {
      "text/plain": [
       "'Randomized Controlled Trial'"
      ]
     },
     "execution_count": 162,
     "metadata": {},
     "output_type": "execute_result"
    }
   ],
   "source": [
    "po0 = csl.CausalEffectEstimation(df0, cslbn0)\n",
    "po0.identifyAdjustmentSet(intervention=\"T\", outcome=\"Y\")"
   ]
  },
  {
   "cell_type": "code",
   "execution_count": 163,
   "metadata": {},
   "outputs": [
    {
     "name": "stdout",
     "output_type": "stream",
     "text": [
      "<pyAgrum.causal.causalEffectEstimation._CausalEffectEstimation.CausalEffectEstimation object at 0x740730382560>\n",
      "\n",
      " Dataframe\t: <pandas.core.frame.DataFrame object at 0x740732bfdc30>\n",
      "\t- shape\t\t: (1000000, 3)\n",
      "\t- columns\t: Index(['X', 'T', 'Y'], dtype='object')\n",
      "\t- memory usage\t: 32.0 MB\n",
      " Causal Model\t: <pyAgrum.causal._CausalModel.CausalModel object at 0x740732845900>\n",
      "\t- names\t\t: {0: 'X', 1: 'Y', 2: 'T'}\n",
      "\t- causal BN\t: BN{nodes: 3, arcs: 2, domainSize: 20000, dim: 19900, mem: 157Ko 48o}\n",
      "\t- observ. BN\t: BN{nodes: 3, arcs: 2, domainSize: 20000, dim: 19900, mem: 157Ko 48o}\n",
      " Adjustment\t: Randomized Controlled Trial\n",
      " Intervention\t: T\n",
      " Outcome\t: Y\n",
      " Confounders\t: {'X'}\n"
     ]
    }
   ],
   "source": [
    "print(po0)"
   ]
  },
  {
   "cell_type": "code",
   "execution_count": 164,
   "metadata": {},
   "outputs": [
    {
     "data": {
      "text/plain": [
       "1.989180940121197"
      ]
     },
     "execution_count": 164,
     "metadata": {},
     "output_type": "execute_result"
    }
   ],
   "source": [
    "po0.fitCausalBNEstimator()\n",
    "po0.estimateCausalEffect()"
   ]
  },
  {
   "cell_type": "code",
   "execution_count": 165,
   "metadata": {},
   "outputs": [
    {
     "data": {
      "text/plain": [
       "1.9985396565983176"
      ]
     },
     "execution_count": 165,
     "metadata": {},
     "output_type": "execute_result"
    }
   ],
   "source": [
    "po0.fitSLearner()\n",
    "po0.estimateCausalEffect()"
   ]
  },
  {
   "cell_type": "code",
   "execution_count": 166,
   "metadata": {},
   "outputs": [
    {
     "data": {
      "text/plain": [
       "array([1.99853966])"
      ]
     },
     "execution_count": 166,
     "metadata": {},
     "output_type": "execute_result"
    }
   ],
   "source": [
    "po0.fitCustomEstimator(BaseSLearner(learner=LinearRegression()))\n",
    "po0.estimateCausalEffect()"
   ]
  },
  {
   "cell_type": "markdown",
   "metadata": {},
   "source": [
    "# Linear Backdoor\n",
    "\n",
    "$$\n",
    "X \\sim \\mathcal{N}(1,1) \\\\\n",
    "T \\sim \\mathcal{B}((1+e^{-X})^{-1}) \\\\\n",
    "Y \\sim \\mathcal{N}(X+2T, 1)\n",
    "$$\n",
    "\n",
    "$$ Y = X + 2T + \\varepsilon \\text{, } \\varepsilon \\sim \\mathcal{N}(0,1)$$\n",
    "\n",
    "$$\n",
    "\\begin{align*}\n",
    "\\tau &= \\mathbb{E}[Y \\mid do(T=1)] - \\mathbb{E}[Y \\mid do(T=0)] \\\\\n",
    "&= \\mathbb{E}_X [\\mathbb{E}[Y \\mid T=1, X] - \\mathbb{E}[Y \\mid T=0, X]] \\\\\n",
    "&= \\mathbb{E}_X [\\mathbb{E}_{\\varepsilon}[X + 2T + \\varepsilon \\mid T=1, X] - \\mathbb{E}_{\\varepsilon}[X + 2T + \\varepsilon \\mid T=0, X]] \\\\\n",
    "&= \\mathbb{E}_X [(X + 2 \\cdot 1) - (X + 2 \\cdot 0)] \\\\\n",
    "&= 2\n",
    "\\end{align*}\n",
    "$$"
   ]
  },
  {
   "cell_type": "code",
   "execution_count": 167,
   "metadata": {},
   "outputs": [
    {
     "data": {
      "text/html": [
       "<div>\n",
       "<style scoped>\n",
       "    .dataframe tbody tr th:only-of-type {\n",
       "        vertical-align: middle;\n",
       "    }\n",
       "\n",
       "    .dataframe tbody tr th {\n",
       "        vertical-align: top;\n",
       "    }\n",
       "\n",
       "    .dataframe thead th {\n",
       "        text-align: right;\n",
       "    }\n",
       "</style>\n",
       "<table border=\"1\" class=\"dataframe\">\n",
       "  <thead>\n",
       "    <tr style=\"text-align: right;\">\n",
       "      <th></th>\n",
       "      <th>X</th>\n",
       "      <th>T</th>\n",
       "      <th>Y</th>\n",
       "    </tr>\n",
       "  </thead>\n",
       "  <tbody>\n",
       "    <tr>\n",
       "      <th>0</th>\n",
       "      <td>-0.057144</td>\n",
       "      <td>1</td>\n",
       "      <td>3.114281</td>\n",
       "    </tr>\n",
       "    <tr>\n",
       "      <th>1</th>\n",
       "      <td>0.896178</td>\n",
       "      <td>1</td>\n",
       "      <td>3.735207</td>\n",
       "    </tr>\n",
       "    <tr>\n",
       "      <th>2</th>\n",
       "      <td>1.706789</td>\n",
       "      <td>1</td>\n",
       "      <td>3.954915</td>\n",
       "    </tr>\n",
       "    <tr>\n",
       "      <th>3</th>\n",
       "      <td>1.564825</td>\n",
       "      <td>1</td>\n",
       "      <td>3.621778</td>\n",
       "    </tr>\n",
       "    <tr>\n",
       "      <th>4</th>\n",
       "      <td>2.493069</td>\n",
       "      <td>1</td>\n",
       "      <td>5.481230</td>\n",
       "    </tr>\n",
       "  </tbody>\n",
       "</table>\n",
       "</div>"
      ],
      "text/plain": [
       "          X  T         Y\n",
       "0 -0.057144  1  3.114281\n",
       "1  0.896178  1  3.735207\n",
       "2  1.706789  1  3.954915\n",
       "3  1.564825  1  3.621778\n",
       "4  2.493069  1  5.481230"
      ]
     },
     "execution_count": 167,
     "metadata": {},
     "output_type": "execute_result"
    }
   ],
   "source": [
    "X = np.random.normal(1, 1, n)\n",
    "T = np.random.binomial(1, np.power(1+np.exp(-X), -1))\n",
    "Y = np.random.normal(X+2*T, 1, n)\n",
    "df1 = pd.DataFrame({\"X\": X, \"T\": T, \"Y\": Y}, index=np.arange(0,n))\n",
    "df1.head()"
   ]
  },
  {
   "cell_type": "code",
   "execution_count": 168,
   "metadata": {},
   "outputs": [
    {
     "data": {
      "text/html": [
       "<svg xmlns=\"http://www.w3.org/2000/svg\" xmlns:xlink=\"http://www.w3.org/1999/xlink\" width=\"86pt\" height=\"180pt\" viewBox=\"0.00 0.00 86.17 180.00\">\n",
       "<g id=\"graph0\" class=\"graph\" transform=\"scale(0.96 0.96) rotate(0) translate(4 184)\">\n",
       "<title>G</title>\n",
       "<!-- X -->\n",
       "<g id=\"node1\" class=\"node\">\n",
       "<title>X</title>\n",
       "<ellipse fill=\"#404040\" stroke=\"#4a4a4a\" cx=\"27\" cy=\"-162\" rx=\"27\" ry=\"18\"/>\n",
       "<text text-anchor=\"middle\" x=\"27\" y=\"-158.3\" font-family=\"Times,serif\" font-size=\"14.00\" fill=\"white\">X</text>\n",
       "</g>\n",
       "<!-- Y -->\n",
       "<g id=\"node2\" class=\"node\">\n",
       "<title>Y</title>\n",
       "<ellipse fill=\"#404040\" stroke=\"#4a4a4a\" cx=\"27\" cy=\"-18\" rx=\"27\" ry=\"18\"/>\n",
       "<text text-anchor=\"middle\" x=\"27\" y=\"-14.3\" font-family=\"Times,serif\" font-size=\"14.00\" fill=\"white\">Y</text>\n",
       "</g>\n",
       "<!-- X&#45;&gt;Y -->\n",
       "<g id=\"edge1\" class=\"edge\">\n",
       "<title>X-&gt;Y</title>\n",
       "<path fill=\"none\" stroke=\"#4a4a4a\" d=\"M22.77,-144.06C20.97,-133.69 18.92,-120.21 18,-108.07 16.8,-92.04 16.8,-87.96 18,-71.93 18.65,-63.39 19.85,-54.21 21.13,-45.88\"/>\n",
       "<path fill=\"none\" stroke=\"#4a4a4a\" d=\"M24.74,-143.72C22.94,-133.39 20.89,-119.91 20,-107.93 18.8,-92.04 18.8,-87.96 20,-72.07 20.63,-63.65 21.83,-54.47 23.11,-46.19\"/>\n",
       "<polygon fill=\"#4a4a4a\" stroke=\"#4a4a4a\" points=\"25.58,-46.55 23.75,-36.11 18.68,-45.41 25.58,-46.55\"/>\n",
       "</g>\n",
       "<!-- T -->\n",
       "<g id=\"node3\" class=\"node\">\n",
       "<title>T</title>\n",
       "<ellipse fill=\"#404040\" stroke=\"#4a4a4a\" cx=\"55\" cy=\"-90\" rx=\"27\" ry=\"18\"/>\n",
       "<text text-anchor=\"middle\" x=\"55\" y=\"-86.3\" font-family=\"Times,serif\" font-size=\"14.00\" fill=\"white\">T</text>\n",
       "</g>\n",
       "<!-- X&#45;&gt;T -->\n",
       "<g id=\"edge2\" class=\"edge\">\n",
       "<title>X-&gt;T</title>\n",
       "<path fill=\"none\" stroke=\"#4a4a4a\" d=\"M32.71,-144.04C35.98,-135.85 40.02,-125.77 43.69,-116.58\"/>\n",
       "<path fill=\"none\" stroke=\"#4a4a4a\" d=\"M34.56,-144.78C37.84,-136.59 41.87,-126.51 45.55,-117.33\"/>\n",
       "<polygon fill=\"#4a4a4a\" stroke=\"#4a4a4a\" points=\"47.95,-118.05 48.41,-107.47 41.45,-115.45 47.95,-118.05\"/>\n",
       "</g>\n",
       "<!-- T&#45;&gt;Y -->\n",
       "<g id=\"edge3\" class=\"edge\">\n",
       "<title>T-&gt;Y</title>\n",
       "<path fill=\"none\" stroke=\"#4a4a4a\" d=\"M47.44,-72.78C44.16,-64.59 40.13,-54.51 36.45,-45.33\"/>\n",
       "<path fill=\"none\" stroke=\"#4a4a4a\" d=\"M49.29,-72.04C46.02,-63.85 41.98,-53.77 38.31,-44.58\"/>\n",
       "<polygon fill=\"#4a4a4a\" stroke=\"#4a4a4a\" points=\"40.55,-43.45 33.59,-35.47 34.05,-46.05 40.55,-43.45\"/>\n",
       "</g>\n",
       "</g>\n",
       "</svg>"
      ],
      "text/plain": [
       "<pyAgrum.causal._CausalModel.CausalModel at 0x74074904ba00>"
      ]
     },
     "execution_count": 168,
     "metadata": {},
     "output_type": "execute_result"
    }
   ],
   "source": [
    "bn1 = gum.BayesNet()\n",
    "\n",
    "bn1.beginTopologyTransformation()\n",
    "\n",
    "bn1.add(getDiscretizedVariable(\"X\", -4,6, 100))\n",
    "bn1.add(getDiscretizedVariable(\"Y\", -4,6, 100))\n",
    "bn1.add(gum.IntegerVariable(\"T\", \"T\", [0,1]))\n",
    "\n",
    "bn1.addArc(\"X\", \"T\")\n",
    "bn1.addArc(\"X\", \"Y\")\n",
    "bn1.addArc(\"T\", \"Y\")\n",
    "\n",
    "bn1.cpt(\"X\").fillFromDistribution(norm, loc=1, scale=1)\n",
    "bn1.cpt(\"T\").fillFromDistribution(logistic, loc=\"X\", scale=1)\n",
    "bn1.cpt(\"Y\").fillFromDistribution(norm, loc=\"X + 2*T\", scale=1)\n",
    "\n",
    "bn1.endTopologyTransformation()\n",
    "\n",
    "cslbn1 = csl.CausalModel(bn1)\n",
    "\n",
    "cslbn1"
   ]
  },
  {
   "cell_type": "code",
   "execution_count": 169,
   "metadata": {},
   "outputs": [
    {
     "data": {
      "text/plain": [
       "1.9655810046044917"
      ]
     },
     "execution_count": 169,
     "metadata": {},
     "output_type": "execute_result"
    }
   ],
   "source": [
    "getATEfromCBN(cslbn1)"
   ]
  },
  {
   "cell_type": "code",
   "execution_count": 170,
   "metadata": {},
   "outputs": [
    {
     "name": "stdout",
     "output_type": "stream",
     "text": [
      "Backdoor adjustment found. \n",
      "\n",
      "Supported estimators include:\n",
      "- CausalModelEstimator\n",
      "- SLearner\n",
      "- TLearner\n",
      "- XLearner\n",
      "- PStratification\n",
      "- IPW\n"
     ]
    },
    {
     "data": {
      "text/plain": [
       "'Backdoor'"
      ]
     },
     "execution_count": 170,
     "metadata": {},
     "output_type": "execute_result"
    }
   ],
   "source": [
    "po1 = csl.CausalEffectEstimation(df1, cslbn1)\n",
    "po1.identifyAdjustmentSet(intervention=\"T\", outcome=\"Y\")"
   ]
  },
  {
   "cell_type": "code",
   "execution_count": 171,
   "metadata": {},
   "outputs": [
    {
     "name": "stdout",
     "output_type": "stream",
     "text": [
      "<pyAgrum.causal.causalEffectEstimation._CausalEffectEstimation.CausalEffectEstimation object at 0x74088aebdcc0>\n",
      "\n",
      " Dataframe\t: <pandas.core.frame.DataFrame object at 0x740732b63910>\n",
      "\t- shape\t\t: (1000000, 3)\n",
      "\t- columns\t: Index(['X', 'T', 'Y'], dtype='object')\n",
      "\t- memory usage\t: 32.0 MB\n",
      " Causal Model\t: <pyAgrum.causal._CausalModel.CausalModel object at 0x74074904ba00>\n",
      "\t- names\t\t: {0: 'X', 1: 'Y', 2: 'T'}\n",
      "\t- causal BN\t: BN{nodes: 3, arcs: 3, domainSize: 20000, dim: 19999, mem: 158Ko 608o}\n",
      "\t- observ. BN\t: BN{nodes: 3, arcs: 3, domainSize: 20000, dim: 19999, mem: 158Ko 608o}\n",
      " Adjustment\t: Backdoor\n",
      " Intervention\t: T\n",
      " Outcome\t: Y\n",
      " Confounders\t: {'X'}\n"
     ]
    }
   ],
   "source": [
    "print(po1)"
   ]
  },
  {
   "cell_type": "code",
   "execution_count": 172,
   "metadata": {},
   "outputs": [
    {
     "data": {
      "text/plain": [
       "1.99292702372421"
      ]
     },
     "execution_count": 172,
     "metadata": {},
     "output_type": "execute_result"
    }
   ],
   "source": [
    "po1.fitCausalBNEstimator()\n",
    "po1.estimateCausalEffect()"
   ]
  },
  {
   "cell_type": "code",
   "execution_count": 173,
   "metadata": {},
   "outputs": [
    {
     "data": {
      "text/plain": [
       "2.0003358621449654"
      ]
     },
     "execution_count": 173,
     "metadata": {},
     "output_type": "execute_result"
    }
   ],
   "source": [
    "po1.fitSLearner()\n",
    "po1.estimateCausalEffect()"
   ]
  },
  {
   "cell_type": "markdown",
   "metadata": {},
   "source": [
    "# Non Linear Backdoor\n",
    "\n",
    "$$\n",
    "X \\sim \\mathcal{N}(1,1) \\\\\n",
    "T \\sim \\mathcal{B}((1+e^{-X})^{-1}) \\\\\n",
    "Y \\sim \\mathcal{N}(X(1+2T), 1)\n",
    "$$\n",
    "\n",
    "$$\n",
    "\\begin{align*}\n",
    "\\tau &= \\mathbb{E}[Y \\mid do(T=1)] - \\mathbb{E}[Y \\mid do(T=0)] \\\\\n",
    "&= \\mathbb{E}_X [\\mathbb{E}[Y \\mid T=1, X] - \\mathbb{E}[Y \\mid T=0, X]] \\\\\n",
    "&= \\mathbb{E}_X [X(1 + 2 \\cdot 1) - X(1 + 2 \\cdot 0)] \\\\\n",
    "&= 2\\mathbb{E}[X] \\\\\n",
    "&= 2\n",
    "\\end{align*}\n",
    "$$"
   ]
  },
  {
   "cell_type": "code",
   "execution_count": 174,
   "metadata": {},
   "outputs": [
    {
     "data": {
      "text/html": [
       "<div>\n",
       "<style scoped>\n",
       "    .dataframe tbody tr th:only-of-type {\n",
       "        vertical-align: middle;\n",
       "    }\n",
       "\n",
       "    .dataframe tbody tr th {\n",
       "        vertical-align: top;\n",
       "    }\n",
       "\n",
       "    .dataframe thead th {\n",
       "        text-align: right;\n",
       "    }\n",
       "</style>\n",
       "<table border=\"1\" class=\"dataframe\">\n",
       "  <thead>\n",
       "    <tr style=\"text-align: right;\">\n",
       "      <th></th>\n",
       "      <th>X</th>\n",
       "      <th>T</th>\n",
       "      <th>Y</th>\n",
       "    </tr>\n",
       "  </thead>\n",
       "  <tbody>\n",
       "    <tr>\n",
       "      <th>0</th>\n",
       "      <td>-0.969150</td>\n",
       "      <td>0</td>\n",
       "      <td>-1.407017</td>\n",
       "    </tr>\n",
       "    <tr>\n",
       "      <th>1</th>\n",
       "      <td>1.776413</td>\n",
       "      <td>1</td>\n",
       "      <td>4.434231</td>\n",
       "    </tr>\n",
       "    <tr>\n",
       "      <th>2</th>\n",
       "      <td>1.591836</td>\n",
       "      <td>1</td>\n",
       "      <td>5.795717</td>\n",
       "    </tr>\n",
       "    <tr>\n",
       "      <th>3</th>\n",
       "      <td>-0.480775</td>\n",
       "      <td>0</td>\n",
       "      <td>0.258419</td>\n",
       "    </tr>\n",
       "    <tr>\n",
       "      <th>4</th>\n",
       "      <td>0.495358</td>\n",
       "      <td>1</td>\n",
       "      <td>2.363707</td>\n",
       "    </tr>\n",
       "  </tbody>\n",
       "</table>\n",
       "</div>"
      ],
      "text/plain": [
       "          X  T         Y\n",
       "0 -0.969150  0 -1.407017\n",
       "1  1.776413  1  4.434231\n",
       "2  1.591836  1  5.795717\n",
       "3 -0.480775  0  0.258419\n",
       "4  0.495358  1  2.363707"
      ]
     },
     "execution_count": 174,
     "metadata": {},
     "output_type": "execute_result"
    }
   ],
   "source": [
    "X = np.random.normal(1, 1, n)\n",
    "T = np.random.binomial(1, np.power(1+np.exp(-X), -1))\n",
    "Y = np.random.normal(X+2*T*X, 1, n)\n",
    "df2 = pd.DataFrame({\"X\": X, \"T\": T, \"Y\":Y}, index=np.arange(0,n))\n",
    "df2.head()"
   ]
  },
  {
   "cell_type": "code",
   "execution_count": 175,
   "metadata": {},
   "outputs": [
    {
     "data": {
      "text/html": [
       "<svg xmlns=\"http://www.w3.org/2000/svg\" xmlns:xlink=\"http://www.w3.org/1999/xlink\" width=\"86pt\" height=\"180pt\" viewBox=\"0.00 0.00 86.17 180.00\">\n",
       "<g id=\"graph0\" class=\"graph\" transform=\"scale(0.96 0.96) rotate(0) translate(4 184)\">\n",
       "<title>G</title>\n",
       "<!-- X -->\n",
       "<g id=\"node1\" class=\"node\">\n",
       "<title>X</title>\n",
       "<ellipse fill=\"#404040\" stroke=\"#4a4a4a\" cx=\"27\" cy=\"-162\" rx=\"27\" ry=\"18\"/>\n",
       "<text text-anchor=\"middle\" x=\"27\" y=\"-158.3\" font-family=\"Times,serif\" font-size=\"14.00\" fill=\"white\">X</text>\n",
       "</g>\n",
       "<!-- Y -->\n",
       "<g id=\"node2\" class=\"node\">\n",
       "<title>Y</title>\n",
       "<ellipse fill=\"#404040\" stroke=\"#4a4a4a\" cx=\"27\" cy=\"-18\" rx=\"27\" ry=\"18\"/>\n",
       "<text text-anchor=\"middle\" x=\"27\" y=\"-14.3\" font-family=\"Times,serif\" font-size=\"14.00\" fill=\"white\">Y</text>\n",
       "</g>\n",
       "<!-- X&#45;&gt;Y -->\n",
       "<g id=\"edge1\" class=\"edge\">\n",
       "<title>X-&gt;Y</title>\n",
       "<path fill=\"none\" stroke=\"#4a4a4a\" d=\"M22.77,-144.06C20.97,-133.69 18.92,-120.21 18,-108.07 16.8,-92.04 16.8,-87.96 18,-71.93 18.65,-63.39 19.85,-54.21 21.13,-45.88\"/>\n",
       "<path fill=\"none\" stroke=\"#4a4a4a\" d=\"M24.74,-143.72C22.94,-133.39 20.89,-119.91 20,-107.93 18.8,-92.04 18.8,-87.96 20,-72.07 20.63,-63.65 21.83,-54.47 23.11,-46.19\"/>\n",
       "<polygon fill=\"#4a4a4a\" stroke=\"#4a4a4a\" points=\"25.58,-46.55 23.75,-36.11 18.68,-45.41 25.58,-46.55\"/>\n",
       "</g>\n",
       "<!-- T -->\n",
       "<g id=\"node3\" class=\"node\">\n",
       "<title>T</title>\n",
       "<ellipse fill=\"#404040\" stroke=\"#4a4a4a\" cx=\"55\" cy=\"-90\" rx=\"27\" ry=\"18\"/>\n",
       "<text text-anchor=\"middle\" x=\"55\" y=\"-86.3\" font-family=\"Times,serif\" font-size=\"14.00\" fill=\"white\">T</text>\n",
       "</g>\n",
       "<!-- X&#45;&gt;T -->\n",
       "<g id=\"edge2\" class=\"edge\">\n",
       "<title>X-&gt;T</title>\n",
       "<path fill=\"none\" stroke=\"#4a4a4a\" d=\"M32.71,-144.04C35.98,-135.85 40.02,-125.77 43.69,-116.58\"/>\n",
       "<path fill=\"none\" stroke=\"#4a4a4a\" d=\"M34.56,-144.78C37.84,-136.59 41.87,-126.51 45.55,-117.33\"/>\n",
       "<polygon fill=\"#4a4a4a\" stroke=\"#4a4a4a\" points=\"47.95,-118.05 48.41,-107.47 41.45,-115.45 47.95,-118.05\"/>\n",
       "</g>\n",
       "<!-- T&#45;&gt;Y -->\n",
       "<g id=\"edge3\" class=\"edge\">\n",
       "<title>T-&gt;Y</title>\n",
       "<path fill=\"none\" stroke=\"#4a4a4a\" d=\"M47.44,-72.78C44.16,-64.59 40.13,-54.51 36.45,-45.33\"/>\n",
       "<path fill=\"none\" stroke=\"#4a4a4a\" d=\"M49.29,-72.04C46.02,-63.85 41.98,-53.77 38.31,-44.58\"/>\n",
       "<polygon fill=\"#4a4a4a\" stroke=\"#4a4a4a\" points=\"40.55,-43.45 33.59,-35.47 34.05,-46.05 40.55,-43.45\"/>\n",
       "</g>\n",
       "</g>\n",
       "</svg>"
      ],
      "text/plain": [
       "<pyAgrum.causal._CausalModel.CausalModel at 0x7407321db310>"
      ]
     },
     "execution_count": 175,
     "metadata": {},
     "output_type": "execute_result"
    }
   ],
   "source": [
    "bn2 = gum.BayesNet()\n",
    "\n",
    "bn2.beginTopologyTransformation()\n",
    "\n",
    "bn2.add(getDiscretizedVariable(\"X\", -4, 6, 3))\n",
    "bn2.add(getDiscretizedVariable(\"Y\", -4, 6, 100))\n",
    "bn2.add(gum.IntegerVariable(\"T\", \"T\", [0,1]))\n",
    "\n",
    "bn2.addArc(\"X\", \"T\")\n",
    "bn2.addArc(\"X\", \"Y\")\n",
    "bn2.addArc(\"T\", \"Y\")\n",
    "\n",
    "bn2.cpt(\"X\").fillFromDistribution(norm, loc=1, scale=1)\n",
    "bn2.cpt(\"T\").fillFromDistribution(logistic, loc=\"X\", scale=1)\n",
    "bn2.cpt(\"Y\").fillFromDistribution(norm, loc=\"X*(1 + 2*T)\", scale=1)\n",
    "\n",
    "bn2.endTopologyTransformation()\n",
    "\n",
    "cslbn2 = csl.CausalModel(bn2)\n",
    "\n",
    "cslbn2"
   ]
  },
  {
   "cell_type": "code",
   "execution_count": 176,
   "metadata": {},
   "outputs": [
    {
     "data": {
      "text/plain": [
       "1.980811707300236"
      ]
     },
     "execution_count": 176,
     "metadata": {},
     "output_type": "execute_result"
    }
   ],
   "source": [
    "getATEfromCBN(cslbn2)"
   ]
  },
  {
   "cell_type": "code",
   "execution_count": 177,
   "metadata": {},
   "outputs": [
    {
     "name": "stdout",
     "output_type": "stream",
     "text": [
      "Backdoor adjustment found. \n",
      "\n",
      "Supported estimators include:\n",
      "- CausalModelEstimator\n",
      "- SLearner\n",
      "- TLearner\n",
      "- XLearner\n",
      "- PStratification\n",
      "- IPW\n"
     ]
    },
    {
     "data": {
      "text/plain": [
       "'Backdoor'"
      ]
     },
     "execution_count": 177,
     "metadata": {},
     "output_type": "execute_result"
    }
   ],
   "source": [
    "po2 = csl.CausalEffectEstimation(df2, cslbn2)\n",
    "po2.identifyAdjustmentSet(\"T\", \"Y\")"
   ]
  },
  {
   "cell_type": "code",
   "execution_count": 178,
   "metadata": {},
   "outputs": [
    {
     "name": "stdout",
     "output_type": "stream",
     "text": [
      "<pyAgrum.causal.causalEffectEstimation._CausalEffectEstimation.CausalEffectEstimation object at 0x7407321d9900>\n",
      "\n",
      " Dataframe\t: <pandas.core.frame.DataFrame object at 0x7407321db7c0>\n",
      "\t- shape\t\t: (1000000, 3)\n",
      "\t- columns\t: Index(['X', 'T', 'Y'], dtype='object')\n",
      "\t- memory usage\t: 32.0 MB\n",
      " Causal Model\t: <pyAgrum.causal._CausalModel.CausalModel object at 0x7407321db310>\n",
      "\t- names\t\t: {0: 'X', 1: 'Y', 2: 'T'}\n",
      "\t- causal BN\t: BN{nodes: 3, arcs: 3, domainSize: 600, dim: 599, mem: 4Ko 776o}\n",
      "\t- observ. BN\t: BN{nodes: 3, arcs: 3, domainSize: 600, dim: 599, mem: 4Ko 776o}\n",
      " Adjustment\t: Backdoor\n",
      " Intervention\t: T\n",
      " Outcome\t: Y\n",
      " Confounders\t: {'X'}\n"
     ]
    }
   ],
   "source": [
    "print(po2)"
   ]
  },
  {
   "cell_type": "code",
   "execution_count": 179,
   "metadata": {},
   "outputs": [],
   "source": [
    "po2.useBackdoorAdjustment(\"T\", \"Y\", {\"X\"})"
   ]
  },
  {
   "cell_type": "code",
   "execution_count": 180,
   "metadata": {},
   "outputs": [
    {
     "data": {
      "text/plain": [
       "2.509447214263444"
      ]
     },
     "execution_count": 180,
     "metadata": {},
     "output_type": "execute_result"
    }
   ],
   "source": [
    "po2.fitCausalBNEstimator()\n",
    "po2.estimateCausalEffect()"
   ]
  },
  {
   "cell_type": "code",
   "execution_count": 181,
   "metadata": {},
   "outputs": [
    {
     "data": {
      "text/plain": [
       "1.322625728019034"
      ]
     },
     "execution_count": 181,
     "metadata": {},
     "output_type": "execute_result"
    }
   ],
   "source": [
    "po2.fitSLearner()\n",
    "po2.estimateCausalEffect()"
   ]
  },
  {
   "cell_type": "code",
   "execution_count": 182,
   "metadata": {},
   "outputs": [
    {
     "data": {
      "text/plain": [
       "1.993271"
      ]
     },
     "execution_count": 182,
     "metadata": {},
     "output_type": "execute_result"
    }
   ],
   "source": [
    "po2.fitSLearner(learner=\"XGBRegressor\")\n",
    "po2.estimateCausalEffect()"
   ]
  },
  {
   "cell_type": "markdown",
   "metadata": {},
   "source": [
    "# High Dimentional Non Linear Backdoor\n",
    "\n",
    "$$\n",
    "\\boldsymbol{\\mu} = \n",
    "\\begin{pmatrix}\n",
    "1\\\\\n",
    "1\\\\\n",
    "1\\\\\n",
    "1\\\\\n",
    "1\n",
    "\\end{pmatrix}\n",
    "\n",
    "\\boldsymbol{\\Sigma} = \n",
    "\\begin{pmatrix}\n",
    "1 & 0.5 & -0.5 & -0.5 & -0.5\\\\\n",
    "0.5 & 1 & 0.5 & 1 & -0.5 \\\\\n",
    "-0.5 & 0.5 & 1 & 0.5 & 0.5\\\\\n",
    "-0.5 & 1 & 0.5 & 1 & -0.5 \\\\\n",
    "-0.5 & -0.5 & 0.5 & -0.5 & 1\n",
    "\\end{pmatrix}\n",
    "\n",
    "\\alpha =\n",
    "\\begin{pmatrix}\n",
    "1\\\\\n",
    "-1\\\\\n",
    "2\\\\\n",
    "2\\\\\n",
    "-2\n",
    "\\end{pmatrix}\n",
    "\n",
    "\\beta =\n",
    "\\begin{pmatrix}\n",
    "5\\\\\n",
    "-3\\\\\n",
    "-1\\\\\n",
    "2\\\\\n",
    "-2\n",
    "\\end{pmatrix}\n",
    "$$\n",
    "\n",
    "$$\n",
    "\\boldsymbol{X} \\sim \\mathcal{N}(\\boldsymbol{\\mu},\\boldsymbol{\\Sigma}) \\\\\n",
    "T \\sim \\mathcal{B}((1+e^{-\\boldsymbol{X}\\alpha})^{-1}) \\\\\n",
    "Y \\sim \\mathcal{N}(\\boldsymbol{X}^T\\beta \\cdot (1+2T), 1)\n",
    "$$\n",
    "\n",
    "$$\n",
    "\\begin{align*}\n",
    "\\tau &= \\mathbb{E}[Y \\mid do(T=1)] - \\mathbb{E}[Y \\mid do(T=0)] \\\\\n",
    "&= \\mathbb{E}_{\\boldsymbol{X}} [\\mathbb{E}[Y \\mid T=1, \\boldsymbol{X}] - \\mathbb{E}[Y \\mid T=0, \\boldsymbol{X}]] \\\\\n",
    "&= \\mathbb{E}_{\\boldsymbol{X}} [\\boldsymbol{X}^T\\beta(1 + 2 \\cdot 1) - \\boldsymbol{X}^T\\beta(1 + 2 \\cdot 0)] \\\\\n",
    "&= 2\\mathbb{E}[\\boldsymbol{X}^T\\beta] \\\\\n",
    "&= 2\\mathbb{E}[5X_1 -3X_2 -X_3 +2X_4 -2X_5] \\\\\n",
    "&= 2(5-3-1+2-2) \\\\\n",
    "&= 2\n",
    "\\end{align*}\n",
    "$$"
   ]
  },
  {
   "cell_type": "code",
   "execution_count": 183,
   "metadata": {},
   "outputs": [
    {
     "name": "stderr",
     "output_type": "stream",
     "text": [
      "covariance is not symmetric positive-semidefinite.\n"
     ]
    },
    {
     "data": {
      "text/html": [
       "<div>\n",
       "<style scoped>\n",
       "    .dataframe tbody tr th:only-of-type {\n",
       "        vertical-align: middle;\n",
       "    }\n",
       "\n",
       "    .dataframe tbody tr th {\n",
       "        vertical-align: top;\n",
       "    }\n",
       "\n",
       "    .dataframe thead th {\n",
       "        text-align: right;\n",
       "    }\n",
       "</style>\n",
       "<table border=\"1\" class=\"dataframe\">\n",
       "  <thead>\n",
       "    <tr style=\"text-align: right;\">\n",
       "      <th></th>\n",
       "      <th>X1</th>\n",
       "      <th>X2</th>\n",
       "      <th>X3</th>\n",
       "      <th>X4</th>\n",
       "      <th>X5</th>\n",
       "      <th>T</th>\n",
       "      <th>Y</th>\n",
       "    </tr>\n",
       "  </thead>\n",
       "  <tbody>\n",
       "    <tr>\n",
       "      <th>0</th>\n",
       "      <td>1.107175</td>\n",
       "      <td>1.904445</td>\n",
       "      <td>1.430844</td>\n",
       "      <td>1.426488</td>\n",
       "      <td>0.765378</td>\n",
       "      <td>1</td>\n",
       "      <td>-0.261765</td>\n",
       "    </tr>\n",
       "    <tr>\n",
       "      <th>1</th>\n",
       "      <td>0.524774</td>\n",
       "      <td>3.105881</td>\n",
       "      <td>1.668980</td>\n",
       "      <td>3.004682</td>\n",
       "      <td>-0.386301</td>\n",
       "      <td>1</td>\n",
       "      <td>-3.749738</td>\n",
       "    </tr>\n",
       "    <tr>\n",
       "      <th>2</th>\n",
       "      <td>1.469082</td>\n",
       "      <td>1.833303</td>\n",
       "      <td>1.626939</td>\n",
       "      <td>2.691975</td>\n",
       "      <td>0.364300</td>\n",
       "      <td>1</td>\n",
       "      <td>16.386990</td>\n",
       "    </tr>\n",
       "    <tr>\n",
       "      <th>3</th>\n",
       "      <td>0.376697</td>\n",
       "      <td>0.645956</td>\n",
       "      <td>0.571590</td>\n",
       "      <td>0.882415</td>\n",
       "      <td>0.807404</td>\n",
       "      <td>1</td>\n",
       "      <td>-1.036533</td>\n",
       "    </tr>\n",
       "    <tr>\n",
       "      <th>4</th>\n",
       "      <td>1.775607</td>\n",
       "      <td>-0.248942</td>\n",
       "      <td>0.817451</td>\n",
       "      <td>0.255278</td>\n",
       "      <td>1.814282</td>\n",
       "      <td>0</td>\n",
       "      <td>6.517313</td>\n",
       "    </tr>\n",
       "  </tbody>\n",
       "</table>\n",
       "</div>"
      ],
      "text/plain": [
       "         X1        X2        X3        X4        X5  T          Y\n",
       "0  1.107175  1.904445  1.430844  1.426488  0.765378  1  -0.261765\n",
       "1  0.524774  3.105881  1.668980  3.004682 -0.386301  1  -3.749738\n",
       "2  1.469082  1.833303  1.626939  2.691975  0.364300  1  16.386990\n",
       "3  0.376697  0.645956  0.571590  0.882415  0.807404  1  -1.036533\n",
       "4  1.775607 -0.248942  0.817451  0.255278  1.814282  0   6.517313"
      ]
     },
     "execution_count": 183,
     "metadata": {},
     "output_type": "execute_result"
    }
   ],
   "source": [
    "mu = np.array([1,1,1,1,1])\n",
    "sigma = np.array(\n",
    "    [\n",
    "        [1.0, 0.5, -0.5, -0.5, -0.5],\n",
    "        [0.5, 1.0, 0.5, 1.0, -0.5],\n",
    "        [-0.5, 0.5, 1.0, 0.5, 0.5],\n",
    "        [-0.5, 1.0, 0.5, 1.0, -0.5],\n",
    "        [-0.5, -0.5, 0.5, -0.5, 1.0],\n",
    "    ]\n",
    ")\n",
    "\n",
    "X = np.random.multivariate_normal(mu, sigma, n)\n",
    "\n",
    "X1 = X[:,0]\n",
    "X2 = X[:,1]\n",
    "X3 = X[:,2]\n",
    "X4 = X[:,3]\n",
    "X5 = X[:,4]\n",
    "\n",
    "alpha = np.array([1,-1,2,2,-2])\n",
    "beta = np.array([5,-3,-1,2,-2])\n",
    "\n",
    "T = np.random.binomial(1, np.power(1+np.exp(- X @ alpha), -1))\n",
    "Y = np.random.normal((X @ beta)*(1 + 2*T), 1, n)\n",
    "\n",
    "df3 = pd.DataFrame(\n",
    "    {\"X1\": X1, \"X2\": X2, \"X3\": X3, \"X4\": X4, \"X5\": X5, \"T\": T, \"Y\":Y},\n",
    "    index=np.arange(0,n)\n",
    ")\n",
    "df3.head()"
   ]
  },
  {
   "cell_type": "code",
   "execution_count": 184,
   "metadata": {},
   "outputs": [
    {
     "data": {
      "text/html": [
       "<svg xmlns=\"http://www.w3.org/2000/svg\" xmlns:xlink=\"http://www.w3.org/1999/xlink\" width=\"180pt\" height=\"117pt\" viewBox=\"0.00 0.00 180.00 117.05\">\n",
       "<g id=\"graph0\" class=\"graph\" transform=\"scale(0.51 0.51) rotate(0) translate(4 223.6)\">\n",
       "<title>G</title>\n",
       "<!-- U -->\n",
       "<g id=\"node1\" class=\"node\">\n",
       "<title>U</title>\n",
       "<ellipse fill=\"#404040\" stroke=\"#4a4a4a\" cx=\"171\" cy=\"-217.8\" rx=\"1.8\" ry=\"1.8\"/>\n",
       "</g>\n",
       "<!-- X1 -->\n",
       "<g id=\"node2\" class=\"node\">\n",
       "<title>X1</title>\n",
       "<ellipse fill=\"#404040\" stroke=\"#4a4a4a\" cx=\"27\" cy=\"-162\" rx=\"27\" ry=\"18\"/>\n",
       "<text text-anchor=\"middle\" x=\"27\" y=\"-158.3\" font-family=\"Times,serif\" font-size=\"14.00\" fill=\"white\">X1</text>\n",
       "</g>\n",
       "<!-- U&#45;&gt;X1 -->\n",
       "<g id=\"edge5\" class=\"edge\">\n",
       "<title>U-&gt;X1</title>\n",
       "<path fill=\"none\" stroke=\"#4a4a4a\" stroke-dasharray=\"5,2\" d=\"M169.45,-216.35C159.69,-213.46 105.6,-197.25 63,-180 61.17,-179.26 59.31,-178.48 57.44,-177.66\"/>\n",
       "<polygon fill=\"#4a4a4a\" stroke=\"#4a4a4a\" points=\"58.7,-174.39 48.14,-173.47 55.82,-180.77 58.7,-174.39\"/>\n",
       "</g>\n",
       "<!-- X2 -->\n",
       "<g id=\"node3\" class=\"node\">\n",
       "<title>X2</title>\n",
       "<ellipse fill=\"#404040\" stroke=\"#4a4a4a\" cx=\"99\" cy=\"-162\" rx=\"27\" ry=\"18\"/>\n",
       "<text text-anchor=\"middle\" x=\"99\" y=\"-158.3\" font-family=\"Times,serif\" font-size=\"14.00\" fill=\"white\">X2</text>\n",
       "</g>\n",
       "<!-- U&#45;&gt;X2 -->\n",
       "<g id=\"edge2\" class=\"edge\">\n",
       "<title>U-&gt;X2</title>\n",
       "<path fill=\"none\" stroke=\"#4a4a4a\" stroke-dasharray=\"5,2\" d=\"M169.98,-216.04C165,-212.32 142.7,-195.65 124.41,-181.98\"/>\n",
       "<polygon fill=\"#4a4a4a\" stroke=\"#4a4a4a\" points=\"126.47,-179.15 116.36,-175.97 122.28,-184.76 126.47,-179.15\"/>\n",
       "</g>\n",
       "<!-- X3 -->\n",
       "<g id=\"node4\" class=\"node\">\n",
       "<title>X3</title>\n",
       "<ellipse fill=\"#404040\" stroke=\"#4a4a4a\" cx=\"171\" cy=\"-162\" rx=\"27\" ry=\"18\"/>\n",
       "<text text-anchor=\"middle\" x=\"171\" y=\"-158.3\" font-family=\"Times,serif\" font-size=\"14.00\" fill=\"white\">X3</text>\n",
       "</g>\n",
       "<!-- U&#45;&gt;X3 -->\n",
       "<g id=\"edge13\" class=\"edge\">\n",
       "<title>U-&gt;X3</title>\n",
       "<path fill=\"none\" stroke=\"#4a4a4a\" stroke-dasharray=\"5,2\" d=\"M171,-215.87C171,-212.64 171,-201.55 171,-190.35\"/>\n",
       "<polygon fill=\"#4a4a4a\" stroke=\"#4a4a4a\" points=\"174.5,-190.26 171,-180.26 167.5,-190.26 174.5,-190.26\"/>\n",
       "</g>\n",
       "<!-- X4 -->\n",
       "<g id=\"node5\" class=\"node\">\n",
       "<title>X4</title>\n",
       "<ellipse fill=\"#404040\" stroke=\"#4a4a4a\" cx=\"243\" cy=\"-162\" rx=\"27\" ry=\"18\"/>\n",
       "<text text-anchor=\"middle\" x=\"243\" y=\"-158.3\" font-family=\"Times,serif\" font-size=\"14.00\" fill=\"white\">X4</text>\n",
       "</g>\n",
       "<!-- U&#45;&gt;X4 -->\n",
       "<g id=\"edge7\" class=\"edge\">\n",
       "<title>U-&gt;X4</title>\n",
       "<path fill=\"none\" stroke=\"#4a4a4a\" stroke-dasharray=\"5,2\" d=\"M172.02,-216.04C177,-212.32 199.3,-195.65 217.59,-181.98\"/>\n",
       "<polygon fill=\"#4a4a4a\" stroke=\"#4a4a4a\" points=\"219.72,-184.76 225.64,-175.97 215.53,-179.15 219.72,-184.76\"/>\n",
       "</g>\n",
       "<!-- X5 -->\n",
       "<g id=\"node6\" class=\"node\">\n",
       "<title>X5</title>\n",
       "<ellipse fill=\"#404040\" stroke=\"#4a4a4a\" cx=\"315\" cy=\"-162\" rx=\"27\" ry=\"18\"/>\n",
       "<text text-anchor=\"middle\" x=\"315\" y=\"-158.3\" font-family=\"Times,serif\" font-size=\"14.00\" fill=\"white\">X5</text>\n",
       "</g>\n",
       "<!-- U&#45;&gt;X5 -->\n",
       "<g id=\"edge1\" class=\"edge\">\n",
       "<title>U-&gt;X5</title>\n",
       "<path fill=\"none\" stroke=\"#4a4a4a\" stroke-dasharray=\"5,2\" d=\"M172.55,-216.35C182.31,-213.46 236.4,-197.25 279,-180 280.83,-179.26 282.69,-178.48 284.56,-177.66\"/>\n",
       "<polygon fill=\"#4a4a4a\" stroke=\"#4a4a4a\" points=\"286.18,-180.77 293.86,-173.47 283.3,-174.39 286.18,-180.77\"/>\n",
       "</g>\n",
       "<!-- Y -->\n",
       "<g id=\"node7\" class=\"node\">\n",
       "<title>Y</title>\n",
       "<ellipse fill=\"#404040\" stroke=\"#4a4a4a\" cx=\"162\" cy=\"-18\" rx=\"27\" ry=\"18\"/>\n",
       "<text text-anchor=\"middle\" x=\"162\" y=\"-14.3\" font-family=\"Times,serif\" font-size=\"14.00\" fill=\"white\">Y</text>\n",
       "</g>\n",
       "<!-- X1&#45;&gt;Y -->\n",
       "<g id=\"edge11\" class=\"edge\">\n",
       "<title>X1-&gt;Y</title>\n",
       "<path fill=\"none\" stroke=\"#4a4a4a\" d=\"M40.21,-145.65C63.96,-120.67 112.39,-69.73 140.26,-40.41\"/>\n",
       "<path fill=\"none\" stroke=\"#4a4a4a\" d=\"M41.66,-147.03C65.41,-122.05 113.84,-71.11 141.71,-41.79\"/>\n",
       "<polygon fill=\"#4a4a4a\" stroke=\"#4a4a4a\" points=\"143.58,-43.45 147.93,-33.79 138.51,-38.63 143.58,-43.45\"/>\n",
       "</g>\n",
       "<!-- T -->\n",
       "<g id=\"node8\" class=\"node\">\n",
       "<title>T</title>\n",
       "<ellipse fill=\"#404040\" stroke=\"#4a4a4a\" cx=\"190\" cy=\"-90\" rx=\"27\" ry=\"18\"/>\n",
       "<text text-anchor=\"middle\" x=\"190\" y=\"-86.3\" font-family=\"Times,serif\" font-size=\"14.00\" fill=\"white\">T</text>\n",
       "</g>\n",
       "<!-- X1&#45;&gt;T -->\n",
       "<g id=\"edge8\" class=\"edge\">\n",
       "<title>X1-&gt;T</title>\n",
       "<path fill=\"none\" stroke=\"#4a4a4a\" d=\"M47.82,-149.86C52.66,-147.59 57.78,-145.23 62.59,-143.09 94.75,-128.79 131.92,-113.41 157.72,-102.92\"/>\n",
       "<path fill=\"none\" stroke=\"#4a4a4a\" d=\"M48.67,-151.67C53.5,-149.41 58.62,-147.04 63.41,-144.91 95.52,-130.64 132.69,-115.26 158.47,-104.77\"/>\n",
       "<polygon fill=\"#4a4a4a\" stroke=\"#4a4a4a\" points=\"159.43,-107.08 167.38,-100.07 156.8,-100.59 159.43,-107.08\"/>\n",
       "</g>\n",
       "<!-- X2&#45;&gt;Y -->\n",
       "<g id=\"edge4\" class=\"edge\">\n",
       "<title>X2-&gt;Y</title>\n",
       "<path fill=\"none\" stroke=\"#4a4a4a\" d=\"M105.44,-144.03C116.3,-119.55 136.72,-73.51 149.58,-44.53\"/>\n",
       "<path fill=\"none\" stroke=\"#4a4a4a\" d=\"M107.26,-144.84C118.12,-120.36 138.55,-74.32 151.41,-45.34\"/>\n",
       "<polygon fill=\"#4a4a4a\" stroke=\"#4a4a4a\" points=\"153.84,-46.02 154.7,-35.46 147.44,-43.18 153.84,-46.02\"/>\n",
       "</g>\n",
       "<!-- X2&#45;&gt;T -->\n",
       "<g id=\"edge14\" class=\"edge\">\n",
       "<title>X2-&gt;T</title>\n",
       "<path fill=\"none\" stroke=\"#4a4a4a\" d=\"M115.51,-147.04C129.23,-136.48 148.7,-121.51 164.21,-109.58\"/>\n",
       "<path fill=\"none\" stroke=\"#4a4a4a\" d=\"M116.73,-148.63C130.45,-138.07 149.92,-123.09 165.43,-111.17\"/>\n",
       "<polygon fill=\"#4a4a4a\" stroke=\"#4a4a4a\" points=\"167.17,-112.98 172.96,-104.11 162.9,-107.43 167.17,-112.98\"/>\n",
       "</g>\n",
       "<!-- X3&#45;&gt;Y -->\n",
       "<g id=\"edge15\" class=\"edge\">\n",
       "<title>X3-&gt;Y</title>\n",
       "<path fill=\"none\" stroke=\"#4a4a4a\" d=\"M163.17,-144.49C159.34,-134.19 154.99,-120.72 153.01,-108.15 149.77,-87.21 152.17,-63.59 155.17,-45.82\"/>\n",
       "<path fill=\"none\" stroke=\"#4a4a4a\" d=\"M165.05,-143.79C161.25,-133.58 156.89,-120.1 154.99,-107.85 151.76,-87.41 154.16,-63.8 157.14,-46.16\"/>\n",
       "<polygon fill=\"#4a4a4a\" stroke=\"#4a4a4a\" points=\"159.66,-46.28 158.05,-35.81 152.78,-45 159.66,-46.28\"/>\n",
       "</g>\n",
       "<!-- X3&#45;&gt;T -->\n",
       "<g id=\"edge10\" class=\"edge\">\n",
       "<title>X3-&gt;T</title>\n",
       "<path fill=\"none\" stroke=\"#4a4a4a\" d=\"M174.63,-143.79C176.78,-135.88 179.39,-126.28 181.79,-117.43\"/>\n",
       "<path fill=\"none\" stroke=\"#4a4a4a\" d=\"M176.56,-144.32C178.71,-136.41 181.32,-126.8 183.72,-117.95\"/>\n",
       "<polygon fill=\"#4a4a4a\" stroke=\"#4a4a4a\" points=\"186.2,-118.36 185.44,-107.79 179.45,-116.52 186.2,-118.36\"/>\n",
       "</g>\n",
       "<!-- X4&#45;&gt;Y -->\n",
       "<g id=\"edge16\" class=\"edge\">\n",
       "<title>X4-&gt;Y</title>\n",
       "<path fill=\"none\" stroke=\"#4a4a4a\" d=\"M242.09,-143.76C241.46,-124.96 238.22,-94.45 225.14,-72.51 216.75,-58.22 202.65,-45.9 189.94,-36.87\"/>\n",
       "<path fill=\"none\" stroke=\"#4a4a4a\" d=\"M244.09,-143.69C243.45,-124.75 240.2,-94.24 226.86,-71.49 218.07,-56.72 203.96,-44.4 191.1,-35.24\"/>\n",
       "<polygon fill=\"#4a4a4a\" stroke=\"#4a4a4a\" points=\"192.21,-32.98 181.96,-30.29 188.3,-38.78 192.21,-32.98\"/>\n",
       "</g>\n",
       "<!-- X4&#45;&gt;T -->\n",
       "<g id=\"edge12\" class=\"edge\">\n",
       "<title>X4-&gt;T</title>\n",
       "<path fill=\"none\" stroke=\"#4a4a4a\" d=\"M230.44,-146.07C223.58,-137.01 214.78,-125.39 207.08,-115.22\"/>\n",
       "<path fill=\"none\" stroke=\"#4a4a4a\" d=\"M232.03,-144.86C225.17,-135.8 216.38,-124.18 208.67,-114.01\"/>\n",
       "<polygon fill=\"#4a4a4a\" stroke=\"#4a4a4a\" points=\"210.56,-112.35 201.73,-106.49 204.98,-116.58 210.56,-112.35\"/>\n",
       "</g>\n",
       "<!-- X5&#45;&gt;Y -->\n",
       "<g id=\"edge9\" class=\"edge\">\n",
       "<title>X5-&gt;Y</title>\n",
       "<path fill=\"none\" stroke=\"#4a4a4a\" d=\"M304.36,-145.72C292.14,-126.83 269.79,-94.91 245.33,-72.74 229.2,-58.08 208.32,-44.88 191.49,-35.38\"/>\n",
       "<path fill=\"none\" stroke=\"#4a4a4a\" d=\"M306.04,-144.64C293.78,-125.68 271.43,-93.77 246.67,-71.26 230.27,-56.39 209.39,-43.19 192.47,-33.64\"/>\n",
       "<polygon fill=\"#4a4a4a\" stroke=\"#4a4a4a\" points=\"193.52,-31.36 183.07,-29.6 190.14,-37.49 193.52,-31.36\"/>\n",
       "</g>\n",
       "<!-- X5&#45;&gt;T -->\n",
       "<g id=\"edge6\" class=\"edge\">\n",
       "<title>X5-&gt;T</title>\n",
       "<path fill=\"none\" stroke=\"#4a4a4a\" d=\"M294.43,-150.63C273.84,-139.09 241.61,-121.05 218.31,-108\"/>\n",
       "<path fill=\"none\" stroke=\"#4a4a4a\" d=\"M295.41,-148.88C274.81,-137.35 242.59,-119.3 219.28,-106.25\"/>\n",
       "<polygon fill=\"#4a4a4a\" stroke=\"#4a4a4a\" points=\"220.47,-104.05 210.03,-102.22 217.05,-110.16 220.47,-104.05\"/>\n",
       "</g>\n",
       "<!-- T&#45;&gt;Y -->\n",
       "<g id=\"edge3\" class=\"edge\">\n",
       "<title>T-&gt;Y</title>\n",
       "<path fill=\"none\" stroke=\"#4a4a4a\" d=\"M182.44,-72.78C179.16,-64.59 175.13,-54.51 171.45,-45.33\"/>\n",
       "<path fill=\"none\" stroke=\"#4a4a4a\" d=\"M184.29,-72.04C181.02,-63.85 176.98,-53.77 173.31,-44.58\"/>\n",
       "<polygon fill=\"#4a4a4a\" stroke=\"#4a4a4a\" points=\"175.55,-43.45 168.59,-35.47 169.05,-46.05 175.55,-43.45\"/>\n",
       "</g>\n",
       "</g>\n",
       "</svg>"
      ],
      "text/plain": [
       "<pyAgrum.causal._CausalModel.CausalModel at 0x7407320e9150>"
      ]
     },
     "execution_count": 184,
     "metadata": {},
     "output_type": "execute_result"
    }
   ],
   "source": [
    "bn3 = gum.BayesNet()\n",
    "\n",
    "bn3.beginTopologyTransformation()\n",
    "\n",
    "bn3.add(getDiscretizedVariable(\"X1\", -4,6, 3))\n",
    "bn3.add(getDiscretizedVariable(\"X2\", -4,6, 3))\n",
    "bn3.add(getDiscretizedVariable(\"X3\", -4,6, 3))\n",
    "bn3.add(getDiscretizedVariable(\"X4\", -4,6, 3))\n",
    "bn3.add(getDiscretizedVariable(\"X5\", -4,6, 3))\n",
    "bn3.add(getDiscretizedVariable(\"Y\", -100,100, 100))\n",
    "bn3.add(gum.IntegerVariable(\"T\", \"T\", [0,1]))\n",
    "\n",
    "bn3.addArc(\"X1\", \"T\")\n",
    "bn3.addArc(\"X2\", \"T\")\n",
    "bn3.addArc(\"X3\", \"T\")\n",
    "bn3.addArc(\"X4\", \"T\")\n",
    "bn3.addArc(\"X5\", \"T\")\n",
    "bn3.addArc(\"X1\", \"Y\")\n",
    "bn3.addArc(\"X2\", \"Y\")\n",
    "bn3.addArc(\"X3\", \"Y\")\n",
    "bn3.addArc(\"X4\", \"Y\")\n",
    "bn3.addArc(\"X5\", \"Y\")\n",
    "bn3.addArc(\"T\", \"Y\")\n",
    "\n",
    "bn3.cpt(\"X1\").fillFromDistribution(norm, loc=1, scale=1)\n",
    "bn3.cpt(\"X2\").fillFromDistribution(norm, loc=1, scale=1)\n",
    "bn3.cpt(\"X3\").fillFromDistribution(norm, loc=1, scale=1)\n",
    "bn3.cpt(\"X4\").fillFromDistribution(norm, loc=1, scale=1)\n",
    "bn3.cpt(\"X5\").fillFromDistribution(norm, loc=1, scale=1)\n",
    "bn3.cpt(\"T\").fillFromDistribution(logistic, loc=\"X1 - X2 + 2*X3 + 2*X4 - 2*X5\", scale=1)\n",
    "bn3.cpt(\"Y\").fillFromDistribution(norm, loc=\"(5*X1 - 3*X2 - X3 + 2*X4 - 2*X5) * (1 + 2*T)\", scale=1)\n",
    "\n",
    "bn3.endTopologyTransformation()\n",
    "\n",
    "cslbn3 = csl.CausalModel(bn3)\n",
    "cslbn3.addLatentVariable(\"U\", (\"X1\", \"X2\", \"X3\", \"X4\", \"X5\"))\n",
    "\n",
    "cslbn3"
   ]
  },
  {
   "cell_type": "code",
   "execution_count": 185,
   "metadata": {},
   "outputs": [
    {
     "data": {
      "text/plain": [
       "1.9999995506112345"
      ]
     },
     "execution_count": 185,
     "metadata": {},
     "output_type": "execute_result"
    }
   ],
   "source": [
    "getATEfromCBN(cslbn3)"
   ]
  },
  {
   "cell_type": "code",
   "execution_count": 186,
   "metadata": {},
   "outputs": [
    {
     "name": "stdout",
     "output_type": "stream",
     "text": [
      "Backdoor adjustment found. \n",
      "\n",
      "Supported estimators include:\n",
      "- CausalModelEstimator\n",
      "- SLearner\n",
      "- TLearner\n",
      "- XLearner\n",
      "- PStratification\n",
      "- IPW\n"
     ]
    },
    {
     "data": {
      "text/plain": [
       "'Backdoor'"
      ]
     },
     "execution_count": 186,
     "metadata": {},
     "output_type": "execute_result"
    }
   ],
   "source": [
    "po3 = csl.CausalEffectEstimation(df3, cslbn3)\n",
    "po3.identifyAdjustmentSet(intervention=\"T\", outcome=\"Y\")"
   ]
  },
  {
   "cell_type": "code",
   "execution_count": 187,
   "metadata": {},
   "outputs": [
    {
     "name": "stdout",
     "output_type": "stream",
     "text": [
      "<pyAgrum.causal.causalEffectEstimation._CausalEffectEstimation.CausalEffectEstimation object at 0x7407321d9120>\n",
      "\n",
      " Dataframe\t: <pandas.core.frame.DataFrame object at 0x74073179ae30>\n",
      "\t- shape\t\t: (1000000, 7)\n",
      "\t- columns\t: Index(['X1', 'X2', 'X3', 'X4', 'X5', 'T', 'Y'], dtype='object')\n",
      "\t- memory usage\t: 64.0 MB\n",
      " Causal Model\t: <pyAgrum.causal._CausalModel.CausalModel object at 0x7407320e9150>\n",
      "\t- names\t\t: {0: 'X1', 1: 'X2', 2: 'X3', 3: 'X4', 4: 'X5', 5: 'Y', 6: 'T', 7: 'U'}\n",
      "\t- causal BN\t: BN{nodes: 8, arcs: 16, domainSize: 97200, dim: 48378, mem: 383Ko 752o}\n",
      "\t- observ. BN\t: BN{nodes: 7, arcs: 11, domainSize: 48600, dim: 48367, mem: 383Ko 616o}\n",
      " Adjustment\t: Backdoor\n",
      " Intervention\t: T\n",
      " Outcome\t: Y\n",
      " Confounders\t: {'X2', 'X1', 'X5', 'X3', 'X4'}\n"
     ]
    }
   ],
   "source": [
    "print(po3)"
   ]
  },
  {
   "cell_type": "code",
   "execution_count": 188,
   "metadata": {},
   "outputs": [
    {
     "data": {
      "text/plain": [
       "5.691838110160974"
      ]
     },
     "execution_count": 188,
     "metadata": {},
     "output_type": "execute_result"
    }
   ],
   "source": [
    "po3.fitCausalBNEstimator()\n",
    "po3.estimateCausalEffect()"
   ]
  },
  {
   "cell_type": "code",
   "execution_count": 189,
   "metadata": {},
   "outputs": [
    {
     "data": {
      "text/plain": [
       "-0.013035946102707648"
      ]
     },
     "execution_count": 189,
     "metadata": {},
     "output_type": "execute_result"
    }
   ],
   "source": [
    "po3.fitSLearner()\n",
    "po3.estimateCausalEffect()"
   ]
  },
  {
   "cell_type": "code",
   "execution_count": 190,
   "metadata": {},
   "outputs": [
    {
     "data": {
      "text/plain": [
       "1.7051575"
      ]
     },
     "execution_count": 190,
     "metadata": {},
     "output_type": "execute_result"
    }
   ],
   "source": [
    "po3.fitSLearner(learner=\"XGBRegressor\")\n",
    "po3.estimateCausalEffect()"
   ]
  },
  {
   "cell_type": "code",
   "execution_count": 191,
   "metadata": {},
   "outputs": [
    {
     "data": {
      "text/plain": [
       "2.015867550691381"
      ]
     },
     "execution_count": 191,
     "metadata": {},
     "output_type": "execute_result"
    }
   ],
   "source": [
    "po3.fitTLearner()\n",
    "po3.estimateCausalEffect()"
   ]
  },
  {
   "cell_type": "code",
   "execution_count": 192,
   "metadata": {},
   "outputs": [
    {
     "data": {
      "text/plain": [
       "2.015867550647617"
      ]
     },
     "execution_count": 192,
     "metadata": {},
     "output_type": "execute_result"
    }
   ],
   "source": [
    "po3.fitXLearner()\n",
    "po3.estimateCausalEffect()"
   ]
  },
  {
   "cell_type": "code",
   "execution_count": 193,
   "metadata": {},
   "outputs": [
    {
     "data": {
      "text/plain": [
       "2.0729018115415783"
      ]
     },
     "execution_count": 193,
     "metadata": {},
     "output_type": "execute_result"
    }
   ],
   "source": [
    "po3.fitPStratification(num_strata=50)\n",
    "po3.estimateCausalEffect()"
   ]
  },
  {
   "cell_type": "code",
   "execution_count": 194,
   "metadata": {},
   "outputs": [
    {
     "data": {
      "text/plain": [
       "2.2258507842889723"
      ]
     },
     "execution_count": 194,
     "metadata": {},
     "output_type": "execute_result"
    }
   ],
   "source": [
    "po3.fitIPW()\n",
    "po3.estimateCausalEffect()"
   ]
  },
  {
   "cell_type": "markdown",
   "metadata": {
    "vscode": {
     "languageId": "latex"
    }
   },
   "source": [
    "# Linear Frontdoor\n",
    "\n",
    "$$\n",
    "U \\sim \\mathcal{N}(1,1) \\\\\n",
    "T \\sim \\mathcal{B}((1+e^{-U})^{-1}) \\\\\n",
    "M \\sim \\mathcal{N}(T,1) \\\\\n",
    "Y \\sim \\mathcal{N}(U + 2M, 1)\n",
    "$$\n",
    "\n",
    "$$\n",
    "\\begin{align*}\n",
    "\n",
    "\\tau &= \\mathbb{E}[Y \\mid do(T=1)] - \\mathbb{E}[Y \\mid do(T=0)] \\\\\n",
    "\n",
    "&= \\int_{\\Omega} Y(\\omega)  d\\mathbb{P}[\\omega \\mid do(T=1)] - \\int_{\\Omega} Y(\\omega)  d\\mathbb{P}[\\omega \\mid do(T=0)] \\\\\n",
    "\n",
    "&= \\int_{Y(\\Omega)} y \\left( f_{Y\\mid do(T=1)}(y) - f_{Y\\mid do(T=0)}(y) \\right) dy \\\\\n",
    "\n",
    "&= \\int_{Y(\\Omega)} y \\left( \\int_{M(\\Omega)} \\left( \\left( f_{M \\mid T=1}(m) - f_{M \\mid T=0}(m) \\right) \\sum_{t'\\in T(\\Omega)} f_{Y \\mid M=m, T=t'}(y) \\mathbb{P}[T=t'] \\right) dm \\right) dy\\\\\n",
    "\n",
    "&= \\int_{M(\\Omega)} \\left( f_{M \\mid T=1}(m) - f_{M \\mid T=0}(m) \\right) \\sum_{t'\\in T(\\Omega)} \\mathbb{P}[T=t'] \\left( \\int_{Y(\\Omega)} y  f_{Y \\mid M=m, T=t'}(y) dy \\right) dm\\\\\n",
    "\n",
    "&= \\int_{M(\\Omega)} \\left( f_{M \\mid T=1}(m) - f_{M \\mid T=0}(m) \\right) \\underbrace{\\mathbb{E}_{T} \\left[ \\mathbb{E}_{Y} [Y \\mid T, M=m] \\right]}_{(*)} dm\n",
    "\n",
    "\\end{align*}\n",
    "$$\n",
    "\n",
    "$$\n",
    "\\begin{align*}\n",
    "\n",
    "(*) &= \\mathbb{E}_{T} \\left[ \\mathbb{E}_{U} [U\\mid T] \\right]+2m \\\\\n",
    "\n",
    "%&= \\mathbb{P}[T=0]\\mathbb{E}_{U} [U\\mid T=0] + \\mathbb{P}[T=1]\\mathbb{E}_{U} [U\\mid T=1] + 2m \\\\\n",
    "\n",
    "%&= \\int_{U(\\Omega)} u \\left( \\mathbb{P}[T=0] f_{U\\mid T=0}(u) + \\mathbb{P}[T=1]f_{U\\mid T=1}(u)\\right) du  + 2m \\\\ \n",
    "\n",
    "%&= \\int_{U(\\Omega)} u \\left( \\mathbb{P}[T=0\\mid U=u] f_{U}(u) + \\mathbb{P}[T=1\\mid U=u] f_{U}(u)\\right) du  + 2m \\\\ \n",
    "\n",
    "&=  \\mathbb{E}_{U} [U]+2m \\\\\n",
    "&=  1+2m \\\\\n",
    "\n",
    "\\end{align*}\n",
    "$$\n",
    "\n",
    "$$\n",
    "\\begin{align*}\n",
    "\\tau &= \\int_{M(\\Omega)} \\left( f_{M \\mid T=1}(m) - f_{M \\mid T=0}(m) \\right) (1+2m) dm \\\\\n",
    "&= 2\\left( \\mathbb{E}_M[M \\mid T=1] - \\mathbb{E}_M[M \\mid T=0] \\right) \\\\\n",
    "&= 2(1-0) \\\\\n",
    "&= 2\n",
    "\n",
    "\\end{align*}\n",
    "$$"
   ]
  },
  {
   "cell_type": "code",
   "execution_count": 247,
   "metadata": {},
   "outputs": [
    {
     "data": {
      "text/html": [
       "<div>\n",
       "<style scoped>\n",
       "    .dataframe tbody tr th:only-of-type {\n",
       "        vertical-align: middle;\n",
       "    }\n",
       "\n",
       "    .dataframe tbody tr th {\n",
       "        vertical-align: top;\n",
       "    }\n",
       "\n",
       "    .dataframe thead th {\n",
       "        text-align: right;\n",
       "    }\n",
       "</style>\n",
       "<table border=\"1\" class=\"dataframe\">\n",
       "  <thead>\n",
       "    <tr style=\"text-align: right;\">\n",
       "      <th></th>\n",
       "      <th>M</th>\n",
       "      <th>T</th>\n",
       "      <th>Y</th>\n",
       "    </tr>\n",
       "  </thead>\n",
       "  <tbody>\n",
       "    <tr>\n",
       "      <th>0</th>\n",
       "      <td>3.013356</td>\n",
       "      <td>1</td>\n",
       "      <td>6.428790</td>\n",
       "    </tr>\n",
       "    <tr>\n",
       "      <th>1</th>\n",
       "      <td>-0.625273</td>\n",
       "      <td>1</td>\n",
       "      <td>-1.769808</td>\n",
       "    </tr>\n",
       "    <tr>\n",
       "      <th>2</th>\n",
       "      <td>1.670314</td>\n",
       "      <td>1</td>\n",
       "      <td>6.414448</td>\n",
       "    </tr>\n",
       "    <tr>\n",
       "      <th>3</th>\n",
       "      <td>1.133898</td>\n",
       "      <td>1</td>\n",
       "      <td>3.316626</td>\n",
       "    </tr>\n",
       "    <tr>\n",
       "      <th>4</th>\n",
       "      <td>1.433072</td>\n",
       "      <td>1</td>\n",
       "      <td>2.056731</td>\n",
       "    </tr>\n",
       "  </tbody>\n",
       "</table>\n",
       "</div>"
      ],
      "text/plain": [
       "          M  T         Y\n",
       "0  3.013356  1  6.428790\n",
       "1 -0.625273  1 -1.769808\n",
       "2  1.670314  1  6.414448\n",
       "3  1.133898  1  3.316626\n",
       "4  1.433072  1  2.056731"
      ]
     },
     "execution_count": 247,
     "metadata": {},
     "output_type": "execute_result"
    }
   ],
   "source": [
    "U = np.random.normal(1, 1, n)\n",
    "T = np.random.binomial(1, np.power(1+np.exp(-U), -1))\n",
    "M = np.random.normal(T, 1, n)\n",
    "Y = np.random.normal(U + 2*M, 1, n)\n",
    "df4 = pd.DataFrame({\"M\": M, \"T\": T, \"Y\": Y}, index=np.arange(0,n))\n",
    "df4.head()"
   ]
  },
  {
   "cell_type": "code",
   "execution_count": 248,
   "metadata": {},
   "outputs": [
    {
     "data": {
      "text/html": [
       "<svg xmlns=\"http://www.w3.org/2000/svg\" xmlns:xlink=\"http://www.w3.org/1999/xlink\" width=\"71pt\" height=\"180pt\" viewBox=\"0.00 0.00 71.18 180.00\">\n",
       "<g id=\"graph0\" class=\"graph\" transform=\"scale(0.79 0.79) rotate(0) translate(4 223.6)\">\n",
       "<title>G</title>\n",
       "<!-- u -->\n",
       "<g id=\"node1\" class=\"node\">\n",
       "<title>u</title>\n",
       "<ellipse fill=\"#404040\" stroke=\"#4a4a4a\" cx=\"27\" cy=\"-217.8\" rx=\"1.8\" ry=\"1.8\"/>\n",
       "</g>\n",
       "<!-- Y -->\n",
       "<g id=\"node3\" class=\"node\">\n",
       "<title>Y</title>\n",
       "<ellipse fill=\"#404040\" stroke=\"#4a4a4a\" cx=\"27\" cy=\"-18\" rx=\"27\" ry=\"18\"/>\n",
       "<text text-anchor=\"middle\" x=\"27\" y=\"-14.3\" font-family=\"Times,serif\" font-size=\"14.00\" fill=\"white\">Y</text>\n",
       "</g>\n",
       "<!-- u&#45;&gt;Y -->\n",
       "<g id=\"edge4\" class=\"edge\">\n",
       "<title>u-&gt;Y</title>\n",
       "<path fill=\"none\" stroke=\"#4a4a4a\" stroke-dasharray=\"5,2\" d=\"M26.73,-215.9C25.52,-211.82 20.56,-194.56 19,-180 13.87,-132.27 15.41,-119.87 19,-72 19.64,-63.52 20.84,-54.34 22.12,-46.04\"/>\n",
       "<polygon fill=\"#4a4a4a\" stroke=\"#4a4a4a\" points=\"25.58,-46.55 23.75,-36.11 18.68,-45.41 25.58,-46.55\"/>\n",
       "</g>\n",
       "<!-- T -->\n",
       "<g id=\"node4\" class=\"node\">\n",
       "<title>T</title>\n",
       "<ellipse fill=\"#404040\" stroke=\"#4a4a4a\" cx=\"55\" cy=\"-162\" rx=\"27\" ry=\"18\"/>\n",
       "<text text-anchor=\"middle\" x=\"55\" y=\"-158.3\" font-family=\"Times,serif\" font-size=\"14.00\" fill=\"white\">T</text>\n",
       "</g>\n",
       "<!-- u&#45;&gt;T -->\n",
       "<g id=\"edge2\" class=\"edge\">\n",
       "<title>u-&gt;T</title>\n",
       "<path fill=\"none\" stroke=\"#4a4a4a\" stroke-dasharray=\"5,2\" d=\"M27.49,-215.87C29.28,-212.42 35.75,-199.99 41.96,-188.05\"/>\n",
       "<polygon fill=\"#4a4a4a\" stroke=\"#4a4a4a\" points=\"45.07,-189.66 46.58,-179.17 38.86,-186.43 45.07,-189.66\"/>\n",
       "</g>\n",
       "<!-- M -->\n",
       "<g id=\"node2\" class=\"node\">\n",
       "<title>M</title>\n",
       "<ellipse fill=\"#404040\" stroke=\"#4a4a4a\" cx=\"55\" cy=\"-90\" rx=\"27\" ry=\"18\"/>\n",
       "<text text-anchor=\"middle\" x=\"55\" y=\"-86.3\" font-family=\"Times,serif\" font-size=\"14.00\" fill=\"white\">M</text>\n",
       "</g>\n",
       "<!-- M&#45;&gt;Y -->\n",
       "<g id=\"edge1\" class=\"edge\">\n",
       "<title>M-&gt;Y</title>\n",
       "<path fill=\"none\" stroke=\"#4a4a4a\" d=\"M47.44,-72.78C44.16,-64.59 40.13,-54.51 36.45,-45.33\"/>\n",
       "<path fill=\"none\" stroke=\"#4a4a4a\" d=\"M49.29,-72.04C46.02,-63.85 41.98,-53.77 38.31,-44.58\"/>\n",
       "<polygon fill=\"#4a4a4a\" stroke=\"#4a4a4a\" points=\"40.55,-43.45 33.59,-35.47 34.05,-46.05 40.55,-43.45\"/>\n",
       "</g>\n",
       "<!-- T&#45;&gt;M -->\n",
       "<g id=\"edge3\" class=\"edge\">\n",
       "<title>T-&gt;M</title>\n",
       "<path fill=\"none\" stroke=\"#4a4a4a\" d=\"M54,-143.7C54,-135.98 54,-126.71 54,-118.11\"/>\n",
       "<path fill=\"none\" stroke=\"#4a4a4a\" d=\"M56,-143.7C56,-135.98 56,-126.71 56,-118.11\"/>\n",
       "<polygon fill=\"#4a4a4a\" stroke=\"#4a4a4a\" points=\"58.5,-118.1 55,-108.1 51.5,-118.1 58.5,-118.1\"/>\n",
       "</g>\n",
       "</g>\n",
       "</svg>"
      ],
      "text/plain": [
       "<pyAgrum.causal._CausalModel.CausalModel at 0x740731b410f0>"
      ]
     },
     "execution_count": 248,
     "metadata": {},
     "output_type": "execute_result"
    }
   ],
   "source": [
    "# Must declare the latent variables last\n",
    "\n",
    "bn4 = gum.BayesNet()\n",
    "\n",
    "bn4.beginTopologyTransformation()\n",
    "\n",
    "bn4.add(getDiscretizedVariable(\"M\", -4,6, 10))\n",
    "bn4.add(getDiscretizedVariable(\"Y\", -4,6, 100))\n",
    "bn4.add(gum.IntegerVariable(\"T\", \"T\", [0,1]))\n",
    "bn4.add(getDiscretizedVariable(\"U\", -4,6, 3))\n",
    "\n",
    "bn4.addArc(\"U\", \"T\")\n",
    "bn4.addArc(\"U\", \"Y\")\n",
    "bn4.addArc(\"T\", \"M\")\n",
    "bn4.addArc(\"M\", \"Y\")\n",
    "\n",
    "bn4.cpt(\"U\").fillFromDistribution(norm, loc=1, scale=1)\n",
    "bn4.cpt(\"T\").fillFromDistribution(logistic, loc=\"U\", scale=1)\n",
    "bn4.cpt(\"M\").fillFromDistribution(norm, loc=\"T\", scale=1)\n",
    "bn4.cpt(\"Y\").fillFromDistribution(norm, loc=\"U + 2*M\", scale=1)\n",
    "\n",
    "ie = gum.LazyPropagation(bn4)\n",
    "\n",
    "cpt_T = ie.posterior(\"T\")\n",
    "cpt_Y = ie.evidenceImpact(\"Y\", [\"T\", \"M\"])\n",
    "ie = None\n",
    "\n",
    "bn4.eraseArc(\"U\", \"T\")\n",
    "bn4.eraseArc(\"U\", \"Y\")\n",
    "bn4.addArc(\"T\", \"Y\")\n",
    "bn4.erase(\"U\")\n",
    "\n",
    "bn4.cpt(\"T\").fillWith(cpt_T)\n",
    "bn4.cpt(\"Y\").fillWith(cpt_Y)\n",
    "\n",
    "bn4.endTopologyTransformation()\n",
    "\n",
    "cslbn4 = csl.CausalModel(bn4)\n",
    "\n",
    "cslbn4.addLatentVariable(\"u\", (\"T\", \"Y\"))\n",
    "\n",
    "cslbn4"
   ]
  },
  {
   "cell_type": "code",
   "execution_count": 249,
   "metadata": {},
   "outputs": [
    {
     "data": {
      "text/plain": [
       "1.8297935560297274"
      ]
     },
     "execution_count": 249,
     "metadata": {},
     "output_type": "execute_result"
    }
   ],
   "source": [
    "getATEfromCBN(cslbn4)"
   ]
  },
  {
   "cell_type": "code",
   "execution_count": 250,
   "metadata": {},
   "outputs": [
    {
     "name": "stdout",
     "output_type": "stream",
     "text": [
      "Generalized Frontdoor adjustment found. \n",
      "\n",
      "Supported estimators include:\n",
      "- CausalModelEstimator\n",
      "- SimplePlugIn\n",
      "- GeneralizedPlugIn\n"
     ]
    },
    {
     "data": {
      "text/plain": [
       "'Generalized Frontdoor'"
      ]
     },
     "execution_count": 250,
     "metadata": {},
     "output_type": "execute_result"
    }
   ],
   "source": [
    "po4 = csl.CausalEffectEstimation(df4, cslbn4)\n",
    "po4.identifyAdjustmentSet(intervention=\"T\", outcome=\"Y\")"
   ]
  },
  {
   "cell_type": "code",
   "execution_count": 251,
   "metadata": {},
   "outputs": [
    {
     "name": "stdout",
     "output_type": "stream",
     "text": [
      "<pyAgrum.causal.causalEffectEstimation._CausalEffectEstimation.CausalEffectEstimation object at 0x740731b43d90>\n",
      "\n",
      " Dataframe\t: <pandas.core.frame.DataFrame object at 0x740722fd2560>\n",
      "\t- shape\t\t: (1000000, 3)\n",
      "\t- columns\t: Index(['M', 'T', 'Y'], dtype='object')\n",
      "\t- memory usage\t: 32.0 MB\n",
      " Causal Model\t: <pyAgrum.causal._CausalModel.CausalModel object at 0x740731b410f0>\n",
      "\t- names\t\t: {0: 'M', 1: 'Y', 2: 'T', 3: 'u'}\n",
      "\t- causal BN\t: BN{nodes: 4, arcs: 4, domainSize: 4000, dim: 2001, mem: 15Ko 848o}\n",
      "\t- observ. BN\t: BN{nodes: 3, arcs: 3, domainSize: 2000, dim: 1999, mem: 15Ko 816o}\n",
      " Adjustment\t: Generalized Frontdoor\n",
      " Intervention\t: T\n",
      " Outcome\t: Y\n",
      " Confounders\t: set()\n",
      " Mediators\t: {'M'}\n"
     ]
    }
   ],
   "source": [
    "print(po4)"
   ]
  },
  {
   "cell_type": "code",
   "execution_count": 252,
   "metadata": {},
   "outputs": [
    {
     "data": {
      "text/plain": [
       "1.7220767832694983"
      ]
     },
     "execution_count": 252,
     "metadata": {},
     "output_type": "execute_result"
    }
   ],
   "source": [
    "po4.fitCausalBNEstimator()\n",
    "po4.estimateCausalEffect()"
   ]
  },
  {
   "cell_type": "code",
   "execution_count": 253,
   "metadata": {},
   "outputs": [
    {
     "data": {
      "text/plain": [
       "2.0020399594750926"
      ]
     },
     "execution_count": 253,
     "metadata": {},
     "output_type": "execute_result"
    }
   ],
   "source": [
    "po4.fitSimplePlugIn()\n",
    "po4.estimateCausalEffect()"
   ]
  },
  {
   "cell_type": "markdown",
   "metadata": {},
   "source": [
    "# Linear Generalized Frontdoor\n",
    "\n",
    "$$\n",
    "U \\sim \\mathcal{N}(1,1) \\\\\n",
    "X_i \\sim \\mathcal{N}(1,1) \\text{, } i \\in [\\![1,3]\\!]\\\\\n",
    "T \\sim \\mathcal{B}((1+e^{-(U + X_1 - 5X_3)})^{-1}) \\\\\n",
    "M \\sim \\mathcal{N}(T + 2X_1 - X_2,1) \\\\\n",
    "Y \\sim \\mathcal{N}(U + 2M + 3X_2 + X_3, 1)\n",
    "$$\n",
    "\n",
    "$$\n",
    "\\boldsymbol{X} =\n",
    "\\begin{pmatrix}\n",
    "X_1\\\\\n",
    "X_2\\\\\n",
    "X_3\n",
    "\\end{pmatrix}\n",
    "\\sim\n",
    "\\mathcal{N}(\n",
    "\\begin{pmatrix}\n",
    "1\\\\\n",
    "1\\\\\n",
    "1\n",
    "\\end{pmatrix}\n",
    ",\n",
    "\\begin{pmatrix}\n",
    "1 & 0 & 0\\\\\n",
    "0 & 1 & 0\\\\\n",
    "0 & 0 & 1\n",
    "\\end{pmatrix}\n",
    ")\n",
    "$$\n",
    "\n",
    "$$\n",
    "\\begin{align*}\n",
    "\n",
    "\\tau &= \\mathbb{E}[Y \\mid do(T=1)] - \\mathbb{E}[Y \\mid do(T=0)] \\\\\n",
    "\n",
    "&= \\mathbb{E}_{\\boldsymbol{X}}[ \\underbrace{ \\mathbb{E}[Y \\mid do(T=1), \\boldsymbol{X}] - \\mathbb{E}[Y \\mid do(T=0), \\boldsymbol{X}] }_{2} ] \\\\\n",
    "\n",
    "&= \\mathbb{E}_{\\boldsymbol{X}}[2]\\\\\n",
    "\n",
    "&= 2\n",
    "\\end{align*}\n",
    "$$"
   ]
  },
  {
   "cell_type": "code",
   "execution_count": 254,
   "metadata": {},
   "outputs": [
    {
     "data": {
      "text/html": [
       "<div>\n",
       "<style scoped>\n",
       "    .dataframe tbody tr th:only-of-type {\n",
       "        vertical-align: middle;\n",
       "    }\n",
       "\n",
       "    .dataframe tbody tr th {\n",
       "        vertical-align: top;\n",
       "    }\n",
       "\n",
       "    .dataframe thead th {\n",
       "        text-align: right;\n",
       "    }\n",
       "</style>\n",
       "<table border=\"1\" class=\"dataframe\">\n",
       "  <thead>\n",
       "    <tr style=\"text-align: right;\">\n",
       "      <th></th>\n",
       "      <th>U</th>\n",
       "      <th>X1</th>\n",
       "      <th>X2</th>\n",
       "      <th>X3</th>\n",
       "      <th>M</th>\n",
       "      <th>T</th>\n",
       "      <th>Y</th>\n",
       "    </tr>\n",
       "  </thead>\n",
       "  <tbody>\n",
       "    <tr>\n",
       "      <th>0</th>\n",
       "      <td>-1.042895</td>\n",
       "      <td>1.827976</td>\n",
       "      <td>0.518930</td>\n",
       "      <td>1.163559</td>\n",
       "      <td>4.358040</td>\n",
       "      <td>0</td>\n",
       "      <td>10.373389</td>\n",
       "    </tr>\n",
       "    <tr>\n",
       "      <th>1</th>\n",
       "      <td>1.011560</td>\n",
       "      <td>0.980215</td>\n",
       "      <td>1.415850</td>\n",
       "      <td>-0.316938</td>\n",
       "      <td>0.553328</td>\n",
       "      <td>1</td>\n",
       "      <td>5.829744</td>\n",
       "    </tr>\n",
       "    <tr>\n",
       "      <th>2</th>\n",
       "      <td>-0.122977</td>\n",
       "      <td>0.780433</td>\n",
       "      <td>0.811936</td>\n",
       "      <td>0.331055</td>\n",
       "      <td>0.420179</td>\n",
       "      <td>0</td>\n",
       "      <td>3.147091</td>\n",
       "    </tr>\n",
       "    <tr>\n",
       "      <th>3</th>\n",
       "      <td>1.335029</td>\n",
       "      <td>0.619752</td>\n",
       "      <td>1.446230</td>\n",
       "      <td>2.194042</td>\n",
       "      <td>0.068502</td>\n",
       "      <td>0</td>\n",
       "      <td>5.287631</td>\n",
       "    </tr>\n",
       "    <tr>\n",
       "      <th>4</th>\n",
       "      <td>0.152861</td>\n",
       "      <td>-0.600183</td>\n",
       "      <td>1.445204</td>\n",
       "      <td>0.768437</td>\n",
       "      <td>-2.827581</td>\n",
       "      <td>0</td>\n",
       "      <td>0.089457</td>\n",
       "    </tr>\n",
       "  </tbody>\n",
       "</table>\n",
       "</div>"
      ],
      "text/plain": [
       "          U        X1        X2        X3         M  T          Y\n",
       "0 -1.042895  1.827976  0.518930  1.163559  4.358040  0  10.373389\n",
       "1  1.011560  0.980215  1.415850 -0.316938  0.553328  1   5.829744\n",
       "2 -0.122977  0.780433  0.811936  0.331055  0.420179  0   3.147091\n",
       "3  1.335029  0.619752  1.446230  2.194042  0.068502  0   5.287631\n",
       "4  0.152861 -0.600183  1.445204  0.768437 -2.827581  0   0.089457"
      ]
     },
     "execution_count": 254,
     "metadata": {},
     "output_type": "execute_result"
    }
   ],
   "source": [
    "U = np.random.normal(1, 1, n)\n",
    "X1 = np.random.normal(1, 1, n)\n",
    "X2 = np.random.normal(1, 1, n)\n",
    "X3 = np.random.normal(1, 1, n)\n",
    "T = np.random.binomial(1, np.power(1+np.exp(-(U + X1 - 5*X3)), -1))\n",
    "M = np.random.normal(T + 2*X1 - X2, 1, n)\n",
    "Y = np.random.normal(U + 2*M + 3*X2 + X3, 1, n)\n",
    "df5 = pd.DataFrame({\"U\": U, \"X1\": X1, \"X2\": X2, \"X3\": X3, \"M\": M, \"T\": T, \"Y\":Y}, index=np.arange(0,n))\n",
    "df5.head()"
   ]
  },
  {
   "cell_type": "code",
   "execution_count": 255,
   "metadata": {},
   "outputs": [
    {
     "data": {
      "text/html": [
       "<svg xmlns=\"http://www.w3.org/2000/svg\" xmlns:xlink=\"http://www.w3.org/1999/xlink\" width=\"161pt\" height=\"180pt\" viewBox=\"0.00 0.00 161.29 180.00\">\n",
       "<g id=\"graph0\" class=\"graph\" transform=\"scale(0.69 0.69) rotate(0) translate(4 256)\">\n",
       "<title>G</title>\n",
       "<!-- u -->\n",
       "<g id=\"node1\" class=\"node\">\n",
       "<title>u</title>\n",
       "<ellipse fill=\"#404040\" stroke=\"#4a4a4a\" cx=\"28.97\" cy=\"-234\" rx=\"1.8\" ry=\"1.8\"/>\n",
       "</g>\n",
       "<!-- Y -->\n",
       "<g id=\"node6\" class=\"node\">\n",
       "<title>Y</title>\n",
       "<ellipse fill=\"#404040\" stroke=\"#4a4a4a\" cx=\"74.97\" cy=\"-18\" rx=\"27\" ry=\"18\"/>\n",
       "<text text-anchor=\"middle\" x=\"74.97\" y=\"-14.3\" font-family=\"Times,serif\" font-size=\"14.00\" fill=\"white\">Y</text>\n",
       "</g>\n",
       "<!-- u&#45;&gt;Y -->\n",
       "<g id=\"edge5\" class=\"edge\">\n",
       "<title>u-&gt;Y</title>\n",
       "<path fill=\"none\" stroke=\"#4a4a4a\" stroke-dasharray=\"5,2\" d=\"M28.1,-231.77C24.17,-226.17 8.16,-202.36 2.97,-180 -0.65,-164.41 -1.16,-159.46 2.97,-144 13.28,-105.43 38.68,-66.42 56.36,-42.48\"/>\n",
       "<polygon fill=\"#4a4a4a\" stroke=\"#4a4a4a\" points=\"59.26,-44.46 62.49,-34.37 53.67,-40.24 59.26,-44.46\"/>\n",
       "</g>\n",
       "<!-- T -->\n",
       "<g id=\"node7\" class=\"node\">\n",
       "<title>T</title>\n",
       "<ellipse fill=\"#404040\" stroke=\"#4a4a4a\" cx=\"110.97\" cy=\"-162\" rx=\"27\" ry=\"18\"/>\n",
       "<text text-anchor=\"middle\" x=\"110.97\" y=\"-158.3\" font-family=\"Times,serif\" font-size=\"14.00\" fill=\"white\">T</text>\n",
       "</g>\n",
       "<!-- u&#45;&gt;T -->\n",
       "<g id=\"edge3\" class=\"edge\">\n",
       "<title>u-&gt;T</title>\n",
       "<path fill=\"none\" stroke=\"#4a4a4a\" stroke-dasharray=\"5,2\" d=\"M29.89,-232.21C35.5,-227.42 65.57,-201.76 87.45,-183.07\"/>\n",
       "<polygon fill=\"#4a4a4a\" stroke=\"#4a4a4a\" points=\"89.75,-185.71 95.09,-176.56 85.21,-180.39 89.75,-185.71\"/>\n",
       "</g>\n",
       "<!-- X1 -->\n",
       "<g id=\"node2\" class=\"node\">\n",
       "<title>X1</title>\n",
       "<ellipse fill=\"#404040\" stroke=\"#4a4a4a\" cx=\"115.97\" cy=\"-234\" rx=\"27\" ry=\"18\"/>\n",
       "<text text-anchor=\"middle\" x=\"115.97\" y=\"-230.3\" font-family=\"Times,serif\" font-size=\"14.00\" fill=\"white\">X1</text>\n",
       "</g>\n",
       "<!-- M -->\n",
       "<g id=\"node5\" class=\"node\">\n",
       "<title>M</title>\n",
       "<ellipse fill=\"#404040\" stroke=\"#4a4a4a\" cx=\"102.97\" cy=\"-90\" rx=\"27\" ry=\"18\"/>\n",
       "<text text-anchor=\"middle\" x=\"102.97\" y=\"-86.3\" font-family=\"Times,serif\" font-size=\"14.00\" fill=\"white\">M</text>\n",
       "</g>\n",
       "<!-- X1&#45;&gt;M -->\n",
       "<g id=\"edge4\" class=\"edge\">\n",
       "<title>X1-&gt;M</title>\n",
       "<path fill=\"none\" stroke=\"#4a4a4a\" d=\"M127.02,-217.18C134.06,-207.15 142.38,-193.27 146.01,-179.74 150.18,-164.34 151.43,-158.83 146.03,-144.34 141.9,-132.76 133.71,-121.71 125.61,-112.87\"/>\n",
       "<path fill=\"none\" stroke=\"#4a4a4a\" d=\"M128.66,-218.33C135.77,-208.18 144.09,-194.3 147.94,-180.26 152.13,-164.78 153.38,-159.27 147.91,-143.66 143.5,-131.57 135.31,-120.52 127.08,-111.52\"/>\n",
       "<polygon fill=\"#4a4a4a\" stroke=\"#4a4a4a\" points=\"128.76,-109.65 119.27,-104.93 123.74,-114.54 128.76,-109.65\"/>\n",
       "</g>\n",
       "<!-- X1&#45;&gt;T -->\n",
       "<g id=\"edge7\" class=\"edge\">\n",
       "<title>X1-&gt;T</title>\n",
       "<path fill=\"none\" stroke=\"#4a4a4a\" d=\"M113.74,-215.77C113.19,-208.05 112.52,-198.78 111.91,-190.18\"/>\n",
       "<path fill=\"none\" stroke=\"#4a4a4a\" d=\"M115.73,-215.63C115.18,-207.91 114.52,-198.64 113.9,-190.04\"/>\n",
       "<polygon fill=\"#4a4a4a\" stroke=\"#4a4a4a\" points=\"116.4,-189.83 112.19,-180.1 109.41,-190.33 116.4,-189.83\"/>\n",
       "</g>\n",
       "<!-- X2 -->\n",
       "<g id=\"node3\" class=\"node\">\n",
       "<title>X2</title>\n",
       "<ellipse fill=\"#404040\" stroke=\"#4a4a4a\" cx=\"38.97\" cy=\"-162\" rx=\"27\" ry=\"18\"/>\n",
       "<text text-anchor=\"middle\" x=\"38.97\" y=\"-158.3\" font-family=\"Times,serif\" font-size=\"14.00\" fill=\"white\">X2</text>\n",
       "</g>\n",
       "<!-- X2&#45;&gt;M -->\n",
       "<g id=\"edge10\" class=\"edge\">\n",
       "<title>X2-&gt;M</title>\n",
       "<path fill=\"none\" stroke=\"#4a4a4a\" d=\"M51.81,-145.48C60.55,-135.92 72.07,-123.32 81.89,-112.57\"/>\n",
       "<path fill=\"none\" stroke=\"#4a4a4a\" d=\"M53.28,-146.83C62.02,-137.27 73.54,-124.67 83.37,-113.92\"/>\n",
       "<polygon fill=\"#4a4a4a\" stroke=\"#4a4a4a\" points=\"85.25,-115.57 89.42,-105.82 80.09,-110.84 85.25,-115.57\"/>\n",
       "</g>\n",
       "<!-- X2&#45;&gt;Y -->\n",
       "<g id=\"edge6\" class=\"edge\">\n",
       "<title>X2-&gt;Y</title>\n",
       "<path fill=\"none\" stroke=\"#4a4a4a\" d=\"M42.27,-143.91C48.44,-119.57 59.91,-74.32 67.24,-45.42\"/>\n",
       "<path fill=\"none\" stroke=\"#4a4a4a\" d=\"M44.21,-144.4C50.38,-120.06 61.85,-74.81 69.18,-45.91\"/>\n",
       "<polygon fill=\"#4a4a4a\" stroke=\"#4a4a4a\" points=\"71.64,-46.38 70.71,-35.82 64.86,-44.66 71.64,-46.38\"/>\n",
       "</g>\n",
       "<!-- X3 -->\n",
       "<g id=\"node4\" class=\"node\">\n",
       "<title>X3</title>\n",
       "<ellipse fill=\"#404040\" stroke=\"#4a4a4a\" cx=\"197.97\" cy=\"-234\" rx=\"27\" ry=\"18\"/>\n",
       "<text text-anchor=\"middle\" x=\"197.97\" y=\"-230.3\" font-family=\"Times,serif\" font-size=\"14.00\" fill=\"white\">X3</text>\n",
       "</g>\n",
       "<!-- X3&#45;&gt;Y -->\n",
       "<g id=\"edge1\" class=\"edge\">\n",
       "<title>X3-&gt;Y</title>\n",
       "<path fill=\"none\" stroke=\"#4a4a4a\" d=\"M193.86,-216.31C187.51,-185.44 170.82,-118.68 138.15,-72.58 128.58,-58.97 114.37,-46.72 101.88,-37.52\"/>\n",
       "<path fill=\"none\" stroke=\"#4a4a4a\" d=\"M195.82,-215.91C189.45,-184.96 172.76,-118.19 139.79,-71.42 129.88,-57.46 115.68,-45.2 103.06,-35.91\"/>\n",
       "<polygon fill=\"#4a4a4a\" stroke=\"#4a4a4a\" points=\"104.3,-33.73 94.12,-30.82 100.27,-39.44 104.3,-33.73\"/>\n",
       "</g>\n",
       "<!-- X3&#45;&gt;T -->\n",
       "<g id=\"edge9\" class=\"edge\">\n",
       "<title>X3-&gt;T</title>\n",
       "<path fill=\"none\" stroke=\"#4a4a4a\" d=\"M180.57,-220.28C167.69,-209.92 149.71,-195.45 135.17,-183.75\"/>\n",
       "<path fill=\"none\" stroke=\"#4a4a4a\" d=\"M181.82,-218.72C168.95,-208.36 150.96,-193.9 136.42,-182.19\"/>\n",
       "<polygon fill=\"#4a4a4a\" stroke=\"#4a4a4a\" points=\"137.68,-180 127.69,-176.46 133.29,-185.45 137.68,-180\"/>\n",
       "</g>\n",
       "<!-- M&#45;&gt;Y -->\n",
       "<g id=\"edge2\" class=\"edge\">\n",
       "<title>M-&gt;Y</title>\n",
       "<path fill=\"none\" stroke=\"#4a4a4a\" d=\"M95.41,-72.78C92.13,-64.59 88.1,-54.51 84.42,-45.33\"/>\n",
       "<path fill=\"none\" stroke=\"#4a4a4a\" d=\"M97.26,-72.04C93.99,-63.85 89.96,-53.77 86.28,-44.58\"/>\n",
       "<polygon fill=\"#4a4a4a\" stroke=\"#4a4a4a\" points=\"88.52,-43.45 81.56,-35.47 82.02,-46.05 88.52,-43.45\"/>\n",
       "</g>\n",
       "<!-- T&#45;&gt;M -->\n",
       "<g id=\"edge8\" class=\"edge\">\n",
       "<title>T-&gt;M</title>\n",
       "<path fill=\"none\" stroke=\"#4a4a4a\" d=\"M108,-143.81C107.12,-136.1 106.06,-126.83 105.08,-118.23\"/>\n",
       "<path fill=\"none\" stroke=\"#4a4a4a\" d=\"M109.99,-143.58C109.11,-135.87 108.05,-126.6 107.06,-118\"/>\n",
       "<polygon fill=\"#4a4a4a\" stroke=\"#4a4a4a\" points=\"109.54,-117.64 104.93,-108.1 102.58,-118.44 109.54,-117.64\"/>\n",
       "</g>\n",
       "</g>\n",
       "</svg>"
      ],
      "text/plain": [
       "<pyAgrum.causal._CausalModel.CausalModel at 0x740731a6a620>"
      ]
     },
     "execution_count": 255,
     "metadata": {},
     "output_type": "execute_result"
    }
   ],
   "source": [
    "bn5 = gum.BayesNet()\n",
    "\n",
    "bn5.beginTopologyTransformation()\n",
    "\n",
    "bn5.add(getDiscretizedVariable(\"X1\", -4,6, 3))\n",
    "bn5.add(getDiscretizedVariable(\"X2\", -4,6, 3))\n",
    "bn5.add(getDiscretizedVariable(\"X3\", -4,6, 3))\n",
    "bn5.add(getDiscretizedVariable(\"M\", -4,6, 10))\n",
    "bn5.add(getDiscretizedVariable(\"Y\", -4,6, 100))\n",
    "bn5.add(gum.IntegerVariable(\"T\", \"T\", [0,1]))\n",
    "bn5.add(getDiscretizedVariable(\"U\", -4,6, 3))\n",
    "\n",
    "bn5.addArc(\"U\", \"T\")\n",
    "bn5.addArc(\"U\", \"Y\")\n",
    "\n",
    "bn5.addArc(\"X1\", \"T\")\n",
    "bn5.addArc(\"X1\", \"M\")\n",
    "\n",
    "bn5.addArc(\"X2\", \"M\")\n",
    "bn5.addArc(\"X2\", \"Y\")\n",
    "\n",
    "bn5.addArc(\"X3\", \"T\")\n",
    "bn5.addArc(\"X3\", \"Y\")\n",
    "\n",
    "bn5.addArc(\"T\", \"M\")\n",
    "bn5.addArc(\"M\", \"Y\")\n",
    "\n",
    "bn5.cpt(\"U\").fillFromDistribution(norm, loc=1, scale=1)\n",
    "bn5.cpt(\"X1\").fillFromDistribution(norm, loc=1, scale=1)\n",
    "bn5.cpt(\"X2\").fillFromDistribution(norm, loc=1, scale=1)\n",
    "bn5.cpt(\"X3\").fillFromDistribution(norm, loc=1, scale=1)\n",
    "bn5.cpt(\"T\").fillFromDistribution(logistic, loc=\"U + X1 - 5*X3\", scale=1)\n",
    "bn5.cpt(\"M\").fillFromDistribution(norm, loc=\"T + 2*X1 - X2\", scale=1)\n",
    "bn5.cpt(\"Y\").fillFromDistribution(norm, loc=\"U + 2*M + 3*X2 + X3\", scale=1)\n",
    "\n",
    "ie = gum.LazyPropagation(bn5)\n",
    "\n",
    "cpt_T = ie.evidenceImpact(\"T\",[\"X1\", \"X3\"])\n",
    "cpt_Y = ie.evidenceImpact(\"Y\", [\"T\", \"M\", \"X2\", \"X3\"])\n",
    "ie = None\n",
    "\n",
    "bn5.eraseArc(\"U\", \"T\")\n",
    "bn5.eraseArc(\"U\", \"Y\")\n",
    "bn5.addArc(\"T\", \"Y\")\n",
    "bn5.erase(\"U\")\n",
    "\n",
    "bn5.cpt(\"T\").fillWith(cpt_T)\n",
    "bn5.cpt(\"Y\").fillWith(cpt_Y)\n",
    "\n",
    "bn5.endTopologyTransformation()\n",
    "\n",
    "cslbn5 = csl.CausalModel(bn5)\n",
    "\n",
    "cslbn5.addLatentVariable(\"u\", (\"T\", \"Y\"))\n",
    "\n",
    "cslbn5"
   ]
  },
  {
   "cell_type": "code",
   "execution_count": 256,
   "metadata": {},
   "outputs": [
    {
     "data": {
      "text/plain": [
       "0.4114089805885899"
      ]
     },
     "execution_count": 256,
     "metadata": {},
     "output_type": "execute_result"
    }
   ],
   "source": [
    "getATEfromCBN(cslbn5)"
   ]
  },
  {
   "cell_type": "code",
   "execution_count": 257,
   "metadata": {},
   "outputs": [
    {
     "name": "stdout",
     "output_type": "stream",
     "text": [
      "Generalized Frontdoor adjustment found. \n",
      "\n",
      "Supported estimators include:\n",
      "- CausalModelEstimator\n",
      "- SimplePlugIn\n",
      "- GeneralizedPlugIn\n"
     ]
    },
    {
     "data": {
      "text/plain": [
       "'Generalized Frontdoor'"
      ]
     },
     "execution_count": 257,
     "metadata": {},
     "output_type": "execute_result"
    }
   ],
   "source": [
    "po5 = csl.CausalEffectEstimation(df5, cslbn5)\n",
    "po5.identifyAdjustmentSet(intervention=\"T\", outcome=\"Y\")"
   ]
  },
  {
   "cell_type": "code",
   "execution_count": 258,
   "metadata": {},
   "outputs": [
    {
     "name": "stdout",
     "output_type": "stream",
     "text": [
      "<pyAgrum.causal.causalEffectEstimation._CausalEffectEstimation.CausalEffectEstimation object at 0x7407317843d0>\n",
      "\n",
      " Dataframe\t: <pandas.core.frame.DataFrame object at 0x740731b40fd0>\n",
      "\t- shape\t\t: (1000000, 7)\n",
      "\t- columns\t: Index(['U', 'X1', 'X2', 'X3', 'M', 'T', 'Y'], dtype='object')\n",
      "\t- memory usage\t: 64.0 MB\n",
      " Causal Model\t: <pyAgrum.causal._CausalModel.CausalModel object at 0x740731a6a620>\n",
      "\t- names\t\t: {0: 'X1', 1: 'X2', 2: 'X3', 3: 'M', 4: 'Y', 5: 'T', 6: 'u'}\n",
      "\t- causal BN\t: BN{nodes: 7, arcs: 10, domainSize: 108000, dim: 18007, mem: 142Ko 408o}\n",
      "\t- observ. BN\t: BN{nodes: 6, arcs: 9, domainSize: 54000, dim: 17997, mem: 142Ko 248o}\n",
      " Adjustment\t: Generalized Frontdoor\n",
      " Intervention\t: T\n",
      " Outcome\t: Y\n",
      " Confounders\t: {'X2', 'X1'}\n",
      " Mediators\t: {'M'}\n"
     ]
    }
   ],
   "source": [
    "print(po5)"
   ]
  },
  {
   "cell_type": "code",
   "execution_count": 259,
   "metadata": {},
   "outputs": [
    {
     "data": {
      "text/plain": [
       "0.7339056341354395"
      ]
     },
     "execution_count": 259,
     "metadata": {},
     "output_type": "execute_result"
    }
   ],
   "source": [
    "po5.fitCausalBNEstimator()\n",
    "po5.estimateCausalEffect()"
   ]
  },
  {
   "cell_type": "code",
   "execution_count": 260,
   "metadata": {},
   "outputs": [
    {
     "data": {
      "text/plain": [
       "2.442240024000153"
      ]
     },
     "execution_count": 260,
     "metadata": {},
     "output_type": "execute_result"
    }
   ],
   "source": [
    "po5.fitSimplePlugIn()\n",
    "po5.estimateCausalEffect()"
   ]
  },
  {
   "cell_type": "code",
   "execution_count": 261,
   "metadata": {},
   "outputs": [
    {
     "data": {
      "text/plain": [
       "2.4418838687932167"
      ]
     },
     "execution_count": 261,
     "metadata": {},
     "output_type": "execute_result"
    }
   ],
   "source": [
    "po5.fitSimplePlugIn(learner=\"XGBRegressor\")\n",
    "po5.estimateCausalEffect()"
   ]
  },
  {
   "cell_type": "code",
   "execution_count": 262,
   "metadata": {},
   "outputs": [
    {
     "data": {
      "text/plain": [
       "1.9939266227328598"
      ]
     },
     "execution_count": 262,
     "metadata": {},
     "output_type": "execute_result"
    }
   ],
   "source": [
    "po5.fitGeneralizedPlugIn()\n",
    "po5.estimateCausalEffect()"
   ]
  },
  {
   "cell_type": "markdown",
   "metadata": {},
   "source": [
    "# Linear Binary Instrumental Variable"
   ]
  },
  {
   "cell_type": "code",
   "execution_count": 263,
   "metadata": {},
   "outputs": [
    {
     "data": {
      "text/html": [
       "<div>\n",
       "<style scoped>\n",
       "    .dataframe tbody tr th:only-of-type {\n",
       "        vertical-align: middle;\n",
       "    }\n",
       "\n",
       "    .dataframe tbody tr th {\n",
       "        vertical-align: top;\n",
       "    }\n",
       "\n",
       "    .dataframe thead th {\n",
       "        text-align: right;\n",
       "    }\n",
       "</style>\n",
       "<table border=\"1\" class=\"dataframe\">\n",
       "  <thead>\n",
       "    <tr style=\"text-align: right;\">\n",
       "      <th></th>\n",
       "      <th>W</th>\n",
       "      <th>T</th>\n",
       "      <th>Y</th>\n",
       "    </tr>\n",
       "  </thead>\n",
       "  <tbody>\n",
       "    <tr>\n",
       "      <th>0</th>\n",
       "      <td>1</td>\n",
       "      <td>1</td>\n",
       "      <td>3.017251</td>\n",
       "    </tr>\n",
       "    <tr>\n",
       "      <th>1</th>\n",
       "      <td>0</td>\n",
       "      <td>0</td>\n",
       "      <td>1.434015</td>\n",
       "    </tr>\n",
       "    <tr>\n",
       "      <th>2</th>\n",
       "      <td>1</td>\n",
       "      <td>0</td>\n",
       "      <td>-0.463321</td>\n",
       "    </tr>\n",
       "    <tr>\n",
       "      <th>3</th>\n",
       "      <td>0</td>\n",
       "      <td>1</td>\n",
       "      <td>2.354191</td>\n",
       "    </tr>\n",
       "    <tr>\n",
       "      <th>4</th>\n",
       "      <td>0</td>\n",
       "      <td>0</td>\n",
       "      <td>1.412879</td>\n",
       "    </tr>\n",
       "  </tbody>\n",
       "</table>\n",
       "</div>"
      ],
      "text/plain": [
       "   W  T         Y\n",
       "0  1  1  3.017251\n",
       "1  0  0  1.434015\n",
       "2  1  0 -0.463321\n",
       "3  0  1  2.354191\n",
       "4  0  0  1.412879"
      ]
     },
     "execution_count": 263,
     "metadata": {},
     "output_type": "execute_result"
    }
   ],
   "source": [
    "U = np.random.normal(1, 1, n)\n",
    "W = np.random.binomial(1, 0.3, n)\n",
    "T = np.random.binomial(1, np.power(1+np.exp(- (U - 2*W)), -1))\n",
    "Y = np.random.normal(U + 2*T, 1, n)\n",
    "df6 = pd.DataFrame({\"W\": W, \"T\": T, \"Y\":Y}, index=np.arange(0,n))\n",
    "df6.head()"
   ]
  },
  {
   "cell_type": "code",
   "execution_count": 264,
   "metadata": {},
   "outputs": [
    {
     "data": {
      "text/html": [
       "<svg xmlns=\"http://www.w3.org/2000/svg\" xmlns:xlink=\"http://www.w3.org/1999/xlink\" width=\"86pt\" height=\"180pt\" viewBox=\"0.00 0.00 86.17 180.00\">\n",
       "<g id=\"graph0\" class=\"graph\" transform=\"scale(0.96 0.96) rotate(0) translate(4 184)\">\n",
       "<title>G</title>\n",
       "<!-- u -->\n",
       "<g id=\"node1\" class=\"node\">\n",
       "<title>u</title>\n",
       "<ellipse fill=\"#404040\" stroke=\"#4a4a4a\" cx=\"4\" cy=\"-162\" rx=\"1.8\" ry=\"1.8\"/>\n",
       "</g>\n",
       "<!-- Y -->\n",
       "<g id=\"node3\" class=\"node\">\n",
       "<title>Y</title>\n",
       "<ellipse fill=\"#404040\" stroke=\"#4a4a4a\" cx=\"27\" cy=\"-18\" rx=\"27\" ry=\"18\"/>\n",
       "<text text-anchor=\"middle\" x=\"27\" y=\"-14.3\" font-family=\"Times,serif\" font-size=\"14.00\" fill=\"white\">Y</text>\n",
       "</g>\n",
       "<!-- u&#45;&gt;Y -->\n",
       "<g id=\"edge1\" class=\"edge\">\n",
       "<title>u-&gt;Y</title>\n",
       "<path fill=\"none\" stroke=\"#4a4a4a\" stroke-dasharray=\"5,2\" d=\"M4.15,-160.09C5.53,-151.54 16.38,-84.56 22.62,-46.04\"/>\n",
       "<polygon fill=\"#4a4a4a\" stroke=\"#4a4a4a\" points=\"26.1,-46.44 24.25,-36.01 19.19,-45.32 26.1,-46.44\"/>\n",
       "</g>\n",
       "<!-- T -->\n",
       "<g id=\"node4\" class=\"node\">\n",
       "<title>T</title>\n",
       "<ellipse fill=\"#404040\" stroke=\"#4a4a4a\" cx=\"55\" cy=\"-90\" rx=\"27\" ry=\"18\"/>\n",
       "<text text-anchor=\"middle\" x=\"55\" y=\"-86.3\" font-family=\"Times,serif\" font-size=\"14.00\" fill=\"white\">T</text>\n",
       "</g>\n",
       "<!-- u&#45;&gt;T -->\n",
       "<g id=\"edge4\" class=\"edge\">\n",
       "<title>u-&gt;T</title>\n",
       "<path fill=\"none\" stroke=\"#4a4a4a\" stroke-dasharray=\"5,2\" d=\"M4.57,-160.21C7.83,-155.75 24.31,-133.13 37.56,-114.94\"/>\n",
       "<polygon fill=\"#4a4a4a\" stroke=\"#4a4a4a\" points=\"40.67,-116.61 43.73,-106.47 35.01,-112.49 40.67,-116.61\"/>\n",
       "</g>\n",
       "<!-- W -->\n",
       "<g id=\"node2\" class=\"node\">\n",
       "<title>W</title>\n",
       "<ellipse fill=\"#404040\" stroke=\"#4a4a4a\" cx=\"55\" cy=\"-162\" rx=\"27\" ry=\"18\"/>\n",
       "<text text-anchor=\"middle\" x=\"55\" y=\"-158.3\" font-family=\"Times,serif\" font-size=\"14.00\" fill=\"white\">W</text>\n",
       "</g>\n",
       "<!-- W&#45;&gt;T -->\n",
       "<g id=\"edge2\" class=\"edge\">\n",
       "<title>W-&gt;T</title>\n",
       "<path fill=\"none\" stroke=\"#4a4a4a\" d=\"M54,-143.7C54,-135.98 54,-126.71 54,-118.11\"/>\n",
       "<path fill=\"none\" stroke=\"#4a4a4a\" d=\"M56,-143.7C56,-135.98 56,-126.71 56,-118.11\"/>\n",
       "<polygon fill=\"#4a4a4a\" stroke=\"#4a4a4a\" points=\"58.5,-118.1 55,-108.1 51.5,-118.1 58.5,-118.1\"/>\n",
       "</g>\n",
       "<!-- T&#45;&gt;Y -->\n",
       "<g id=\"edge3\" class=\"edge\">\n",
       "<title>T-&gt;Y</title>\n",
       "<path fill=\"none\" stroke=\"#4a4a4a\" d=\"M47.44,-72.78C44.16,-64.59 40.13,-54.51 36.45,-45.33\"/>\n",
       "<path fill=\"none\" stroke=\"#4a4a4a\" d=\"M49.29,-72.04C46.02,-63.85 41.98,-53.77 38.31,-44.58\"/>\n",
       "<polygon fill=\"#4a4a4a\" stroke=\"#4a4a4a\" points=\"40.55,-43.45 33.59,-35.47 34.05,-46.05 40.55,-43.45\"/>\n",
       "</g>\n",
       "</g>\n",
       "</svg>"
      ],
      "text/plain": [
       "<pyAgrum.causal._CausalModel.CausalModel at 0x7407321e0040>"
      ]
     },
     "execution_count": 264,
     "metadata": {},
     "output_type": "execute_result"
    }
   ],
   "source": [
    "bn6 = gum.BayesNet()\n",
    "\n",
    "bn6.beginTopologyTransformation()\n",
    "\n",
    "bn6.add(gum.IntegerVariable(\"W\", \"W\", [0,1]))\n",
    "bn6.add(getDiscretizedVariable(\"Y\", -4,6, 100))\n",
    "bn6.add(gum.IntegerVariable(\"T\", \"T\", [0,1]))\n",
    "bn6.add(getDiscretizedVariable(\"U\", -4,6, 3))\n",
    "\n",
    "bn6.addArc(\"U\", \"T\")\n",
    "bn6.addArc(\"U\", \"Y\")\n",
    "bn6.addArc(\"W\", \"T\")\n",
    "bn6.addArc(\"T\", \"Y\")\n",
    "\n",
    "bn6.cpt(\"U\").fillFromDistribution(norm, loc=1, scale=1)\n",
    "bn6.cpt(\"W\")[:] = [0.7, 0.3]\n",
    "bn6.cpt(\"T\").fillFromDistribution(logistic, loc=\"U - 2*W\", scale=1)\n",
    "bn6.cpt(\"Y\").fillFromDistribution(norm, loc=\"U + 2*T\", scale=1)\n",
    "\n",
    "ie = gum.LazyPropagation(bn6)\n",
    "\n",
    "cpt_T = ie.evidenceImpact(\"T\",[\"W\"])\n",
    "cpt_Y = ie.evidenceImpact(\"Y\", [\"T\"])\n",
    "ie = None\n",
    "\n",
    "bn6.eraseArc(\"U\", \"T\")\n",
    "bn6.eraseArc(\"U\", \"Y\")\n",
    "bn6.erase(\"U\")\n",
    "\n",
    "bn6.cpt(\"T\").fillWith(cpt_T)\n",
    "bn6.cpt(\"Y\").fillWith(cpt_Y)\n",
    "\n",
    "bn6.endTopologyTransformation()\n",
    "\n",
    "cslbn6 = csl.CausalModel(bn6)\n",
    "\n",
    "cslbn6.addLatentVariable(\"u\", (\"T\", \"Y\"))\n",
    "cslbn6.addCausalArc(\"T\", \"Y\")\n",
    "\n",
    "cslbn6"
   ]
  },
  {
   "cell_type": "markdown",
   "metadata": {},
   "source": [
    "The causal effect is not identifiable using do-Calculus."
   ]
  },
  {
   "cell_type": "code",
   "execution_count": 265,
   "metadata": {},
   "outputs": [
    {
     "name": "stdout",
     "output_type": "stream",
     "text": [
      "Generalized Instrumental Variable adjustment found. \n",
      "\n",
      "Supported estimators include:\n",
      "- CausalModelEstimator\n",
      "- Wald\n",
      "- WaldIPW\n",
      "- NormalizedWaldIPW\n",
      "- TSLS\n"
     ]
    },
    {
     "data": {
      "text/plain": [
       "'Generalized Instrumental Variable'"
      ]
     },
     "execution_count": 265,
     "metadata": {},
     "output_type": "execute_result"
    }
   ],
   "source": [
    "po6 = csl.CausalEffectEstimation(df6, cslbn6)\n",
    "po6.identifyAdjustmentSet(intervention=\"T\", outcome=\"Y\")"
   ]
  },
  {
   "cell_type": "code",
   "execution_count": 266,
   "metadata": {},
   "outputs": [
    {
     "name": "stdout",
     "output_type": "stream",
     "text": [
      "<pyAgrum.causal.causalEffectEstimation._CausalEffectEstimation.CausalEffectEstimation object at 0x7407321e2e90>\n",
      "\n",
      " Dataframe\t: <pandas.core.frame.DataFrame object at 0x740731b43250>\n",
      "\t- shape\t\t: (1000000, 3)\n",
      "\t- columns\t: Index(['W', 'T', 'Y'], dtype='object')\n",
      "\t- memory usage\t: 32.0 MB\n",
      " Causal Model\t: <pyAgrum.causal._CausalModel.CausalModel object at 0x7407321e0040>\n",
      "\t- names\t\t: {0: 'W', 1: 'Y', 2: 'T', 3: 'u'}\n",
      "\t- causal BN\t: BN{nodes: 4, arcs: 4, domainSize: 800, dim: 402, mem: 3Ko 224o}\n",
      "\t- observ. BN\t: BN{nodes: 3, arcs: 2, domainSize: 400, dim: 201, mem: 1Ko 624o}\n",
      " Adjustment\t: Generalized Instrumental Variable\n",
      " Intervention\t: T\n",
      " Outcome\t: Y\n",
      " Confounders\t: set()\n",
      " Instrument\t: W\n"
     ]
    }
   ],
   "source": [
    "print(po6)"
   ]
  },
  {
   "cell_type": "code",
   "execution_count": 229,
   "metadata": {},
   "outputs": [
    {
     "data": {
      "text/plain": [
       "2.7097575714427675"
      ]
     },
     "execution_count": 229,
     "metadata": {},
     "output_type": "execute_result"
    }
   ],
   "source": [
    "po6.fitCausalBNEstimator()\n",
    "po6.estimateCausalEffect()"
   ]
  },
  {
   "cell_type": "code",
   "execution_count": 230,
   "metadata": {},
   "outputs": [
    {
     "data": {
      "text/plain": [
       "1.9928717348619418"
      ]
     },
     "execution_count": 230,
     "metadata": {},
     "output_type": "execute_result"
    }
   ],
   "source": [
    "po6.fitWald()\n",
    "po6.estimateCausalEffect()"
   ]
  },
  {
   "cell_type": "code",
   "execution_count": 231,
   "metadata": {},
   "outputs": [
    {
     "data": {
      "text/plain": [
       "1.9928717348619502"
      ]
     },
     "execution_count": 231,
     "metadata": {},
     "output_type": "execute_result"
    }
   ],
   "source": [
    "po6.fitTSLS()\n",
    "po6.estimateCausalEffect()"
   ]
  },
  {
   "cell_type": "markdown",
   "metadata": {},
   "source": [
    "# Linear Continous Instrumental Variable"
   ]
  },
  {
   "cell_type": "code",
   "execution_count": 232,
   "metadata": {},
   "outputs": [
    {
     "data": {
      "text/html": [
       "<div>\n",
       "<style scoped>\n",
       "    .dataframe tbody tr th:only-of-type {\n",
       "        vertical-align: middle;\n",
       "    }\n",
       "\n",
       "    .dataframe tbody tr th {\n",
       "        vertical-align: top;\n",
       "    }\n",
       "\n",
       "    .dataframe thead th {\n",
       "        text-align: right;\n",
       "    }\n",
       "</style>\n",
       "<table border=\"1\" class=\"dataframe\">\n",
       "  <thead>\n",
       "    <tr style=\"text-align: right;\">\n",
       "      <th></th>\n",
       "      <th>U</th>\n",
       "      <th>W</th>\n",
       "      <th>T</th>\n",
       "      <th>Y</th>\n",
       "    </tr>\n",
       "  </thead>\n",
       "  <tbody>\n",
       "    <tr>\n",
       "      <th>0</th>\n",
       "      <td>1.674083</td>\n",
       "      <td>0.808387</td>\n",
       "      <td>0</td>\n",
       "      <td>3.991843</td>\n",
       "    </tr>\n",
       "    <tr>\n",
       "      <th>1</th>\n",
       "      <td>2.218880</td>\n",
       "      <td>0.035708</td>\n",
       "      <td>1</td>\n",
       "      <td>4.590935</td>\n",
       "    </tr>\n",
       "    <tr>\n",
       "      <th>2</th>\n",
       "      <td>1.275041</td>\n",
       "      <td>0.593989</td>\n",
       "      <td>1</td>\n",
       "      <td>4.294753</td>\n",
       "    </tr>\n",
       "    <tr>\n",
       "      <th>3</th>\n",
       "      <td>2.098737</td>\n",
       "      <td>0.323299</td>\n",
       "      <td>1</td>\n",
       "      <td>5.875829</td>\n",
       "    </tr>\n",
       "    <tr>\n",
       "      <th>4</th>\n",
       "      <td>1.572824</td>\n",
       "      <td>1.249767</td>\n",
       "      <td>1</td>\n",
       "      <td>3.247934</td>\n",
       "    </tr>\n",
       "  </tbody>\n",
       "</table>\n",
       "</div>"
      ],
      "text/plain": [
       "          U         W  T         Y\n",
       "0  1.674083  0.808387  0  3.991843\n",
       "1  2.218880  0.035708  1  4.590935\n",
       "2  1.275041  0.593989  1  4.294753\n",
       "3  2.098737  0.323299  1  5.875829\n",
       "4  1.572824  1.249767  1  3.247934"
      ]
     },
     "execution_count": 232,
     "metadata": {},
     "output_type": "execute_result"
    }
   ],
   "source": [
    "U = np.random.normal(1, 1, n)\n",
    "W = np.random.normal(1, 1, n)\n",
    "T = np.random.binomial(1, np.power(1+np.exp(- (U - 2*W)), -1))\n",
    "Y = np.random.normal(U + 2*T, 1, n)\n",
    "df7 = pd.DataFrame({\"U\": U, \"W\": W, \"T\": T, \"Y\":Y}, index=np.arange(0,n))\n",
    "df7.head()"
   ]
  },
  {
   "cell_type": "code",
   "execution_count": 267,
   "metadata": {},
   "outputs": [
    {
     "data": {
      "text/html": [
       "<svg xmlns=\"http://www.w3.org/2000/svg\" xmlns:xlink=\"http://www.w3.org/1999/xlink\" width=\"86pt\" height=\"180pt\" viewBox=\"0.00 0.00 86.17 180.00\">\n",
       "<g id=\"graph0\" class=\"graph\" transform=\"scale(0.96 0.96) rotate(0) translate(4 184)\">\n",
       "<title>G</title>\n",
       "<!-- u -->\n",
       "<g id=\"node1\" class=\"node\">\n",
       "<title>u</title>\n",
       "<ellipse fill=\"#404040\" stroke=\"#4a4a4a\" cx=\"4\" cy=\"-162\" rx=\"1.8\" ry=\"1.8\"/>\n",
       "</g>\n",
       "<!-- Y -->\n",
       "<g id=\"node3\" class=\"node\">\n",
       "<title>Y</title>\n",
       "<ellipse fill=\"#404040\" stroke=\"#4a4a4a\" cx=\"27\" cy=\"-18\" rx=\"27\" ry=\"18\"/>\n",
       "<text text-anchor=\"middle\" x=\"27\" y=\"-14.3\" font-family=\"Times,serif\" font-size=\"14.00\" fill=\"white\">Y</text>\n",
       "</g>\n",
       "<!-- u&#45;&gt;Y -->\n",
       "<g id=\"edge1\" class=\"edge\">\n",
       "<title>u-&gt;Y</title>\n",
       "<path fill=\"none\" stroke=\"#4a4a4a\" stroke-dasharray=\"5,2\" d=\"M4.15,-160.09C5.53,-151.54 16.38,-84.56 22.62,-46.04\"/>\n",
       "<polygon fill=\"#4a4a4a\" stroke=\"#4a4a4a\" points=\"26.1,-46.44 24.25,-36.01 19.19,-45.32 26.1,-46.44\"/>\n",
       "</g>\n",
       "<!-- T -->\n",
       "<g id=\"node4\" class=\"node\">\n",
       "<title>T</title>\n",
       "<ellipse fill=\"#404040\" stroke=\"#4a4a4a\" cx=\"55\" cy=\"-90\" rx=\"27\" ry=\"18\"/>\n",
       "<text text-anchor=\"middle\" x=\"55\" y=\"-86.3\" font-family=\"Times,serif\" font-size=\"14.00\" fill=\"white\">T</text>\n",
       "</g>\n",
       "<!-- u&#45;&gt;T -->\n",
       "<g id=\"edge4\" class=\"edge\">\n",
       "<title>u-&gt;T</title>\n",
       "<path fill=\"none\" stroke=\"#4a4a4a\" stroke-dasharray=\"5,2\" d=\"M4.57,-160.21C7.83,-155.75 24.31,-133.13 37.56,-114.94\"/>\n",
       "<polygon fill=\"#4a4a4a\" stroke=\"#4a4a4a\" points=\"40.67,-116.61 43.73,-106.47 35.01,-112.49 40.67,-116.61\"/>\n",
       "</g>\n",
       "<!-- W -->\n",
       "<g id=\"node2\" class=\"node\">\n",
       "<title>W</title>\n",
       "<ellipse fill=\"#404040\" stroke=\"#4a4a4a\" cx=\"55\" cy=\"-162\" rx=\"27\" ry=\"18\"/>\n",
       "<text text-anchor=\"middle\" x=\"55\" y=\"-158.3\" font-family=\"Times,serif\" font-size=\"14.00\" fill=\"white\">W</text>\n",
       "</g>\n",
       "<!-- W&#45;&gt;T -->\n",
       "<g id=\"edge2\" class=\"edge\">\n",
       "<title>W-&gt;T</title>\n",
       "<path fill=\"none\" stroke=\"#4a4a4a\" d=\"M54,-143.7C54,-135.98 54,-126.71 54,-118.11\"/>\n",
       "<path fill=\"none\" stroke=\"#4a4a4a\" d=\"M56,-143.7C56,-135.98 56,-126.71 56,-118.11\"/>\n",
       "<polygon fill=\"#4a4a4a\" stroke=\"#4a4a4a\" points=\"58.5,-118.1 55,-108.1 51.5,-118.1 58.5,-118.1\"/>\n",
       "</g>\n",
       "<!-- T&#45;&gt;Y -->\n",
       "<g id=\"edge3\" class=\"edge\">\n",
       "<title>T-&gt;Y</title>\n",
       "<path fill=\"none\" stroke=\"#4a4a4a\" d=\"M47.44,-72.78C44.16,-64.59 40.13,-54.51 36.45,-45.33\"/>\n",
       "<path fill=\"none\" stroke=\"#4a4a4a\" d=\"M49.29,-72.04C46.02,-63.85 41.98,-53.77 38.31,-44.58\"/>\n",
       "<polygon fill=\"#4a4a4a\" stroke=\"#4a4a4a\" points=\"40.55,-43.45 33.59,-35.47 34.05,-46.05 40.55,-43.45\"/>\n",
       "</g>\n",
       "</g>\n",
       "</svg>"
      ],
      "text/plain": [
       "<pyAgrum.causal._CausalModel.CausalModel at 0x74073240b0d0>"
      ]
     },
     "execution_count": 267,
     "metadata": {},
     "output_type": "execute_result"
    }
   ],
   "source": [
    "bn7 = gum.BayesNet()\n",
    "\n",
    "bn7.beginTopologyTransformation()\n",
    "\n",
    "bn7.add(getDiscretizedVariable(\"W\", -4,6, 10))\n",
    "bn7.add(getDiscretizedVariable(\"Y\", -4,6, 100))\n",
    "bn7.add(gum.IntegerVariable(\"T\", \"T\", [0,1]))\n",
    "bn7.add(getDiscretizedVariable(\"U\", -4,6, 3))\n",
    "\n",
    "bn7.addArc(\"U\", \"T\")\n",
    "bn7.addArc(\"U\", \"Y\")\n",
    "bn7.addArc(\"W\", \"T\")\n",
    "bn7.addArc(\"T\", \"Y\")\n",
    "\n",
    "bn7.cpt(\"U\").fillFromDistribution(norm, loc=1, scale=1)\n",
    "bn7.cpt(\"W\").fillFromDistribution(norm, loc=1, scale=1)\n",
    "bn7.cpt(\"T\").fillFromDistribution(logistic, loc=\"U - 2*W\", scale=1)\n",
    "bn7.cpt(\"Y\").fillFromDistribution(norm, loc=\"U + 2*T\", scale=1)\n",
    "\n",
    "ie = gum.LazyPropagation(bn7)\n",
    "\n",
    "cpt_T = ie.evidenceImpact(\"T\",[\"W\"])\n",
    "cpt_Y = ie.evidenceImpact(\"Y\", [\"T\"])\n",
    "ie = None\n",
    "\n",
    "bn7.eraseArc(\"U\", \"T\")\n",
    "bn7.eraseArc(\"U\", \"Y\")\n",
    "bn7.erase(\"U\")\n",
    "\n",
    "bn7.cpt(\"T\").fillWith(cpt_T)\n",
    "bn7.cpt(\"Y\").fillWith(cpt_Y)\n",
    "\n",
    "bn7.endTopologyTransformation()\n",
    "\n",
    "cslbn7 = csl.CausalModel(bn7)\n",
    "\n",
    "cslbn7.addLatentVariable(\"u\", (\"T\", \"Y\"))\n",
    "cslbn7.addCausalArc(\"T\", \"Y\")\n",
    "\n",
    "cslbn7"
   ]
  },
  {
   "cell_type": "code",
   "execution_count": 268,
   "metadata": {},
   "outputs": [
    {
     "name": "stdout",
     "output_type": "stream",
     "text": [
      "Generalized Instrumental Variable adjustment found. \n",
      "\n",
      "Supported estimators include:\n",
      "- CausalModelEstimator\n",
      "- Wald\n",
      "- WaldIPW\n",
      "- NormalizedWaldIPW\n",
      "- TSLS\n"
     ]
    },
    {
     "data": {
      "text/plain": [
       "'Generalized Instrumental Variable'"
      ]
     },
     "execution_count": 268,
     "metadata": {},
     "output_type": "execute_result"
    }
   ],
   "source": [
    "po7 = csl.CausalEffectEstimation(df7, cslbn7)\n",
    "po7.identifyAdjustmentSet(intervention=\"T\", outcome=\"Y\")"
   ]
  },
  {
   "cell_type": "code",
   "execution_count": 269,
   "metadata": {},
   "outputs": [
    {
     "name": "stdout",
     "output_type": "stream",
     "text": [
      "<pyAgrum.causal.causalEffectEstimation._CausalEffectEstimation.CausalEffectEstimation object at 0x74073240bd00>\n",
      "\n",
      " Dataframe\t: <pandas.core.frame.DataFrame object at 0x74072bf81e70>\n",
      "\t- shape\t\t: (1000000, 4)\n",
      "\t- columns\t: Index(['U', 'W', 'T', 'Y'], dtype='object')\n",
      "\t- memory usage\t: 40.0 MB\n",
      " Causal Model\t: <pyAgrum.causal._CausalModel.CausalModel object at 0x74073240b0d0>\n",
      "\t- names\t\t: {0: 'W', 1: 'Y', 2: 'T', 3: 'u'}\n",
      "\t- causal BN\t: BN{nodes: 4, arcs: 4, domainSize: 4000, dim: 426, mem: 3Ko 544o}\n",
      "\t- observ. BN\t: BN{nodes: 3, arcs: 2, domainSize: 2000, dim: 217, mem: 1Ko 816o}\n",
      " Adjustment\t: Generalized Instrumental Variable\n",
      " Intervention\t: T\n",
      " Outcome\t: Y\n",
      " Confounders\t: set()\n",
      " Instrument\t: W\n"
     ]
    }
   ],
   "source": [
    "print(po7)"
   ]
  },
  {
   "cell_type": "code",
   "execution_count": 270,
   "metadata": {},
   "outputs": [
    {
     "data": {
      "text/plain": [
       "2.5592847029162487"
      ]
     },
     "execution_count": 270,
     "metadata": {},
     "output_type": "execute_result"
    }
   ],
   "source": [
    "po7.fitCausalBNEstimator()\n",
    "po7.estimateCausalEffect()"
   ]
  },
  {
   "cell_type": "code",
   "execution_count": 271,
   "metadata": {},
   "outputs": [
    {
     "data": {
      "text/plain": [
       "2.0054326275284566"
      ]
     },
     "execution_count": 271,
     "metadata": {},
     "output_type": "execute_result"
    }
   ],
   "source": [
    "po7.fitTSLS()\n",
    "po7.estimateCausalEffect()"
   ]
  },
  {
   "cell_type": "markdown",
   "metadata": {},
   "source": [
    "# Linear Binary Instrumental Variable with Covariates"
   ]
  },
  {
   "cell_type": "code",
   "execution_count": 272,
   "metadata": {},
   "outputs": [
    {
     "data": {
      "text/html": [
       "<div>\n",
       "<style scoped>\n",
       "    .dataframe tbody tr th:only-of-type {\n",
       "        vertical-align: middle;\n",
       "    }\n",
       "\n",
       "    .dataframe tbody tr th {\n",
       "        vertical-align: top;\n",
       "    }\n",
       "\n",
       "    .dataframe thead th {\n",
       "        text-align: right;\n",
       "    }\n",
       "</style>\n",
       "<table border=\"1\" class=\"dataframe\">\n",
       "  <thead>\n",
       "    <tr style=\"text-align: right;\">\n",
       "      <th></th>\n",
       "      <th>W</th>\n",
       "      <th>X1</th>\n",
       "      <th>X2</th>\n",
       "      <th>X3</th>\n",
       "      <th>T</th>\n",
       "      <th>Y</th>\n",
       "    </tr>\n",
       "  </thead>\n",
       "  <tbody>\n",
       "    <tr>\n",
       "      <th>0</th>\n",
       "      <td>1</td>\n",
       "      <td>0.096666</td>\n",
       "      <td>0.417926</td>\n",
       "      <td>0.418575</td>\n",
       "      <td>0</td>\n",
       "      <td>-0.255187</td>\n",
       "    </tr>\n",
       "    <tr>\n",
       "      <th>1</th>\n",
       "      <td>0</td>\n",
       "      <td>2.273919</td>\n",
       "      <td>2.721355</td>\n",
       "      <td>0.886830</td>\n",
       "      <td>1</td>\n",
       "      <td>-1.152904</td>\n",
       "    </tr>\n",
       "    <tr>\n",
       "      <th>2</th>\n",
       "      <td>0</td>\n",
       "      <td>2.218510</td>\n",
       "      <td>1.731742</td>\n",
       "      <td>-0.373380</td>\n",
       "      <td>1</td>\n",
       "      <td>5.837515</td>\n",
       "    </tr>\n",
       "    <tr>\n",
       "      <th>3</th>\n",
       "      <td>1</td>\n",
       "      <td>-0.539854</td>\n",
       "      <td>1.414256</td>\n",
       "      <td>1.957047</td>\n",
       "      <td>0</td>\n",
       "      <td>-7.377389</td>\n",
       "    </tr>\n",
       "    <tr>\n",
       "      <th>4</th>\n",
       "      <td>0</td>\n",
       "      <td>0.924187</td>\n",
       "      <td>1.920220</td>\n",
       "      <td>0.700337</td>\n",
       "      <td>1</td>\n",
       "      <td>2.404231</td>\n",
       "    </tr>\n",
       "  </tbody>\n",
       "</table>\n",
       "</div>"
      ],
      "text/plain": [
       "   W        X1        X2        X3  T         Y\n",
       "0  1  0.096666  0.417926  0.418575  0 -0.255187\n",
       "1  0  2.273919  2.721355  0.886830  1 -1.152904\n",
       "2  0  2.218510  1.731742 -0.373380  1  5.837515\n",
       "3  1 -0.539854  1.414256  1.957047  0 -7.377389\n",
       "4  0  0.924187  1.920220  0.700337  1  2.404231"
      ]
     },
     "execution_count": 272,
     "metadata": {},
     "output_type": "execute_result"
    }
   ],
   "source": [
    "U = np.random.normal(1, 1, n)\n",
    "X1 = np.random.normal(1, 1, n)\n",
    "X2 = np.random.normal(1, 1, n)\n",
    "X3 = np.random.normal(1, 1, n)\n",
    "W = np.random.binomial(1, np.power(1+np.exp(-(5 - 4*X1 + X3)), -1))\n",
    "T = np.random.binomial(1, np.power(1+np.exp(-(U - 2*W + 3*X1 + X2)), -1))\n",
    "Y = np.random.normal(U + 2*T - 4*X3, 1, n)\n",
    "df8 = pd.DataFrame({\"W\": W, \"X1\": X1, \"X2\": X2, \"X3\": X3, \"T\": T, \"Y\":Y}, index=np.arange(0,n))\n",
    "df8.head()"
   ]
  },
  {
   "cell_type": "code",
   "execution_count": 273,
   "metadata": {},
   "outputs": [
    {
     "data": {
      "text/html": [
       "<svg xmlns=\"http://www.w3.org/2000/svg\" xmlns:xlink=\"http://www.w3.org/1999/xlink\" width=\"143pt\" height=\"180pt\" viewBox=\"0.00 0.00 143.17 180.00\">\n",
       "<g id=\"graph0\" class=\"graph\" transform=\"scale(0.69 0.69) rotate(0) translate(4 256)\">\n",
       "<title>G</title>\n",
       "<!-- u -->\n",
       "<g id=\"node1\" class=\"node\">\n",
       "<title>u</title>\n",
       "<ellipse fill=\"#404040\" stroke=\"#4a4a4a\" cx=\"1.8\" cy=\"-162\" rx=\"1.8\" ry=\"1.8\"/>\n",
       "</g>\n",
       "<!-- Y -->\n",
       "<g id=\"node3\" class=\"node\">\n",
       "<title>Y</title>\n",
       "<ellipse fill=\"#404040\" stroke=\"#4a4a4a\" cx=\"118.8\" cy=\"-18\" rx=\"27\" ry=\"18\"/>\n",
       "<text text-anchor=\"middle\" x=\"118.8\" y=\"-14.3\" font-family=\"Times,serif\" font-size=\"14.00\" fill=\"white\">Y</text>\n",
       "</g>\n",
       "<!-- u&#45;&gt;Y -->\n",
       "<g id=\"edge3\" class=\"edge\">\n",
       "<title>u-&gt;Y</title>\n",
       "<path fill=\"none\" stroke=\"#4a4a4a\" stroke-dasharray=\"5,2\" d=\"M2.16,-160.04C4.94,-152.59 23.79,-103.68 50.8,-72 62.35,-58.45 77.85,-46.05 91.13,-36.66\"/>\n",
       "<polygon fill=\"#4a4a4a\" stroke=\"#4a4a4a\" points=\"93.21,-39.48 99.48,-30.94 89.25,-33.7 93.21,-39.48\"/>\n",
       "</g>\n",
       "<!-- T -->\n",
       "<g id=\"node4\" class=\"node\">\n",
       "<title>T</title>\n",
       "<ellipse fill=\"#404040\" stroke=\"#4a4a4a\" cx=\"86.8\" cy=\"-90\" rx=\"27\" ry=\"18\"/>\n",
       "<text text-anchor=\"middle\" x=\"86.8\" y=\"-86.3\" font-family=\"Times,serif\" font-size=\"14.00\" fill=\"white\">T</text>\n",
       "</g>\n",
       "<!-- u&#45;&gt;T -->\n",
       "<g id=\"edge1\" class=\"edge\">\n",
       "<title>u-&gt;T</title>\n",
       "<path fill=\"none\" stroke=\"#4a4a4a\" stroke-dasharray=\"5,2\" d=\"M2.62,-160.03C4.89,-157.34 11.55,-149.66 17.8,-144 31.31,-131.78 47.4,-119.31 60.64,-109.54\"/>\n",
       "<polygon fill=\"#4a4a4a\" stroke=\"#4a4a4a\" points=\"62.86,-112.26 68.88,-103.54 58.74,-106.6 62.86,-112.26\"/>\n",
       "</g>\n",
       "<!-- W -->\n",
       "<g id=\"node2\" class=\"node\">\n",
       "<title>W</title>\n",
       "<ellipse fill=\"#404040\" stroke=\"#4a4a4a\" cx=\"86.8\" cy=\"-162\" rx=\"27\" ry=\"18\"/>\n",
       "<text text-anchor=\"middle\" x=\"86.8\" y=\"-158.3\" font-family=\"Times,serif\" font-size=\"14.00\" fill=\"white\">W</text>\n",
       "</g>\n",
       "<!-- W&#45;&gt;T -->\n",
       "<g id=\"edge7\" class=\"edge\">\n",
       "<title>W-&gt;T</title>\n",
       "<path fill=\"none\" stroke=\"#4a4a4a\" d=\"M85.8,-143.7C85.8,-135.98 85.8,-126.71 85.8,-118.11\"/>\n",
       "<path fill=\"none\" stroke=\"#4a4a4a\" d=\"M87.8,-143.7C87.8,-135.98 87.8,-126.71 87.8,-118.11\"/>\n",
       "<polygon fill=\"#4a4a4a\" stroke=\"#4a4a4a\" points=\"90.3,-118.1 86.8,-108.1 83.3,-118.1 90.3,-118.1\"/>\n",
       "</g>\n",
       "<!-- T&#45;&gt;Y -->\n",
       "<g id=\"edge2\" class=\"edge\">\n",
       "<title>T-&gt;Y</title>\n",
       "<path fill=\"none\" stroke=\"#4a4a4a\" d=\"M93.47,-72C97.26,-63.71 101.92,-53.51 106.16,-44.25\"/>\n",
       "<path fill=\"none\" stroke=\"#4a4a4a\" d=\"M95.29,-72.83C99.08,-64.54 103.74,-54.34 107.98,-45.08\"/>\n",
       "<polygon fill=\"#4a4a4a\" stroke=\"#4a4a4a\" points=\"110.3,-46.02 111.27,-35.47 103.93,-43.11 110.3,-46.02\"/>\n",
       "</g>\n",
       "<!-- X1 -->\n",
       "<g id=\"node5\" class=\"node\">\n",
       "<title>X1</title>\n",
       "<ellipse fill=\"#404040\" stroke=\"#4a4a4a\" cx=\"58.8\" cy=\"-234\" rx=\"27\" ry=\"18\"/>\n",
       "<text text-anchor=\"middle\" x=\"58.8\" y=\"-230.3\" font-family=\"Times,serif\" font-size=\"14.00\" fill=\"white\">X1</text>\n",
       "</g>\n",
       "<!-- X1&#45;&gt;W -->\n",
       "<g id=\"edge6\" class=\"edge\">\n",
       "<title>X1-&gt;W</title>\n",
       "<path fill=\"none\" stroke=\"#4a4a4a\" d=\"M64.51,-216.04C67.78,-207.85 71.82,-197.77 75.49,-188.58\"/>\n",
       "<path fill=\"none\" stroke=\"#4a4a4a\" d=\"M66.36,-216.78C69.64,-208.59 73.67,-198.51 77.35,-189.33\"/>\n",
       "<polygon fill=\"#4a4a4a\" stroke=\"#4a4a4a\" points=\"79.75,-190.05 80.21,-179.47 73.25,-187.45 79.75,-190.05\"/>\n",
       "</g>\n",
       "<!-- X1&#45;&gt;T -->\n",
       "<g id=\"edge9\" class=\"edge\">\n",
       "<title>X1-&gt;T</title>\n",
       "<path fill=\"none\" stroke=\"#4a4a4a\" d=\"M52.58,-216.46C47.72,-198.18 42.34,-168.5 49.84,-143.71 53.23,-132.8 59.48,-122.34 65.92,-113.49\"/>\n",
       "<path fill=\"none\" stroke=\"#4a4a4a\" d=\"M54.51,-215.94C49.69,-197.83 44.31,-168.14 51.76,-144.29 54.94,-133.83 61.2,-123.36 67.53,-114.67\"/>\n",
       "<polygon fill=\"#4a4a4a\" stroke=\"#4a4a4a\" points=\"69.68,-115.98 73.05,-105.93 64.15,-111.69 69.68,-115.98\"/>\n",
       "</g>\n",
       "<!-- X2 -->\n",
       "<g id=\"node6\" class=\"node\">\n",
       "<title>X2</title>\n",
       "<ellipse fill=\"#404040\" stroke=\"#4a4a4a\" cx=\"158.8\" cy=\"-162\" rx=\"27\" ry=\"18\"/>\n",
       "<text text-anchor=\"middle\" x=\"158.8\" y=\"-158.3\" font-family=\"Times,serif\" font-size=\"14.00\" fill=\"white\">X2</text>\n",
       "</g>\n",
       "<!-- X2&#45;&gt;Y -->\n",
       "<g id=\"edge10\" class=\"edge\">\n",
       "<title>X2-&gt;Y</title>\n",
       "<path fill=\"none\" stroke=\"#4a4a4a\" d=\"M153.09,-144.42C146.24,-120.08 133.49,-74.84 125.35,-45.94\"/>\n",
       "<path fill=\"none\" stroke=\"#4a4a4a\" d=\"M155.02,-143.88C148.16,-119.54 135.42,-74.3 127.27,-45.39\"/>\n",
       "<polygon fill=\"#4a4a4a\" stroke=\"#4a4a4a\" points=\"129.62,-44.5 123.54,-35.82 122.88,-46.4 129.62,-44.5\"/>\n",
       "</g>\n",
       "<!-- X2&#45;&gt;T -->\n",
       "<g id=\"edge5\" class=\"edge\">\n",
       "<title>X2-&gt;T</title>\n",
       "<path fill=\"none\" stroke=\"#4a4a4a\" d=\"M143.53,-147.55C133.35,-137.65 119.58,-124.26 108.07,-113.08\"/>\n",
       "<path fill=\"none\" stroke=\"#4a4a4a\" d=\"M144.93,-146.12C134.75,-136.22 120.97,-122.83 109.47,-111.64\"/>\n",
       "<polygon fill=\"#4a4a4a\" stroke=\"#4a4a4a\" points=\"111.21,-109.85 101.6,-105.38 106.33,-114.87 111.21,-109.85\"/>\n",
       "</g>\n",
       "<!-- X3 -->\n",
       "<g id=\"node7\" class=\"node\">\n",
       "<title>X3</title>\n",
       "<ellipse fill=\"#404040\" stroke=\"#4a4a4a\" cx=\"171.8\" cy=\"-234\" rx=\"27\" ry=\"18\"/>\n",
       "<text text-anchor=\"middle\" x=\"171.8\" y=\"-230.3\" font-family=\"Times,serif\" font-size=\"14.00\" fill=\"white\">X3</text>\n",
       "</g>\n",
       "<!-- X3&#45;&gt;W -->\n",
       "<g id=\"edge8\" class=\"edge\">\n",
       "<title>X3-&gt;W</title>\n",
       "<path fill=\"none\" stroke=\"#4a4a4a\" d=\"M154.78,-220.28C142.19,-209.91 124.63,-195.45 110.42,-183.75\"/>\n",
       "<path fill=\"none\" stroke=\"#4a4a4a\" d=\"M156.05,-218.73C143.46,-208.37 125.9,-193.9 111.69,-182.2\"/>\n",
       "<polygon fill=\"#4a4a4a\" stroke=\"#4a4a4a\" points=\"113.08,-180.11 103.14,-176.46 108.63,-185.51 113.08,-180.11\"/>\n",
       "</g>\n",
       "<!-- X3&#45;&gt;Y -->\n",
       "<g id=\"edge4\" class=\"edge\">\n",
       "<title>X3-&gt;Y</title>\n",
       "<path fill=\"none\" stroke=\"#4a4a4a\" d=\"M179.98,-216.41C185.16,-206.25 191.19,-192.56 193.82,-179.8 197.07,-164.15 197.99,-159.26 193.83,-144.26 183.35,-105.27 156.23,-66.17 137.48,-42.48\"/>\n",
       "<path fill=\"none\" stroke=\"#4a4a4a\" d=\"M181.76,-217.32C186.99,-207.05 193.02,-193.37 195.78,-180.2 199.04,-164.52 199.96,-159.63 195.77,-143.74 185,-104.13 157.87,-65.03 139.05,-41.24\"/>\n",
       "<polygon fill=\"#4a4a4a\" stroke=\"#4a4a4a\" points=\"140.78,-39.41 131.76,-33.84 135.34,-43.81 140.78,-39.41\"/>\n",
       "</g>\n",
       "</g>\n",
       "</svg>"
      ],
      "text/plain": [
       "<pyAgrum.causal._CausalModel.CausalModel at 0x74073241c3a0>"
      ]
     },
     "execution_count": 273,
     "metadata": {},
     "output_type": "execute_result"
    }
   ],
   "source": [
    "bn8 = gum.BayesNet()\n",
    "\n",
    "bn8.beginTopologyTransformation()\n",
    "\n",
    "bn8.add(gum.IntegerVariable(\"W\", \"W\", [0,1]))\n",
    "bn8.add(getDiscretizedVariable(\"Y\", -4,6, 100))\n",
    "bn8.add(gum.IntegerVariable(\"T\", \"T\", [0,1]))\n",
    "bn8.add(getDiscretizedVariable(\"X1\", -4,6, 3))\n",
    "bn8.add(getDiscretizedVariable(\"X2\", -4,6, 3))\n",
    "bn8.add(getDiscretizedVariable(\"X3\", -4,6, 3))\n",
    "bn8.add(getDiscretizedVariable(\"U\", -4,6, 3))\n",
    "\n",
    "bn8.addArc(\"U\", \"T\")\n",
    "bn8.addArc(\"U\", \"Y\")\n",
    "bn8.addArc(\"W\", \"T\")\n",
    "bn8.addArc(\"T\", \"Y\")\n",
    "\n",
    "bn8.addArc(\"X1\", \"W\")\n",
    "bn8.addArc(\"X1\", \"T\")\n",
    "bn8.addArc(\"X2\", \"T\")\n",
    "bn8.addArc(\"X2\", \"Y\")\n",
    "bn8.addArc(\"X3\", \"W\")\n",
    "bn8.addArc(\"X3\", \"Y\")\n",
    "\n",
    "bn8.cpt(\"U\").fillFromDistribution(norm, loc=1, scale=1)\n",
    "bn8.cpt(\"X1\").fillFromDistribution(norm, loc=1, scale=1)\n",
    "bn8.cpt(\"X2\").fillFromDistribution(norm, loc=1, scale=1)\n",
    "bn8.cpt(\"X3\").fillFromDistribution(norm, loc=1, scale=1)\n",
    "bn8.cpt(\"W\").fillFromDistribution(logistic, loc=\"5 - 4*X1 + X3\", scale=1)\n",
    "bn8.cpt(\"T\").fillFromDistribution(logistic, loc=\"U - 2*W + 3*X1 + X2\", scale=1)\n",
    "bn8.cpt(\"Y\").fillFromDistribution(norm, loc=\"U + 2*T - 4*X3 + X2\", scale=1)\n",
    "\n",
    "ie = gum.LazyPropagation(bn8)\n",
    "\n",
    "cpt_T = ie.evidenceImpact(\"T\", [\"W\", \"X1\", \"X2\"])\n",
    "cpt_Y = ie.evidenceImpact(\"Y\", [\"T\", \"X3\", \"X2\"])\n",
    "ie = None\n",
    "\n",
    "bn8.eraseArc(\"U\", \"T\")\n",
    "bn8.eraseArc(\"U\", \"Y\")\n",
    "bn8.erase(\"U\")\n",
    "\n",
    "bn8.cpt(\"T\").fillWith(cpt_T)\n",
    "bn8.cpt(\"Y\").fillWith(cpt_Y)\n",
    "\n",
    "bn8.endTopologyTransformation()\n",
    "\n",
    "cslbn8 = csl.CausalModel(bn8)\n",
    "\n",
    "cslbn8.addLatentVariable(\"u\", (\"T\", \"Y\"))\n",
    "cslbn8.addCausalArc(\"T\", \"Y\")\n",
    "\n",
    "cslbn8"
   ]
  },
  {
   "cell_type": "code",
   "execution_count": 274,
   "metadata": {},
   "outputs": [
    {
     "name": "stdout",
     "output_type": "stream",
     "text": [
      "Generalized Instrumental Variable adjustment found. \n",
      "\n",
      "Supported estimators include:\n",
      "- CausalModelEstimator\n",
      "- Wald\n",
      "- WaldIPW\n",
      "- NormalizedWaldIPW\n",
      "- TSLS\n"
     ]
    },
    {
     "data": {
      "text/plain": [
       "'Generalized Instrumental Variable'"
      ]
     },
     "execution_count": 274,
     "metadata": {},
     "output_type": "execute_result"
    }
   ],
   "source": [
    "po8 = csl.CausalEffectEstimation(df8, cslbn8)\n",
    "po8.identifyAdjustmentSet(intervention=\"T\", outcome=\"Y\")"
   ]
  },
  {
   "cell_type": "code",
   "execution_count": 275,
   "metadata": {},
   "outputs": [
    {
     "name": "stdout",
     "output_type": "stream",
     "text": [
      "<pyAgrum.causal.causalEffectEstimation._CausalEffectEstimation.CausalEffectEstimation object at 0x740732409ff0>\n",
      "\n",
      " Dataframe\t: <pandas.core.frame.DataFrame object at 0x7407324092a0>\n",
      "\t- shape\t\t: (1000000, 6)\n",
      "\t- columns\t: Index(['W', 'X1', 'X2', 'X3', 'T', 'Y'], dtype='object')\n",
      "\t- memory usage\t: 56.0 MB\n",
      " Causal Model\t: <pyAgrum.causal._CausalModel.CausalModel object at 0x74073241c3a0>\n",
      "\t- names\t\t: {0: 'W', 1: 'Y', 2: 'T', 3: 'X1', 4: 'X2', 5: 'X3', 6: 'u'}\n",
      "\t- causal BN\t: BN{nodes: 7, arcs: 10, domainSize: 21600, dim: 3616, mem: 28Ko 936o}\n",
      "\t- observ. BN\t: BN{nodes: 6, arcs: 8, domainSize: 10800, dim: 1815, mem: 14Ko 568o}\n",
      " Adjustment\t: Generalized Instrumental Variable\n",
      " Intervention\t: T\n",
      " Outcome\t: Y\n",
      " Confounders\t: {'X3'}\n",
      " Instrument\t: W\n"
     ]
    }
   ],
   "source": [
    "print(po8)"
   ]
  },
  {
   "cell_type": "code",
   "execution_count": 276,
   "metadata": {},
   "outputs": [
    {
     "data": {
      "text/plain": [
       "2.731222804273997"
      ]
     },
     "execution_count": 276,
     "metadata": {},
     "output_type": "execute_result"
    }
   ],
   "source": [
    "po8.fitCausalBNEstimator()\n",
    "po8.estimateCausalEffect()"
   ]
  },
  {
   "cell_type": "code",
   "execution_count": 277,
   "metadata": {},
   "outputs": [
    {
     "data": {
      "text/plain": [
       "-1.0041099752935734"
      ]
     },
     "execution_count": 277,
     "metadata": {},
     "output_type": "execute_result"
    }
   ],
   "source": [
    "po8.fitTSLS()\n",
    "po8.estimateCausalEffect()"
   ]
  },
  {
   "cell_type": "code",
   "execution_count": 278,
   "metadata": {},
   "outputs": [
    {
     "data": {
      "text/plain": [
       "2.0173544503239786"
      ]
     },
     "execution_count": 278,
     "metadata": {},
     "output_type": "execute_result"
    }
   ],
   "source": [
    "po8.fitWaldIPW()\n",
    "po8.estimateCausalEffect()"
   ]
  },
  {
   "cell_type": "code",
   "execution_count": 279,
   "metadata": {},
   "outputs": [
    {
     "data": {
      "text/plain": [
       "2.013237495868846"
      ]
     },
     "execution_count": 279,
     "metadata": {},
     "output_type": "execute_result"
    }
   ],
   "source": [
    "po8.fitNormalizedWaldIPW()\n",
    "po8.estimateCausalEffect()"
   ]
  },
  {
   "cell_type": "code",
   "execution_count": 280,
   "metadata": {},
   "outputs": [
    {
     "data": {
      "text/plain": [
       "1.9961405217093806"
      ]
     },
     "execution_count": 280,
     "metadata": {},
     "output_type": "execute_result"
    }
   ],
   "source": [
    "po8.fitNormalizedWaldIPW(iv_probability_learner=\"XGBClassifier\")\n",
    "po8.estimateCausalEffect()"
   ]
  }
 ],
 "metadata": {
  "kernelspec": {
   "display_name": "Python 3 (ipykernel)",
   "language": "python",
   "name": "python3"
  },
  "language_info": {
   "codemirror_mode": {
    "name": "ipython",
    "version": 3
   },
   "file_extension": ".py",
   "mimetype": "text/x-python",
   "name": "python",
   "nbconvert_exporter": "python",
   "pygments_lexer": "ipython3",
   "version": "3.10.12"
  }
 },
 "nbformat": 4,
 "nbformat_minor": 4
}
