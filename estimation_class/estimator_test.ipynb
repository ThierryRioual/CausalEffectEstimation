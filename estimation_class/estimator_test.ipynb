{
 "cells": [
  {
   "cell_type": "code",
   "execution_count": 2,
   "metadata": {},
   "outputs": [],
   "source": [
    "%load_ext autoreload\n",
    "%autoreload 2"
   ]
  },
  {
   "cell_type": "code",
   "execution_count": 3,
   "metadata": {},
   "outputs": [],
   "source": [
    "import pyAgrum as gum\n",
    "import pyAgrum.lib.notebook as gnb\n",
    "\n",
    "import pyAgrum.causal as csl\n",
    "import pyAgrum.causal.notebook as cslnb\n",
    "\n",
    "import pyAgrum.skbn as skbn\n",
    "\n",
    "import pandas as pd\n",
    "import numpy as np"
   ]
  },
  {
   "cell_type": "code",
   "execution_count": 4,
   "metadata": {},
   "outputs": [],
   "source": [
    "import os\n",
    "import sys\n",
    "module_path = os.path.abspath(os.path.join('..'))\n",
    "if module_path not in sys.path:\n",
    "    sys.path.append(module_path)\n",
    "\n",
    "from estimation_class.estimators import estimator"
   ]
  },
  {
   "cell_type": "code",
   "execution_count": 5,
   "metadata": {},
   "outputs": [],
   "source": [
    "# Model parameters\n",
    "XI = np.array([-1, 1, 1])\n",
    "NU = np.array([0, -1, 1, -1, 2])\n",
    "BETA = np.array([0, 0.6, -0.6, 0.6])\n",
    "TAU_0 = np.array([-1, -1, 1, 1])\n",
    "TAU_1 = TAU_0 * -1\n",
    "SIGMA = np.array([[1, 0.5, -0.5, -0.5],\n",
    "                  [0.5, 1, -0.5, -0.5],\n",
    "                  [-0.5, -0.5, 1, 0.5],\n",
    "                  [-0.5, -0.5, 0.5, 1]], dtype=float)\n",
    "\n",
    "def generate_lunceford(n=1000):\n",
    "    # Generate data\n",
    "    x3 = np.random.binomial(1, 0.2, n)\n",
    "    v3 = np.random.binomial(1, (0.75 * x3 + (0.25 * (1 - x3))), n)\n",
    "\n",
    "    # If x3=0 you have a model, if x3=1 you have another one\n",
    "    x1v1x2v2_x3_0_matrix = np.random.multivariate_normal(TAU_0, SIGMA, size=n, check_valid='warn', tol=1e-8)\n",
    "    x1v1x2v2_x3_1_matrix = np.random.multivariate_normal(TAU_1, SIGMA, size=n, check_valid='warn', tol=1e-8)\n",
    "    x1v1x2v2_x3 = np.where(np.repeat(x3[:, np.newaxis], 4, axis=1) == 0, x1v1x2v2_x3_0_matrix, x1v1x2v2_x3_1_matrix)\n",
    "\n",
    "    # Concatenate values\n",
    "    xv = np.concatenate([x1v1x2v2_x3, np.expand_dims(x3, axis=1), np.expand_dims(v3, axis=1)], axis=1)\n",
    "\n",
    "    # Compute e, a, and y\n",
    "    x = xv[:, [0,2,4]]\n",
    "    v = xv[:, [1,3,5]]\n",
    "    e = np.power(1 + np.exp(- BETA[0] - x.dot(BETA[1:])), -1)\n",
    "    a = np.random.binomial(1, e, n)\n",
    "    y = x.dot(NU[1:-1]) + v.dot(XI) + a*NU[-1] + np.random.binomial(1, e, n) + np.random.normal(0, 1, n)\n",
    "\n",
    "    # Create the final df\n",
    "    synthetic_data_df = pd.DataFrame(np.concatenate([x, np.expand_dims(a, axis=1), v, np.expand_dims(y, axis=1)], axis=1), columns=[\"X1\", \"X2\", \"X3\", \"T\", \"V1\", \"V2\", \"V3\", \"Y\"])\n",
    "    synthetic_data_df[\"X3\"] = synthetic_data_df[\"X3\"].astype(int)\n",
    "    synthetic_data_df[\"V3\"] = synthetic_data_df[\"V3\"].astype(int)\n",
    "    synthetic_data_df[\"T\"] = synthetic_data_df[\"T\"].astype(int)\n",
    "\n",
    "    return synthetic_data_df"
   ]
  },
  {
   "cell_type": "code",
   "execution_count": 6,
   "metadata": {},
   "outputs": [
    {
     "data": {
      "text/html": [
       "<div>\n",
       "<style scoped>\n",
       "    .dataframe tbody tr th:only-of-type {\n",
       "        vertical-align: middle;\n",
       "    }\n",
       "\n",
       "    .dataframe tbody tr th {\n",
       "        vertical-align: top;\n",
       "    }\n",
       "\n",
       "    .dataframe thead th {\n",
       "        text-align: right;\n",
       "    }\n",
       "</style>\n",
       "<table border=\"1\" class=\"dataframe\">\n",
       "  <thead>\n",
       "    <tr style=\"text-align: right;\">\n",
       "      <th></th>\n",
       "      <th>X1</th>\n",
       "      <th>X2</th>\n",
       "      <th>X3</th>\n",
       "      <th>T</th>\n",
       "      <th>V1</th>\n",
       "      <th>V2</th>\n",
       "      <th>V3</th>\n",
       "      <th>Y</th>\n",
       "    </tr>\n",
       "  </thead>\n",
       "  <tbody>\n",
       "    <tr>\n",
       "      <th>0</th>\n",
       "      <td>-2.905342</td>\n",
       "      <td>2.259419</td>\n",
       "      <td>0</td>\n",
       "      <td>0</td>\n",
       "      <td>-0.952061</td>\n",
       "      <td>3.123965</td>\n",
       "      <td>0</td>\n",
       "      <td>9.093508</td>\n",
       "    </tr>\n",
       "    <tr>\n",
       "      <th>1</th>\n",
       "      <td>1.591675</td>\n",
       "      <td>-1.311247</td>\n",
       "      <td>1</td>\n",
       "      <td>1</td>\n",
       "      <td>-0.461181</td>\n",
       "      <td>-0.751729</td>\n",
       "      <td>0</td>\n",
       "      <td>-0.513424</td>\n",
       "    </tr>\n",
       "    <tr>\n",
       "      <th>2</th>\n",
       "      <td>0.346525</td>\n",
       "      <td>-1.458863</td>\n",
       "      <td>1</td>\n",
       "      <td>1</td>\n",
       "      <td>-0.504908</td>\n",
       "      <td>-0.003104</td>\n",
       "      <td>1</td>\n",
       "      <td>0.677101</td>\n",
       "    </tr>\n",
       "    <tr>\n",
       "      <th>3</th>\n",
       "      <td>-1.396619</td>\n",
       "      <td>1.754771</td>\n",
       "      <td>0</td>\n",
       "      <td>0</td>\n",
       "      <td>-1.292226</td>\n",
       "      <td>0.705698</td>\n",
       "      <td>0</td>\n",
       "      <td>5.567928</td>\n",
       "    </tr>\n",
       "    <tr>\n",
       "      <th>4</th>\n",
       "      <td>2.933079</td>\n",
       "      <td>0.152040</td>\n",
       "      <td>1</td>\n",
       "      <td>1</td>\n",
       "      <td>2.082927</td>\n",
       "      <td>-2.160780</td>\n",
       "      <td>1</td>\n",
       "      <td>-5.862292</td>\n",
       "    </tr>\n",
       "  </tbody>\n",
       "</table>\n",
       "</div>"
      ],
      "text/plain": [
       "         X1        X2  X3  T        V1        V2  V3         Y\n",
       "0 -2.905342  2.259419   0  0 -0.952061  3.123965   0  9.093508\n",
       "1  1.591675 -1.311247   1  1 -0.461181 -0.751729   0 -0.513424\n",
       "2  0.346525 -1.458863   1  1 -0.504908 -0.003104   1  0.677101\n",
       "3 -1.396619  1.754771   0  0 -1.292226  0.705698   0  5.567928\n",
       "4  2.933079  0.152040   1  1  2.082927 -2.160780   1 -5.862292"
      ]
     },
     "execution_count": 6,
     "metadata": {},
     "output_type": "execute_result"
    }
   ],
   "source": [
    "df = generate_lunceford(int(1e6))\n",
    "df.head()"
   ]
  },
  {
   "cell_type": "code",
   "execution_count": 7,
   "metadata": {},
   "outputs": [],
   "source": [
    "def getBN(# Covariate parameters\n",
    "          covariate_start : int = -5.0,\n",
    "          covariate_end : int = 5.0 ,\n",
    "          covariate_num_split : int = 10,\n",
    "          # Outcome parameters\n",
    "          outcome_start = -10.0 ,\n",
    "          outcome_end = 15.0 ,\n",
    "          outcome_num_split = 60,\n",
    "          # Other\n",
    "          data : pd.DataFrame | None = None,\n",
    "          add_arcs : bool = True,\n",
    "          fill_distribution : bool = True) -> gum.BayesNet:\n",
    "    \"\"\"\n",
    "    Returns Baysian Network corresponding to the model by discretising\n",
    "    countinous variables with given parameters.\n",
    "    \"\"\"\n",
    "    if data is None:\n",
    "        plus = \"\" if fill_distribution else \"+\"\n",
    "        bn = gum.BayesNet()\n",
    "        for i in range(1,3):\n",
    "            bn.add(f\"X{i}{plus}[{covariate_start}:{covariate_end}:{covariate_num_split}]\")\n",
    "            bn.add(f\"V{i}{plus}[{covariate_start}:{covariate_end}:{covariate_num_split}]\")\n",
    "        bn.add(f\"X3[2]\")\n",
    "        bn.add(f\"V3[2]\")\n",
    "        bn.add(\"T[2]\")\n",
    "        bn.add(f\"Y{plus}[{outcome_start}:{outcome_end}:{outcome_num_split}]\")\n",
    "\n",
    "    else :\n",
    "        disc = skbn.BNDiscretizer(defaultDiscretizationMethod=\"uniform\",\n",
    "                                  defaultNumberOfBins=covariate_num_split)\n",
    "        disc.setDiscretizationParameters(\"X3\", 'NoDiscretization', [0, 1])\n",
    "        disc.setDiscretizationParameters(\"V3\", 'NoDiscretization', [0, 1])\n",
    "        disc.setDiscretizationParameters(\"T\", 'NoDiscretization', [0, 1])\n",
    "        disc.setDiscretizationParameters(\"Y\", 'uniform', outcome_num_split)\n",
    "        bn = disc.discretizedBN(data)\n",
    "\n",
    "    if add_arcs :\n",
    "        bn.beginTopologyTransformation()\n",
    "        for _, name in bn:\n",
    "            if name != \"Y\":\n",
    "                bn.addArc(name, \"Y\")\n",
    "        for X in [\"X1\", \"X2\", \"X3\"]:\n",
    "            bn.addArc(X, \"T\")\n",
    "        for XV in [\"X1\", \"V1\", \"X2\", \"V2\"]:\n",
    "            bn.addArc(\"X3\", XV)\n",
    "        bn.addArc(\"X3\", \"V3\")\n",
    "        bn.endTopologyTransformation()\n",
    "\n",
    "    if add_arcs and fill_distribution:\n",
    "        bn.cpt(\"X3\").fillWith([0.8, 0.2])\n",
    "        bn.cpt(\"V3\")[:] = [[0.75, 0.25], [0.25, 0.75]]\n",
    "        for XV in [\"X\", \"V\"]:\n",
    "            bn.cpt(f\"{XV}1\").fillFromDistribution(norm, loc=\"2*X3-1\", scale=1)\n",
    "            bn.cpt(f\"{XV}2\").fillFromDistribution(norm, loc=\"1-2*X3\", scale=1)\n",
    "        bn.cpt(\"T\").fillFromDistribution(logistic, loc=\"-0.6*X1+0.6*X2-0.6*X3\", scale=1)\n",
    "        bn.cpt(\"Y\").fillFromDistribution(norm, loc=\"-X1+X2-X3+2*T-V1+V2+V3\", scale=1)\n",
    "\n",
    "    return bn"
   ]
  },
  {
   "cell_type": "code",
   "execution_count": 11,
   "metadata": {},
   "outputs": [
    {
     "data": {
      "text/html": [
       "<svg xmlns=\"http://www.w3.org/2000/svg\" xmlns:xlink=\"http://www.w3.org/1999/xlink\" width=\"180pt\" height=\"135pt\" viewBox=\"0.00 0.00 180.00 134.83\">\n",
       "<g id=\"graph0\" class=\"graph\" transform=\"scale(0.52 0.52) rotate(0) translate(4 256)\">\n",
       "<title>G</title>\n",
       "<!-- X1 -->\n",
       "<g id=\"node1\" class=\"node\">\n",
       "<title>X1</title>\n",
       "<ellipse fill=\"#404040\" stroke=\"#4a4a4a\" cx=\"27\" cy=\"-162\" rx=\"27\" ry=\"18\"/>\n",
       "<text text-anchor=\"middle\" x=\"27\" y=\"-158.3\" font-family=\"Times,serif\" font-size=\"14.00\" fill=\"white\">X1</text>\n",
       "</g>\n",
       "<!-- T -->\n",
       "<g id=\"node4\" class=\"node\">\n",
       "<title>T</title>\n",
       "<ellipse fill=\"#404040\" stroke=\"#4a4a4a\" cx=\"82\" cy=\"-90\" rx=\"27\" ry=\"18\"/>\n",
       "<text text-anchor=\"middle\" x=\"82\" y=\"-86.3\" font-family=\"Times,serif\" font-size=\"14.00\" fill=\"white\">T</text>\n",
       "</g>\n",
       "<!-- X1&#45;&gt;T -->\n",
       "<g id=\"edge6\" class=\"edge\">\n",
       "<title>X1-&gt;T</title>\n",
       "<path fill=\"none\" stroke=\"#4a4a4a\" d=\"M38.15,-145.19C45.43,-135.93 54.88,-123.9 63.07,-113.48\"/>\n",
       "<path fill=\"none\" stroke=\"#4a4a4a\" d=\"M39.72,-146.43C47,-137.16 56.45,-125.14 64.64,-114.71\"/>\n",
       "<polygon fill=\"#4a4a4a\" stroke=\"#4a4a4a\" points=\"66.66,-116.18 70.09,-106.16 61.16,-111.86 66.66,-116.18\"/>\n",
       "</g>\n",
       "<!-- Y -->\n",
       "<g id=\"node8\" class=\"node\">\n",
       "<title>Y</title>\n",
       "<ellipse fill=\"#404040\" stroke=\"#4a4a4a\" cx=\"192\" cy=\"-18\" rx=\"27\" ry=\"18\"/>\n",
       "<text text-anchor=\"middle\" x=\"192\" y=\"-14.3\" font-family=\"Times,serif\" font-size=\"14.00\" fill=\"white\">Y</text>\n",
       "</g>\n",
       "<!-- X1&#45;&gt;Y -->\n",
       "<g id=\"edge1\" class=\"edge\">\n",
       "<title>X1-&gt;Y</title>\n",
       "<path fill=\"none\" stroke=\"#4a4a4a\" d=\"M25.01,-143.79C24.84,-124.01 27.57,-91.93 45.25,-71.34 73.31,-39.38 121.33,-26.62 154.84,-21.47\"/>\n",
       "<path fill=\"none\" stroke=\"#4a4a4a\" d=\"M27.01,-143.77C26.83,-124.18 29.57,-92.1 46.75,-72.66 73.82,-41.31 121.84,-28.56 155.15,-23.44\"/>\n",
       "<polygon fill=\"#4a4a4a\" stroke=\"#4a4a4a\" points=\"155.85,-25.87 165.28,-21.04 154.9,-18.94 155.85,-25.87\"/>\n",
       "</g>\n",
       "<!-- X2 -->\n",
       "<g id=\"node2\" class=\"node\">\n",
       "<title>X2</title>\n",
       "<ellipse fill=\"#404040\" stroke=\"#4a4a4a\" cx=\"137\" cy=\"-162\" rx=\"27\" ry=\"18\"/>\n",
       "<text text-anchor=\"middle\" x=\"137\" y=\"-158.3\" font-family=\"Times,serif\" font-size=\"14.00\" fill=\"white\">X2</text>\n",
       "</g>\n",
       "<!-- X2&#45;&gt;T -->\n",
       "<g id=\"edge14\" class=\"edge\">\n",
       "<title>X2-&gt;T</title>\n",
       "<path fill=\"none\" stroke=\"#4a4a4a\" d=\"M124.28,-146.43C117,-137.16 107.55,-125.14 99.36,-114.71\"/>\n",
       "<path fill=\"none\" stroke=\"#4a4a4a\" d=\"M125.85,-145.19C118.57,-135.93 109.12,-123.9 100.93,-113.48\"/>\n",
       "<polygon fill=\"#4a4a4a\" stroke=\"#4a4a4a\" points=\"102.84,-111.86 93.91,-106.16 97.34,-116.18 102.84,-111.86\"/>\n",
       "</g>\n",
       "<!-- X2&#45;&gt;Y -->\n",
       "<g id=\"edge11\" class=\"edge\">\n",
       "<title>X2-&gt;Y</title>\n",
       "<path fill=\"none\" stroke=\"#4a4a4a\" d=\"M137.66,-143.89C139.9,-125.49 144.84,-95.67 155.08,-71.61 159.54,-61.19 166.03,-50.81 172.33,-41.95\"/>\n",
       "<path fill=\"none\" stroke=\"#4a4a4a\" d=\"M139.65,-144.13C141.88,-125.82 146.81,-95.99 156.92,-72.39 161.24,-62.25 167.73,-51.87 173.96,-43.11\"/>\n",
       "<polygon fill=\"#4a4a4a\" stroke=\"#4a4a4a\" points=\"176.11,-44.41 179.25,-34.3 170.48,-40.24 176.11,-44.41\"/>\n",
       "</g>\n",
       "<!-- X3 -->\n",
       "<g id=\"node3\" class=\"node\">\n",
       "<title>X3</title>\n",
       "<ellipse fill=\"#404040\" stroke=\"#4a4a4a\" cx=\"192\" cy=\"-234\" rx=\"27\" ry=\"18\"/>\n",
       "<text text-anchor=\"middle\" x=\"192\" y=\"-230.3\" font-family=\"Times,serif\" font-size=\"14.00\" fill=\"white\">X3</text>\n",
       "</g>\n",
       "<!-- X3&#45;&gt;X1 -->\n",
       "<g id=\"edge7\" class=\"edge\">\n",
       "<title>X3-&gt;X1</title>\n",
       "<path fill=\"none\" stroke=\"#4a4a4a\" d=\"M169.36,-224.48C140.74,-212.34 90.85,-191.17 58.28,-177.36\"/>\n",
       "<path fill=\"none\" stroke=\"#4a4a4a\" d=\"M170.14,-222.64C141.52,-210.5 91.63,-189.33 59.06,-175.52\"/>\n",
       "<polygon fill=\"#4a4a4a\" stroke=\"#4a4a4a\" points=\"59.74,-173.09 49.16,-172.4 57,-179.53 59.74,-173.09\"/>\n",
       "</g>\n",
       "<!-- X3&#45;&gt;X2 -->\n",
       "<g id=\"edge3\" class=\"edge\">\n",
       "<title>X3-&gt;X2</title>\n",
       "<path fill=\"none\" stroke=\"#4a4a4a\" d=\"M179.28,-218.43C172,-209.16 162.55,-197.14 154.36,-186.71\"/>\n",
       "<path fill=\"none\" stroke=\"#4a4a4a\" d=\"M180.85,-217.19C173.57,-207.93 164.12,-195.9 155.93,-185.48\"/>\n",
       "<polygon fill=\"#4a4a4a\" stroke=\"#4a4a4a\" points=\"157.84,-183.86 148.91,-178.16 152.34,-188.18 157.84,-183.86\"/>\n",
       "</g>\n",
       "<!-- X3&#45;&gt;T -->\n",
       "<g id=\"edge9\" class=\"edge\">\n",
       "<title>X3-&gt;T</title>\n",
       "<path fill=\"none\" stroke=\"#4a4a4a\" d=\"M167.68,-226.26C146.65,-218.25 117.07,-203.7 100.19,-180.59 87.02,-162.23 82.56,-137.23 81.17,-118.2\"/>\n",
       "<path fill=\"none\" stroke=\"#4a4a4a\" d=\"M168.39,-224.39C147.53,-216.45 117.96,-201.91 101.81,-179.41 88.99,-161.88 84.53,-136.88 83.17,-118.05\"/>\n",
       "<polygon fill=\"#4a4a4a\" stroke=\"#4a4a4a\" points=\"85.66,-117.86 81.68,-108.04 78.67,-118.2 85.66,-117.86\"/>\n",
       "</g>\n",
       "<!-- V1 -->\n",
       "<g id=\"node5\" class=\"node\">\n",
       "<title>V1</title>\n",
       "<ellipse fill=\"#404040\" stroke=\"#4a4a4a\" cx=\"192\" cy=\"-90\" rx=\"27\" ry=\"18\"/>\n",
       "<text text-anchor=\"middle\" x=\"192\" y=\"-86.3\" font-family=\"Times,serif\" font-size=\"14.00\" fill=\"white\">V1</text>\n",
       "</g>\n",
       "<!-- X3&#45;&gt;V1 -->\n",
       "<g id=\"edge2\" class=\"edge\">\n",
       "<title>X3-&gt;V1</title>\n",
       "<path fill=\"none\" stroke=\"#4a4a4a\" d=\"M191,-215.87C191,-191.67 191,-147.21 191,-118.39\"/>\n",
       "<path fill=\"none\" stroke=\"#4a4a4a\" d=\"M193,-215.87C193,-191.67 193,-147.21 193,-118.39\"/>\n",
       "<polygon fill=\"#4a4a4a\" stroke=\"#4a4a4a\" points=\"195.5,-118.19 192,-108.19 188.5,-118.19 195.5,-118.19\"/>\n",
       "</g>\n",
       "<!-- V2 -->\n",
       "<g id=\"node6\" class=\"node\">\n",
       "<title>V2</title>\n",
       "<ellipse fill=\"#404040\" stroke=\"#4a4a4a\" cx=\"264\" cy=\"-90\" rx=\"27\" ry=\"18\"/>\n",
       "<text text-anchor=\"middle\" x=\"264\" y=\"-86.3\" font-family=\"Times,serif\" font-size=\"14.00\" fill=\"white\">V2</text>\n",
       "</g>\n",
       "<!-- X3&#45;&gt;V2 -->\n",
       "<g id=\"edge13\" class=\"edge\">\n",
       "<title>X3-&gt;V2</title>\n",
       "<path fill=\"none\" stroke=\"#4a4a4a\" d=\"M199.37,-216.26C211.78,-191.78 235.35,-145.29 250.09,-116.22\"/>\n",
       "<path fill=\"none\" stroke=\"#4a4a4a\" d=\"M201.15,-217.16C213.56,-192.68 237.14,-146.19 251.88,-117.12\"/>\n",
       "<polygon fill=\"#4a4a4a\" stroke=\"#4a4a4a\" points=\"254.21,-118.04 255.62,-107.54 247.97,-114.87 254.21,-118.04\"/>\n",
       "</g>\n",
       "<!-- V3 -->\n",
       "<g id=\"node7\" class=\"node\">\n",
       "<title>V3</title>\n",
       "<ellipse fill=\"#404040\" stroke=\"#4a4a4a\" cx=\"298\" cy=\"-162\" rx=\"27\" ry=\"18\"/>\n",
       "<text text-anchor=\"middle\" x=\"298\" y=\"-158.3\" font-family=\"Times,serif\" font-size=\"14.00\" fill=\"white\">V3</text>\n",
       "</g>\n",
       "<!-- X3&#45;&gt;V3 -->\n",
       "<g id=\"edge12\" class=\"edge\">\n",
       "<title>X3-&gt;V3</title>\n",
       "<path fill=\"none\" stroke=\"#4a4a4a\" d=\"M209.91,-219.97C226.61,-208.95 251.4,-192.58 270.34,-180.07\"/>\n",
       "<path fill=\"none\" stroke=\"#4a4a4a\" d=\"M211.01,-221.64C227.71,-210.62 252.5,-194.25 271.44,-181.74\"/>\n",
       "<polygon fill=\"#4a4a4a\" stroke=\"#4a4a4a\" points=\"272.98,-183.72 279.39,-175.29 269.12,-177.88 272.98,-183.72\"/>\n",
       "</g>\n",
       "<!-- X3&#45;&gt;Y -->\n",
       "<g id=\"edge4\" class=\"edge\">\n",
       "<title>X3-&gt;Y</title>\n",
       "<path fill=\"none\" stroke=\"#4a4a4a\" d=\"M218.82,-230.7C252.12,-227.47 307.85,-216.42 333.18,-179.43 348.51,-158.02 323.93,-80.54 317.23,-72.64 295.12,-45.93 256.41,-32.43 227.94,-25.88\"/>\n",
       "<path fill=\"none\" stroke=\"#4a4a4a\" d=\"M219.01,-232.69C252.51,-229.43 308.24,-218.38 334.82,-180.57 350.42,-157.42 325.83,-79.94 318.77,-71.36 295.78,-44.04 257.07,-30.54 228.39,-23.93\"/>\n",
       "<polygon fill=\"#4a4a4a\" stroke=\"#4a4a4a\" points=\"228.66,-21.43 218.15,-22.78 227.21,-28.28 228.66,-21.43\"/>\n",
       "</g>\n",
       "<!-- T&#45;&gt;Y -->\n",
       "<g id=\"edge5\" class=\"edge\">\n",
       "<title>T-&gt;Y</title>\n",
       "<path fill=\"none\" stroke=\"#4a4a4a\" d=\"M100.62,-75.96C118.13,-64.82 144.22,-48.22 163.96,-35.66\"/>\n",
       "<path fill=\"none\" stroke=\"#4a4a4a\" d=\"M101.7,-77.65C119.21,-66.51 145.3,-49.91 165.03,-37.35\"/>\n",
       "<polygon fill=\"#4a4a4a\" stroke=\"#4a4a4a\" points=\"166.5,-39.37 173.06,-31.05 162.74,-33.47 166.5,-39.37\"/>\n",
       "</g>\n",
       "<!-- V1&#45;&gt;Y -->\n",
       "<g id=\"edge15\" class=\"edge\">\n",
       "<title>V1-&gt;Y</title>\n",
       "<path fill=\"none\" stroke=\"#4a4a4a\" d=\"M191,-71.7C191,-63.98 191,-54.71 191,-46.11\"/>\n",
       "<path fill=\"none\" stroke=\"#4a4a4a\" d=\"M193,-71.7C193,-63.98 193,-54.71 193,-46.11\"/>\n",
       "<polygon fill=\"#4a4a4a\" stroke=\"#4a4a4a\" points=\"195.5,-46.1 192,-36.1 188.5,-46.1 195.5,-46.1\"/>\n",
       "</g>\n",
       "<!-- V2&#45;&gt;Y -->\n",
       "<g id=\"edge8\" class=\"edge\">\n",
       "<title>V2-&gt;Y</title>\n",
       "<path fill=\"none\" stroke=\"#4a4a4a\" d=\"M248.73,-75.55C238.55,-65.65 224.78,-52.26 213.27,-41.08\"/>\n",
       "<path fill=\"none\" stroke=\"#4a4a4a\" d=\"M250.13,-74.12C239.95,-64.22 226.17,-50.83 214.67,-39.64\"/>\n",
       "<polygon fill=\"#4a4a4a\" stroke=\"#4a4a4a\" points=\"216.41,-37.85 206.8,-33.38 211.53,-42.87 216.41,-37.85\"/>\n",
       "</g>\n",
       "<!-- V3&#45;&gt;Y -->\n",
       "<g id=\"edge10\" class=\"edge\">\n",
       "<title>V3-&gt;Y</title>\n",
       "<path fill=\"none\" stroke=\"#4a4a4a\" d=\"M302.54,-143.89C307.65,-124.95 312.66,-93.75 299.15,-72.53 283.88,-47.68 252.24,-34.12 227.37,-27.1\"/>\n",
       "<path fill=\"none\" stroke=\"#4a4a4a\" d=\"M304.47,-144.41C309.63,-125.26 314.64,-94.06 300.85,-71.47 284.67,-45.84 253.02,-32.28 227.91,-25.18\"/>\n",
       "<polygon fill=\"#4a4a4a\" stroke=\"#4a4a4a\" points=\"228.31,-22.7 217.75,-23.57 226.55,-29.47 228.31,-22.7\"/>\n",
       "</g>\n",
       "</g>\n",
       "</svg>"
      ],
      "text/plain": [
       "<pyAgrum.causal._CausalModel.CausalModel at 0x7654b95c5540>"
      ]
     },
     "execution_count": 11,
     "metadata": {},
     "output_type": "execute_result"
    }
   ],
   "source": [
    "empty_bn = getBN(data=df, fill_distribution=False)\n",
    "cslbn = csl.CausalModel(empty_bn)\n",
    "cslbn"
   ]
  },
  {
   "cell_type": "code",
   "execution_count": 14,
   "metadata": {},
   "outputs": [],
   "source": [
    "from sklearn.linear_model import LinearRegression"
   ]
  },
  {
   "cell_type": "code",
   "execution_count": 15,
   "metadata": {},
   "outputs": [],
   "source": [
    "est = estimator(df, cslbn, \"T\", \"Y\", {\"X1\", \"X2\", \"X3\"})"
   ]
  },
  {
   "cell_type": "code",
   "execution_count": 16,
   "metadata": {},
   "outputs": [
    {
     "data": {
      "text/plain": [
       "2.020371504447302"
      ]
     },
     "execution_count": 16,
     "metadata": {},
     "output_type": "execute_result"
    }
   ],
   "source": [
    "est.Slearner(LinearRegression())"
   ]
  },
  {
   "cell_type": "code",
   "execution_count": 17,
   "metadata": {},
   "outputs": [
    {
     "data": {
      "text/plain": [
       "2.016220155970742"
      ]
     },
     "execution_count": 17,
     "metadata": {},
     "output_type": "execute_result"
    }
   ],
   "source": [
    "est.Tlearner(LinearRegression())"
   ]
  },
  {
   "cell_type": "code",
   "execution_count": 18,
   "metadata": {},
   "outputs": [
    {
     "data": {
      "text/plain": [
       "2.016220155970742"
      ]
     },
     "execution_count": 18,
     "metadata": {},
     "output_type": "execute_result"
    }
   ],
   "source": [
    "est.Xlearner(LinearRegression())"
   ]
  },
  {
   "cell_type": "code",
   "execution_count": 19,
   "metadata": {},
   "outputs": [
    {
     "name": "stderr",
     "output_type": "stream",
     "text": [
      "/home/thierry/.local/lib/python3.10/site-packages/numpy/core/fromnumeric.py:59: FutureWarning: 'DataFrame.swapaxes' is deprecated and will be removed in a future version. Please use 'DataFrame.transpose' instead.\n",
      "  return bound(*args, **kwds)\n"
     ]
    },
    {
     "data": {
      "text/plain": [
       "2.0008956806104403"
      ]
     },
     "execution_count": 19,
     "metadata": {},
     "output_type": "execute_result"
    }
   ],
   "source": [
    "est.Pstrat(1000)"
   ]
  },
  {
   "cell_type": "code",
   "execution_count": 20,
   "metadata": {},
   "outputs": [
    {
     "data": {
      "text/plain": [
       "2.001929880193258"
      ]
     },
     "execution_count": 20,
     "metadata": {},
     "output_type": "execute_result"
    }
   ],
   "source": [
    "est.IPW()"
   ]
  },
  {
   "cell_type": "code",
   "execution_count": 21,
   "metadata": {},
   "outputs": [
    {
     "data": {
      "text/plain": [
       "1.9986452842971187"
      ]
     },
     "execution_count": 21,
     "metadata": {},
     "output_type": "execute_result"
    }
   ],
   "source": [
    "est.AIPW(LinearRegression())"
   ]
  }
 ],
 "metadata": {
  "kernelspec": {
   "display_name": "Python 3",
   "language": "python",
   "name": "python3"
  },
  "language_info": {
   "codemirror_mode": {
    "name": "ipython",
    "version": 3
   },
   "file_extension": ".py",
   "mimetype": "text/x-python",
   "name": "python",
   "nbconvert_exporter": "python",
   "pygments_lexer": "ipython3",
   "version": "3.10.12"
  }
 },
 "nbformat": 4,
 "nbformat_minor": 2
}
