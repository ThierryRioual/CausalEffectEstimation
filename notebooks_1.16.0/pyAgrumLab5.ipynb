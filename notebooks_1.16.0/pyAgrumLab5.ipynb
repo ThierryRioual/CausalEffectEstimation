{
 "cells": [
  {
   "cell_type": "markdown",
   "metadata": {},
   "source": [
    "# ACE estimations from real observational data\n",
    "*This notebook examines the use of the `CausalEffectEstimation` module for estimating Average Causal Effects (ACE) in Observational Studies from real data:* "
   ]
  },
  {
   "cell_type": "code",
   "execution_count": 68,
   "metadata": {},
   "outputs": [],
   "source": [
    "import pyAgrum as gum\n",
    "import pyAgrum.skbn.discretizer as disc\n",
    "import pyAgrum.lib.explain as gexpl\n",
    "import pyAgrum.lib.notebook as gnb\n",
    "\n",
    "import pyAgrum.causal as csl\n",
    "import pyAgrum.causal.notebook as cslnb\n",
    "\n",
    "import pandas as pd\n",
    "\n",
    "pd.set_option('future.no_silent_downcasting', True)"
   ]
  },
  {
   "cell_type": "markdown",
   "metadata": {},
   "source": [
    "### Dataset\n",
    "The dataset under consideration is the Census Adult Income dataset.\n",
    "The objective of this analysis is to determine whether possessing a graduate degree increases the likelihood of earning an income exceeding $50,000 per year."
   ]
  },
  {
   "cell_type": "code",
   "execution_count": 69,
   "metadata": {},
   "outputs": [
    {
     "data": {
      "text/html": [
       "<div>\n",
       "<style scoped>\n",
       "    .dataframe tbody tr th:only-of-type {\n",
       "        vertical-align: middle;\n",
       "    }\n",
       "\n",
       "    .dataframe tbody tr th {\n",
       "        vertical-align: top;\n",
       "    }\n",
       "\n",
       "    .dataframe thead th {\n",
       "        text-align: right;\n",
       "    }\n",
       "</style>\n",
       "<table border=\"1\" class=\"dataframe\">\n",
       "  <thead>\n",
       "    <tr style=\"text-align: right;\">\n",
       "      <th></th>\n",
       "      <th>age</th>\n",
       "      <th>hours-per-week</th>\n",
       "      <th>hasGraduateDegree</th>\n",
       "      <th>inRelationship</th>\n",
       "      <th>isWhite</th>\n",
       "      <th>isFemale</th>\n",
       "      <th>greaterThan50k</th>\n",
       "    </tr>\n",
       "  </thead>\n",
       "  <tbody>\n",
       "    <tr>\n",
       "      <th>0</th>\n",
       "      <td>39</td>\n",
       "      <td>40</td>\n",
       "      <td>0</td>\n",
       "      <td>0</td>\n",
       "      <td>1</td>\n",
       "      <td>0</td>\n",
       "      <td>0</td>\n",
       "    </tr>\n",
       "    <tr>\n",
       "      <th>1</th>\n",
       "      <td>50</td>\n",
       "      <td>13</td>\n",
       "      <td>0</td>\n",
       "      <td>1</td>\n",
       "      <td>1</td>\n",
       "      <td>0</td>\n",
       "      <td>0</td>\n",
       "    </tr>\n",
       "    <tr>\n",
       "      <th>2</th>\n",
       "      <td>38</td>\n",
       "      <td>40</td>\n",
       "      <td>0</td>\n",
       "      <td>0</td>\n",
       "      <td>1</td>\n",
       "      <td>0</td>\n",
       "      <td>0</td>\n",
       "    </tr>\n",
       "    <tr>\n",
       "      <th>3</th>\n",
       "      <td>53</td>\n",
       "      <td>40</td>\n",
       "      <td>0</td>\n",
       "      <td>1</td>\n",
       "      <td>0</td>\n",
       "      <td>0</td>\n",
       "      <td>0</td>\n",
       "    </tr>\n",
       "    <tr>\n",
       "      <th>5</th>\n",
       "      <td>37</td>\n",
       "      <td>40</td>\n",
       "      <td>1</td>\n",
       "      <td>0</td>\n",
       "      <td>1</td>\n",
       "      <td>1</td>\n",
       "      <td>0</td>\n",
       "    </tr>\n",
       "  </tbody>\n",
       "</table>\n",
       "</div>"
      ],
      "text/plain": [
       "   age  hours-per-week  hasGraduateDegree  inRelationship  isWhite  isFemale  \\\n",
       "0   39              40                  0               0        1         0   \n",
       "1   50              13                  0               1        1         0   \n",
       "2   38              40                  0               0        1         0   \n",
       "3   53              40                  0               1        0         0   \n",
       "5   37              40                  1               0        1         1   \n",
       "\n",
       "   greaterThan50k  \n",
       "0               0  \n",
       "1               0  \n",
       "2               0  \n",
       "3               0  \n",
       "5               0  "
      ]
     },
     "execution_count": 69,
     "metadata": {},
     "output_type": "execute_result"
    }
   ],
   "source": [
    "df = pd.read_pickle(\"../data/df_causal_discovery.p\")\n",
    "df.head()"
   ]
  },
  {
   "cell_type": "code",
   "execution_count": 70,
   "metadata": {},
   "outputs": [
    {
     "data": {
      "text/html": [
       "<div>\n",
       "<style scoped>\n",
       "    .dataframe tbody tr th:only-of-type {\n",
       "        vertical-align: middle;\n",
       "    }\n",
       "\n",
       "    .dataframe tbody tr th {\n",
       "        vertical-align: top;\n",
       "    }\n",
       "\n",
       "    .dataframe thead th {\n",
       "        text-align: right;\n",
       "    }\n",
       "</style>\n",
       "<table border=\"1\" class=\"dataframe\">\n",
       "  <thead>\n",
       "    <tr style=\"text-align: right;\">\n",
       "      <th></th>\n",
       "      <th>age</th>\n",
       "      <th>hours-per-week</th>\n",
       "      <th>hasGraduateDegree</th>\n",
       "      <th>inRelationship</th>\n",
       "      <th>isWhite</th>\n",
       "      <th>isFemale</th>\n",
       "      <th>greaterThan50k</th>\n",
       "    </tr>\n",
       "  </thead>\n",
       "  <tbody>\n",
       "    <tr>\n",
       "      <th>count</th>\n",
       "      <td>29170.000000</td>\n",
       "      <td>29170.000000</td>\n",
       "      <td>29170.000000</td>\n",
       "      <td>29170.000000</td>\n",
       "      <td>29170.000000</td>\n",
       "      <td>29170.000000</td>\n",
       "      <td>29170.000000</td>\n",
       "    </tr>\n",
       "    <tr>\n",
       "      <th>mean</th>\n",
       "      <td>38.655674</td>\n",
       "      <td>40.447755</td>\n",
       "      <td>0.052348</td>\n",
       "      <td>0.406616</td>\n",
       "      <td>0.878334</td>\n",
       "      <td>0.331916</td>\n",
       "      <td>0.245835</td>\n",
       "    </tr>\n",
       "    <tr>\n",
       "      <th>std</th>\n",
       "      <td>13.722408</td>\n",
       "      <td>12.417203</td>\n",
       "      <td>0.222732</td>\n",
       "      <td>0.491211</td>\n",
       "      <td>0.326905</td>\n",
       "      <td>0.470909</td>\n",
       "      <td>0.430588</td>\n",
       "    </tr>\n",
       "    <tr>\n",
       "      <th>min</th>\n",
       "      <td>17.000000</td>\n",
       "      <td>1.000000</td>\n",
       "      <td>0.000000</td>\n",
       "      <td>0.000000</td>\n",
       "      <td>0.000000</td>\n",
       "      <td>0.000000</td>\n",
       "      <td>0.000000</td>\n",
       "    </tr>\n",
       "    <tr>\n",
       "      <th>25%</th>\n",
       "      <td>28.000000</td>\n",
       "      <td>40.000000</td>\n",
       "      <td>0.000000</td>\n",
       "      <td>0.000000</td>\n",
       "      <td>1.000000</td>\n",
       "      <td>0.000000</td>\n",
       "      <td>0.000000</td>\n",
       "    </tr>\n",
       "    <tr>\n",
       "      <th>50%</th>\n",
       "      <td>37.000000</td>\n",
       "      <td>40.000000</td>\n",
       "      <td>0.000000</td>\n",
       "      <td>0.000000</td>\n",
       "      <td>1.000000</td>\n",
       "      <td>0.000000</td>\n",
       "      <td>0.000000</td>\n",
       "    </tr>\n",
       "    <tr>\n",
       "      <th>75%</th>\n",
       "      <td>48.000000</td>\n",
       "      <td>45.000000</td>\n",
       "      <td>0.000000</td>\n",
       "      <td>1.000000</td>\n",
       "      <td>1.000000</td>\n",
       "      <td>1.000000</td>\n",
       "      <td>0.000000</td>\n",
       "    </tr>\n",
       "    <tr>\n",
       "      <th>max</th>\n",
       "      <td>90.000000</td>\n",
       "      <td>99.000000</td>\n",
       "      <td>1.000000</td>\n",
       "      <td>1.000000</td>\n",
       "      <td>1.000000</td>\n",
       "      <td>1.000000</td>\n",
       "      <td>1.000000</td>\n",
       "    </tr>\n",
       "  </tbody>\n",
       "</table>\n",
       "</div>"
      ],
      "text/plain": [
       "                age  hours-per-week  hasGraduateDegree  inRelationship  \\\n",
       "count  29170.000000    29170.000000       29170.000000    29170.000000   \n",
       "mean      38.655674       40.447755           0.052348        0.406616   \n",
       "std       13.722408       12.417203           0.222732        0.491211   \n",
       "min       17.000000        1.000000           0.000000        0.000000   \n",
       "25%       28.000000       40.000000           0.000000        0.000000   \n",
       "50%       37.000000       40.000000           0.000000        0.000000   \n",
       "75%       48.000000       45.000000           0.000000        1.000000   \n",
       "max       90.000000       99.000000           1.000000        1.000000   \n",
       "\n",
       "            isWhite      isFemale  greaterThan50k  \n",
       "count  29170.000000  29170.000000    29170.000000  \n",
       "mean       0.878334      0.331916        0.245835  \n",
       "std        0.326905      0.470909        0.430588  \n",
       "min        0.000000      0.000000        0.000000  \n",
       "25%        1.000000      0.000000        0.000000  \n",
       "50%        1.000000      0.000000        0.000000  \n",
       "75%        1.000000      1.000000        0.000000  \n",
       "max        1.000000      1.000000        1.000000  "
      ]
     },
     "execution_count": 70,
     "metadata": {},
     "output_type": "execute_result"
    }
   ],
   "source": [
    "df.describe()"
   ]
  },
  {
   "cell_type": "markdown",
   "metadata": {},
   "source": [
    "### Preparation and Setup\n",
    "We begin by focusing exclusively on the age covariate to inform our estimations. We hypothesize that age is a causal factor influencing both the hasGraduateDegree variable and the greaterThan50k outcome."
   ]
  },
  {
   "cell_type": "code",
   "execution_count": 71,
   "metadata": {},
   "outputs": [
    {
     "data": {
      "image/svg+xml": [
       "<svg xmlns=\"http://www.w3.org/2000/svg\" xmlns:xlink=\"http://www.w3.org/1999/xlink\" width=\"263pt\" height=\"188pt\" viewBox=\"0.00 0.00 263.13 188.00\">\n",
       "<g id=\"graph0\" class=\"graph\" transform=\"scale(1 1) rotate(0) translate(4 184)\">\n",
       "<title>G</title>\n",
       "<!-- age -->\n",
       "<g id=\"node1\" class=\"node\">\n",
       "<title>age</title>\n",
       "<ellipse fill=\"#404040\" stroke=\"#4a4a4a\" cx=\"169.99\" cy=\"-162\" rx=\"27.1\" ry=\"18\"/>\n",
       "<text text-anchor=\"middle\" x=\"169.99\" y=\"-158.3\" font-family=\"Times,serif\" font-size=\"14.00\" fill=\"white\">age</text>\n",
       "</g>\n",
       "<!-- hasGraduateDegree -->\n",
       "<g id=\"node2\" class=\"node\">\n",
       "<title>hasGraduateDegree</title>\n",
       "<ellipse fill=\"#404040\" stroke=\"#4a4a4a\" cx=\"103.99\" cy=\"-90\" rx=\"103.98\" ry=\"18\"/>\n",
       "<text text-anchor=\"middle\" x=\"103.99\" y=\"-86.3\" font-family=\"Times,serif\" font-size=\"14.00\" fill=\"white\">hasGraduateDegree</text>\n",
       "</g>\n",
       "<!-- age&#45;&gt;hasGraduateDegree -->\n",
       "<g id=\"edge1\" class=\"edge\">\n",
       "<title>age-&gt;hasGraduateDegree</title>\n",
       "<path fill=\"none\" stroke=\"#4a4a4a\" d=\"M155.27,-146.84C146.88,-137.95 136.02,-126.43 126.39,-116.21\"/>\n",
       "<path fill=\"none\" stroke=\"#4a4a4a\" d=\"M156.72,-145.47C148.34,-136.58 137.47,-125.06 127.85,-114.84\"/>\n",
       "<polygon fill=\"#4a4a4a\" stroke=\"#4a4a4a\" points=\"129.46,-112.91 120.06,-108.04 124.37,-117.72 129.46,-112.91\"/>\n",
       "</g>\n",
       "<!-- greaterThan50k -->\n",
       "<g id=\"node3\" class=\"node\">\n",
       "<title>greaterThan50k</title>\n",
       "<ellipse fill=\"#404040\" stroke=\"#4a4a4a\" cx=\"169.99\" cy=\"-18\" rx=\"85.29\" ry=\"18\"/>\n",
       "<text text-anchor=\"middle\" x=\"169.99\" y=\"-14.3\" font-family=\"Times,serif\" font-size=\"14.00\" fill=\"white\">greaterThan50k</text>\n",
       "</g>\n",
       "<!-- age&#45;&gt;greaterThan50k -->\n",
       "<g id=\"edge2\" class=\"edge\">\n",
       "<title>age-&gt;greaterThan50k</title>\n",
       "<path fill=\"none\" stroke=\"#4a4a4a\" d=\"M186.24,-146.97C197.05,-137.35 210.24,-123.19 216.06,-107.65 221.67,-93.04 221.67,-86.96 216.06,-72.35 212.11,-61.85 204.75,-51.9 197.12,-43.66\"/>\n",
       "<path fill=\"none\" stroke=\"#4a4a4a\" d=\"M187.57,-148.46C198.51,-138.71 211.7,-124.55 217.93,-108.35 223.67,-93.04 223.67,-86.96 217.93,-71.65 213.72,-60.67 206.36,-50.71 198.59,-42.3\"/>\n",
       "<polygon fill=\"#4a4a4a\" stroke=\"#4a4a4a\" points=\"200.29,-40.47 190.77,-35.83 195.32,-45.4 200.29,-40.47\"/>\n",
       "</g>\n",
       "<!-- hasGraduateDegree&#45;&gt;greaterThan50k -->\n",
       "<g id=\"edge3\" class=\"edge\">\n",
       "<title>hasGraduateDegree-&gt;greaterThan50k</title>\n",
       "<path fill=\"none\" stroke=\"#4a4a4a\" d=\"M119.24,-71.37C127.43,-62.68 137.54,-51.96 146.53,-42.43\"/>\n",
       "<path fill=\"none\" stroke=\"#4a4a4a\" d=\"M120.7,-72.74C128.88,-64.06 139,-53.33 147.98,-43.8\"/>\n",
       "<polygon fill=\"#4a4a4a\" stroke=\"#4a4a4a\" points=\"149.85,-45.47 154.16,-35.79 144.75,-40.66 149.85,-45.47\"/>\n",
       "</g>\n",
       "</g>\n",
       "</svg>"
      ],
      "text/plain": [
       "<IPython.core.display.SVG object>"
      ]
     },
     "metadata": {},
     "output_type": "display_data"
    }
   ],
   "source": [
    "discretizer = disc.Discretizer(defaultDiscretizationMethod=\"NoDiscretization\", defaultNumberOfBins=None)\n",
    "template = discretizer.discretizedTemplate(df[[\"age\", \"hasGraduateDegree\", \"greaterThan50k\"]])\n",
    "template.addArcs([(\"age\",\"hasGraduateDegree\"), (\"age\", \"greaterThan50k\"), (\"hasGraduateDegree\", \"greaterThan50k\")])\n",
    "\n",
    "causal_model = csl.CausalModel(template)\n",
    "\n",
    "cslnb.showCausalModel(causal_model, size=\"50\")"
   ]
  },
  {
   "cell_type": "code",
   "execution_count": 72,
   "metadata": {},
   "outputs": [],
   "source": [
    "T = \"hasGraduateDegree\"\n",
    "Y = \"greaterThan50k\"\n",
    "X = \"age\""
   ]
  },
  {
   "cell_type": "code",
   "execution_count": 73,
   "metadata": {},
   "outputs": [],
   "source": [
    "cee = csl.CausalEffectEstimation(df, causal_model)"
   ]
  },
  {
   "cell_type": "code",
   "execution_count": 74,
   "metadata": {},
   "outputs": [
    {
     "name": "stdout",
     "output_type": "stream",
     "text": [
      "Backdoor adjustment found. \n",
      "\n",
      "Supported estimators include:\n",
      "- CausalModelEstimator\n",
      "- SLearner\n",
      "- TLearner\n",
      "- XLearner\n",
      "- PStratification\n",
      "- IPW\n"
     ]
    },
    {
     "data": {
      "text/plain": [
       "'Backdoor'"
      ]
     },
     "execution_count": 74,
     "metadata": {},
     "output_type": "execute_result"
    }
   ],
   "source": [
    "cee.identifyAdjustmentSet(intervention=T, outcome=Y)"
   ]
  },
  {
   "cell_type": "code",
   "execution_count": 75,
   "metadata": {},
   "outputs": [
    {
     "name": "stdout",
     "output_type": "stream",
     "text": [
      "ACE = 0.2332334047559898\n"
     ]
    }
   ],
   "source": [
    "cee.fitCausalBNEstimator()\n",
    "tau_hat = cee.estimateCausalEffect()\n",
    "\n",
    "print(f\"ACE = {tau_hat}\")"
   ]
  },
  {
   "cell_type": "code",
   "execution_count": 76,
   "metadata": {},
   "outputs": [
    {
     "name": "stdout",
     "output_type": "stream",
     "text": [
      "ACE = 0.2976051357033038\n"
     ]
    }
   ],
   "source": [
    "cee.fitSLearner()\n",
    "tau_hat = cee.estimateCausalEffect()\n",
    "\n",
    "print(f\"ACE = {tau_hat}\")"
   ]
  },
  {
   "cell_type": "code",
   "execution_count": 77,
   "metadata": {},
   "outputs": [
    {
     "name": "stdout",
     "output_type": "stream",
     "text": [
      "ACE = 0.2903849161738249\n"
     ]
    }
   ],
   "source": [
    "cee.fitIPW()\n",
    "tau_hat = cee.estimateCausalEffect()\n",
    "\n",
    "print(f\"ACE = {tau_hat}\")"
   ]
  },
  {
   "cell_type": "markdown",
   "metadata": {},
   "source": [
    "Let's examine whether incorporating all available covariates influences the estimation of the ACE. We will employ structure learning techniques to determine the DAG that the algorithm identifies from the data."
   ]
  },
  {
   "cell_type": "code",
   "execution_count": 78,
   "metadata": {},
   "outputs": [],
   "source": [
    "discretizer = disc.Discretizer(defaultNumberOfBins=5, defaultDiscretizationMethod=\"uniform\")\n",
    "template = discretizer.discretizedTemplate(df)"
   ]
  },
  {
   "cell_type": "code",
   "execution_count": 79,
   "metadata": {},
   "outputs": [],
   "source": [
    "structure_learner = gum.BNLearner(df, template)\n",
    "structure_learner.useNMLCorrection()\n",
    "structure_learner.useSmoothingPrior(1e-6)\n",
    "\n",
    "learned_bn = structure_learner.learnBN()\n",
    "\n",
    "causal_model = csl.CausalModel(learned_bn)"
   ]
  },
  {
   "cell_type": "code",
   "execution_count": 80,
   "metadata": {},
   "outputs": [
    {
     "data": {
      "text/html": [
       "<table style=\"border-style: hidden; border-collapse: collapse;\" width=\"100%\"><tr><td style=\"border-top:hidden;border-bottom:hidden;vertical-align:middle;\"><div align=\"center\" style=\"vertical-align:middle;\"><div align='center'><svg xmlns=\"http://www.w3.org/2000/svg\" xmlns:xlink=\"http://www.w3.org/1999/xlink\" width=\"381pt\" height=\"404pt\" viewBox=\"0.00 0.00 381.14 404.00\">\n",
       "<g id=\"graph0\" class=\"graph\" transform=\"scale(1 1) rotate(0) translate(4 400)\">\n",
       "<title>G</title>\n",
       "<!-- greaterThan50k -->\n",
       "<g id=\"node1\" class=\"node\">\n",
       "<title>greaterThan50k</title>\n",
       "<g id=\"a_node1\"><a xlink:title=\"(6) greaterThan50k : 0.79691\">\n",
       "<ellipse fill=\"#653153\" stroke=\"#4a4a4a\" cx=\"288\" cy=\"-162\" rx=\"85.29\" ry=\"18\"/>\n",
       "<text text-anchor=\"middle\" x=\"288\" y=\"-158.3\" font-family=\"Times,serif\" font-size=\"14.00\" fill=\"white\">greaterThan50k</text>\n",
       "</a>\n",
       "</g>\n",
       "</g>\n",
       "<!-- isWhite -->\n",
       "<g id=\"node2\" class=\"node\">\n",
       "<title>isWhite</title>\n",
       "<g id=\"a_node2\"><a xlink:title=\"(4) isWhite : 0.53676\">\n",
       "<ellipse fill=\"#591829\" stroke=\"#4a4a4a\" cx=\"176\" cy=\"-18\" rx=\"46.29\" ry=\"18\"/>\n",
       "<text text-anchor=\"middle\" x=\"176\" y=\"-14.3\" font-family=\"Times,serif\" font-size=\"14.00\" fill=\"white\">isWhite</text>\n",
       "</a>\n",
       "</g>\n",
       "</g>\n",
       "<!-- greaterThan50k&#45;&gt;isWhite -->\n",
       "<g id=\"edge10\" class=\"edge\">\n",
       "<title>greaterThan50k-&gt;isWhite</title>\n",
       "<g id=\"a_edge10\"><a xlink:title=\"6 → 4 : 0.00773318497944595\">\n",
       "<path fill=\"none\" stroke=\"#4a4a4a\" stroke-width=\"0.1\" d=\"M288.11,-143.93C287.41,-124.68 283.67,-93.3 268,-72 255.82,-55.47 236.83,-43.29 219.25,-34.8\"/>\n",
       "<polygon fill=\"#4a4a4a\" stroke=\"#4a4a4a\" stroke-width=\"0.1\" points=\"220.24,-31.41 209.69,-30.47 217.35,-37.78 220.24,-31.41\"/>\n",
       "</a>\n",
       "</g>\n",
       "</g>\n",
       "<!-- hours&#45;per&#45;week -->\n",
       "<g id=\"node7\" class=\"node\">\n",
       "<title>hours-per-week</title>\n",
       "<g id=\"a_node7\"><a xlink:title=\"(1) hours-per-week : 1.56323\">\n",
       "<ellipse fill=\"#8b7dd0\" stroke=\"#4a4a4a\" cx=\"176\" cy=\"-90\" rx=\"82.59\" ry=\"18\"/>\n",
       "<text text-anchor=\"middle\" x=\"176\" y=\"-86.3\" font-family=\"Times,serif\" font-size=\"14.00\" fill=\"white\">hours-per-week</text>\n",
       "</a>\n",
       "</g>\n",
       "</g>\n",
       "<!-- greaterThan50k&#45;&gt;hours&#45;per&#45;week -->\n",
       "<g id=\"edge4\" class=\"edge\">\n",
       "<title>greaterThan50k-&gt;hours-per-week</title>\n",
       "<g id=\"a_edge4\"><a xlink:title=\"6 → 1 : 0.046886573335656684\">\n",
       "<path fill=\"none\" stroke=\"#4a4a4a\" stroke-width=\"0.73\" d=\"M262.02,-144.76C246.75,-135.22 227.26,-123.04 210.69,-112.68\"/>\n",
       "<polygon fill=\"#4a4a4a\" stroke=\"#4a4a4a\" stroke-width=\"0.73\" points=\"212.17,-109.48 201.83,-107.15 208.46,-115.42 212.17,-109.48\"/>\n",
       "</a>\n",
       "</g>\n",
       "</g>\n",
       "<!-- isFemale -->\n",
       "<g id=\"node3\" class=\"node\">\n",
       "<title>isFemale</title>\n",
       "<g id=\"a_node3\"><a xlink:title=\"(5) isFemale : 0.91688\">\n",
       "<ellipse fill=\"#6b3e67\" stroke=\"#4a4a4a\" cx=\"52\" cy=\"-306\" rx=\"51.99\" ry=\"18\"/>\n",
       "<text text-anchor=\"middle\" x=\"52\" y=\"-302.3\" font-family=\"Times,serif\" font-size=\"14.00\" fill=\"white\">isFemale</text>\n",
       "</a>\n",
       "</g>\n",
       "</g>\n",
       "<!-- inRelationship -->\n",
       "<g id=\"node4\" class=\"node\">\n",
       "<title>inRelationship</title>\n",
       "<g id=\"a_node4\"><a xlink:title=\"(3) inRelationship : 0.96840\">\n",
       "<ellipse fill=\"#6e426f\" stroke=\"#4a4a4a\" cx=\"104\" cy=\"-234\" rx=\"77.19\" ry=\"18\"/>\n",
       "<text text-anchor=\"middle\" x=\"104\" y=\"-230.3\" font-family=\"Times,serif\" font-size=\"14.00\" fill=\"white\">inRelationship</text>\n",
       "</a>\n",
       "</g>\n",
       "</g>\n",
       "<!-- isFemale&#45;&gt;inRelationship -->\n",
       "<g id=\"edge13\" class=\"edge\">\n",
       "<title>isFemale-&gt;inRelationship</title>\n",
       "<g id=\"a_edge13\"><a xlink:title=\"5 → 3 : 0.3161569438882913\">\n",
       "<path fill=\"none\" stroke=\"#4a4a4a\" stroke-width=\"5.1\" d=\"M64.32,-288.41C70.57,-279.99 78.3,-269.58 85.27,-260.2\"/>\n",
       "<polygon fill=\"#4a4a4a\" stroke=\"#4a4a4a\" stroke-width=\"5.1\" points=\"89.02,-262.64 91.4,-251.96 81.85,-257.32 89.02,-262.64\"/>\n",
       "</a>\n",
       "</g>\n",
       "</g>\n",
       "<!-- isFemale&#45;&gt;hours&#45;per&#45;week -->\n",
       "<g id=\"edge7\" class=\"edge\">\n",
       "<title>isFemale-&gt;hours-per-week</title>\n",
       "<g id=\"a_edge7\"><a xlink:title=\"5 → 1 : 0.036093763906084354\">\n",
       "<path fill=\"none\" stroke=\"#4a4a4a\" stroke-width=\"0.56\" d=\"M37.65,-288.57C23.67,-270.44 6.11,-240.57 18,-216 41.59,-167.24 94.47,-131.73 132.56,-111.28\"/>\n",
       "<polygon fill=\"#4a4a4a\" stroke=\"#4a4a4a\" stroke-width=\"0.56\" points=\"134.65,-114.14 141.9,-106.41 131.41,-107.93 134.65,-114.14\"/>\n",
       "</a>\n",
       "</g>\n",
       "</g>\n",
       "<!-- inRelationship&#45;&gt;greaterThan50k -->\n",
       "<g id=\"edge12\" class=\"edge\">\n",
       "<title>inRelationship-&gt;greaterThan50k</title>\n",
       "<g id=\"a_edge12\"><a xlink:title=\"3 → 6 : 0.11277588078795846\">\n",
       "<path fill=\"none\" stroke=\"#4a4a4a\" stroke-width=\"1.8\" d=\"M142.57,-218.33C170.62,-207.65 208.81,-193.12 239.02,-181.63\"/>\n",
       "<polygon fill=\"#4a4a4a\" stroke=\"#4a4a4a\" stroke-width=\"1.8\" points=\"240.42,-184.84 248.52,-178.02 237.93,-178.3 240.42,-184.84\"/>\n",
       "</a>\n",
       "</g>\n",
       "</g>\n",
       "<!-- inRelationship&#45;&gt;isWhite -->\n",
       "<g id=\"edge2\" class=\"edge\">\n",
       "<title>inRelationship-&gt;isWhite</title>\n",
       "<g id=\"a_edge2\"><a xlink:title=\"3 → 4 : 0.013871679492133145\">\n",
       "<path fill=\"none\" stroke=\"#4a4a4a\" stroke-width=\"0.2\" d=\"M95.35,-215.65C81.2,-184.58 57.22,-118.33 84,-72 94.29,-54.2 113.08,-41.85 131.01,-33.58\"/>\n",
       "<polygon fill=\"#4a4a4a\" stroke=\"#4a4a4a\" stroke-width=\"0.2\" points=\"132.44,-36.77 140.26,-29.62 129.68,-30.33 132.44,-36.77\"/>\n",
       "</a>\n",
       "</g>\n",
       "</g>\n",
       "<!-- inRelationship&#45;&gt;hours&#45;per&#45;week -->\n",
       "<g id=\"edge3\" class=\"edge\">\n",
       "<title>inRelationship-&gt;hours-per-week</title>\n",
       "<g id=\"a_edge3\"><a xlink:title=\"3 → 1 : 0.043679528461610544\">\n",
       "<path fill=\"none\" stroke=\"#4a4a4a\" stroke-width=\"0.68\" d=\"M112.68,-215.87C125.11,-191.35 148.09,-146.03 162.68,-117.26\"/>\n",
       "<polygon fill=\"#4a4a4a\" stroke=\"#4a4a4a\" stroke-width=\"0.68\" points=\"165.88,-118.69 167.28,-108.19 159.64,-115.53 165.88,-118.69\"/>\n",
       "</a>\n",
       "</g>\n",
       "</g>\n",
       "<!-- age -->\n",
       "<g id=\"node5\" class=\"node\">\n",
       "<title>age</title>\n",
       "<g id=\"a_node5\"><a xlink:title=\"(0) age : 1.83889\">\n",
       "<ellipse fill=\"#9898fd\" stroke=\"#4a4a4a\" cx=\"220\" cy=\"-306\" rx=\"27.1\" ry=\"18\"/>\n",
       "<text text-anchor=\"middle\" x=\"220\" y=\"-302.3\" font-family=\"Times,serif\" font-size=\"14.00\">age</text>\n",
       "</a>\n",
       "</g>\n",
       "</g>\n",
       "<!-- age&#45;&gt;greaterThan50k -->\n",
       "<g id=\"edge9\" class=\"edge\">\n",
       "<title>age-&gt;greaterThan50k</title>\n",
       "<g id=\"a_edge9\"><a xlink:title=\"0 → 6 : 0.06619737766515468\">\n",
       "<path fill=\"none\" stroke=\"#4a4a4a\" stroke-width=\"1.05\" d=\"M227.8,-288.71C239.46,-264.36 261.54,-218.24 275.48,-189.14\"/>\n",
       "<polygon fill=\"#4a4a4a\" stroke=\"#4a4a4a\" stroke-width=\"1.05\" points=\"278.7,-190.51 279.86,-179.98 272.39,-187.49 278.7,-190.51\"/>\n",
       "</a>\n",
       "</g>\n",
       "</g>\n",
       "<!-- age&#45;&gt;inRelationship -->\n",
       "<g id=\"edge5\" class=\"edge\">\n",
       "<title>age-&gt;inRelationship</title>\n",
       "<g id=\"a_edge5\"><a xlink:title=\"0 → 3 : 0.06461803116357401\">\n",
       "<path fill=\"none\" stroke=\"#4a4a4a\" stroke-width=\"1.02\" d=\"M200.58,-293.28C183.84,-283.18 159.24,-268.34 139.07,-256.16\"/>\n",
       "<polygon fill=\"#4a4a4a\" stroke=\"#4a4a4a\" stroke-width=\"1.02\" points=\"140.81,-253.13 130.44,-250.96 137.19,-259.12 140.81,-253.13\"/>\n",
       "</a>\n",
       "</g>\n",
       "</g>\n",
       "<!-- age&#45;&gt;hours&#45;per&#45;week -->\n",
       "<g id=\"edge1\" class=\"edge\">\n",
       "<title>age-&gt;hours-per-week</title>\n",
       "<g id=\"a_edge1\"><a xlink:title=\"0 → 1 : 0.05255148084246581\">\n",
       "<path fill=\"none\" stroke=\"#4a4a4a\" stroke-width=\"0.83\" d=\"M216.43,-288.02C211.4,-263.99 201.92,-218.65 194,-180 189.75,-159.28 185.01,-135.84 181.46,-118.21\"/>\n",
       "<polygon fill=\"#4a4a4a\" stroke=\"#4a4a4a\" stroke-width=\"0.83\" points=\"184.82,-117.18 179.42,-108.07 177.96,-118.56 184.82,-117.18\"/>\n",
       "</a>\n",
       "</g>\n",
       "</g>\n",
       "<!-- hasGraduateDegree -->\n",
       "<g id=\"node6\" class=\"node\">\n",
       "<title>hasGraduateDegree</title>\n",
       "<g id=\"a_node6\"><a xlink:title=\"(2) hasGraduateDegree : 0.29635\">\n",
       "<ellipse fill=\"#4d0102\" stroke=\"#4a4a4a\" cx=\"258\" cy=\"-378\" rx=\"103.98\" ry=\"18\"/>\n",
       "<text text-anchor=\"middle\" x=\"258\" y=\"-374.3\" font-family=\"Times,serif\" font-size=\"14.00\" fill=\"white\">hasGraduateDegree</text>\n",
       "</a>\n",
       "</g>\n",
       "</g>\n",
       "<!-- hasGraduateDegree&#45;&gt;greaterThan50k -->\n",
       "<g id=\"edge11\" class=\"edge\">\n",
       "<title>hasGraduateDegree-&gt;greaterThan50k</title>\n",
       "<g id=\"a_edge11\"><a xlink:title=\"2 → 6 : 0.01752391149255395\">\n",
       "<path fill=\"none\" stroke=\"#4a4a4a\" stroke-width=\"0.26\" d=\"M260.4,-359.85C265.59,-322.83 277.88,-235.18 284.16,-190.39\"/>\n",
       "<polygon fill=\"#4a4a4a\" stroke=\"#4a4a4a\" stroke-width=\"0.26\" points=\"287.66,-190.62 285.58,-180.23 280.73,-189.65 287.66,-190.62\"/>\n",
       "</a>\n",
       "</g>\n",
       "</g>\n",
       "<!-- hasGraduateDegree&#45;&gt;age -->\n",
       "<g id=\"edge6\" class=\"edge\">\n",
       "<title>hasGraduateDegree-&gt;age</title>\n",
       "<g id=\"a_edge6\"><a xlink:title=\"2 → 0 : 0.01130992137244868\">\n",
       "<path fill=\"none\" stroke=\"#4a4a4a\" stroke-width=\"0.16\" d=\"M248.8,-360.05C244.25,-351.68 238.67,-341.4 233.64,-332.13\"/>\n",
       "<polygon fill=\"#4a4a4a\" stroke=\"#4a4a4a\" stroke-width=\"0.16\" points=\"236.69,-330.43 228.85,-323.31 230.54,-333.77 236.69,-330.43\"/>\n",
       "</a>\n",
       "</g>\n",
       "</g>\n",
       "<!-- hours&#45;per&#45;week&#45;&gt;isWhite -->\n",
       "<g id=\"edge8\" class=\"edge\">\n",
       "<title>hours-per-week-&gt;isWhite</title>\n",
       "<g id=\"a_edge8\"><a xlink:title=\"1 → 4 : 0.011156070951691325\">\n",
       "<path fill=\"none\" stroke=\"#4a4a4a\" stroke-width=\"0.16\" d=\"M176,-71.7C176,-63.98 176,-54.71 176,-46.11\"/>\n",
       "<polygon fill=\"#4a4a4a\" stroke=\"#4a4a4a\" stroke-width=\"0.16\" points=\"179.5,-46.1 176,-36.1 172.5,-46.1 179.5,-46.1\"/>\n",
       "</a>\n",
       "</g>\n",
       "</g>\n",
       "</g>\n",
       "</svg><br/><img style='vertical-align:middle' src='data:image/png;base64,iVBORw0KGgoAAAANSUhEUgAAAdYAAABPCAYAAABWBORlAAAAOXRFWHRTb2Z0d2FyZQBNYXRwbG90\n",
       "bGliIHZlcnNpb24zLjUuMSwgaHR0cHM6Ly9tYXRwbG90bGliLm9yZy/YYfK9AAAACXBIWXMAAA9h\n",
       "AAAPYQGoP6dpAAARfUlEQVR4nO3deZAc5XnH8e/TA5IwuCDGxREJsEjAAccOCocBA6aKcETljDms\n",
       "UsmyOeyEBhWUxWEwYHNjgQkyBgXcAYEQIQZcKfCowh0jQxDmkDkcjLjMZSFuc0lISNNv/nh7tL2z\n",
       "M7Mzs+/s7Kx+n6qp3el+u+d9eqbfp9+enn7NOYeIiIiEEXW7AiIiIqOJEquIiEhASqwiIiIBKbGK\n",
       "iIgEpMQqIiISkBKriIhIQEqsIiIiASmxioiIBLReswXNbBwwpoN1ERERGck+cc6tHKyQNXPnJTMb\n",
       "NxY+XhWkXiIiIj3pdWDiYMm12R7rmFXAP/RbwMAs+8+ySX1/B0zLnpvZgGn91mM1pvVbT25efj3t\n",
       "1oUGdak8Xzut/+uD9dWhRky16jIgzppl6tWl0Xax/tujXkwNt2/Vdu23falRvk6cQd7rGu9xRYP3\n",
       "esC6q1+34fZt8DnKbYOhvtf9Y2qlLtDvH6vxngd5r+tt3zrbpbKeOp+/IdWlEufa0EPtS43f67p1\n",
       "qbldmnivQ7RVNd7/Aa/bYPvWbDdppS70Ld/oc1d53nBfavRe19u+tcv3xVTjc9dCXWrtS/nyK1d+\n",
       "wA9+sNUW+DO3QRLr2sLrB/mADK0xqLkhOlGXyvN2dsB2G9tONAYdbWyHKbE2WZcB6260A/bwe732\n",
       "dUf7e13vdbu4L3UvsQ5t+47GdjPEfl1zu9TdBs3RxUsiIiIBKbGKiIgEpMQqIiISkBKriIhIQEqs\n",
       "IiIiASmxioiIBKTEKiIiEpASq4iISEBKrCIiIgEpsYqIiASkxCoiIhJQS/cKXgNQYzScWndRrHdn\n",
       "xUZ3XBx8Pa7f1L5bc1udaZUpA6etLetauecl/cp04p6Xje9vWqd+1XWpjjfI/WOpUb5OnJ24f2z+\n",
       "k9Dg/qYD1h30nqIMnFZvGzRz/1harQv0+2fY7xVcZ7tU1lPn86eb8Fetp+3789JvWpB7BVe3mw3r\n",
       "Qt/yQ7xXcHV9m9uXapfvi6nG566FujRzE/5mNT1sHPAisEXTaxYRERldmho2rqnECmuT63APdP5p\n",
       "4E/ABODDYX7t4bauxKo4R591JVbFOfq0GmtTA503fSo4W9mgKwypr2vOh8655vvhPWhdiVVxjj7r\n",
       "SqyKc/TpVKy6eElERCQgJVYREZGARnpiXQWck/0d7daVWBXn6LOuxKo4R5+OxNr0xUsiIiIyuJHe\n",
       "YxUREekpSqwiIiIBKbGKiIgEpMQqIiISUNcTq5nNMLMXzWylmS02s72bXO4rZrbGzB7vcBWDaDVO\n",
       "MxtrZheY2ctmtsrMXjCz7wxXfYeijVinm9kTZrbCzJaZ2bVmtulw1bcdZraPmS0ws9fMzJnZwU0s\n",
       "89Vse6w0sz+a2THDUNUhaTVOMzvUzO42s7fM7AMze9DMDhym6ratnfczt2yvtUXtfHZ7rj1qM84g\n",
       "bVFXE6uZTQUuBS4AJgH3A7eb2daDLLcxMB/4n07XMYQ247wZ2A/4LvB5YBqwpLM1HbpWYzWzvfDv\n",
       "5VzgC8AUYFfg6uGo7xBsCDwBHNdMYTObCNyG3x6TgB8Dl5nZYR2rYRgtxQnsA9wNTAZ2Bu4FFpjZ\n",
       "pM5UL5hW4wR6ry3KtBNrL7ZHre6j4doi51zXHsBDwJVV054GZg2y3I3AecDZwOPdjKETcQIHAe8B\n",
       "n+l23Ych1pOBF6qmHQ+82u1YWojZAQcPUuYi4OmqaT8HHux2/UPGWWe5p4Azu13/TsTZa21RO7H2\n",
       "cnvUYpzB2qKu9VjNbAz+iPauqll3AXs2WO4o4K/wP+od8dqMswg8CpxiZkvN7Fkz+1cz26CDVR2y\n",
       "NmNdBEwws8nmbQ58A/jvztW0K/Zg4Ha5E9jFzNbvQn2GhZlF+Budv9vtuoTWa23REPRke9SGYG1R\n",
       "S+OxBvZZoAC8UTX9DeoMT2dm2wEXAns759ZY1TiBI1TLcQLbAnvhBz04JFvHFcBngJH8vUbLsTrn\n",
       "FpnZdOAmYBz+M1nCHymOJltQe7ush99uy4a9RsPjJPwpuZu7XZGQerQtalevtkctCdkWdf3iJfpG\n",
       "L6+wGtMwswLwn8BZzrlnh6NigTUVZybK5k13zj3snLsNOBE4skeOEpuO1cx2BC4DzsX3dg8CJuJP\n",
       "k442tbZLremjgplNw58ineqce7PL1QlmFLRFrer19qgpIduibvZY3wbKDOzJbMbAI3vwp5N2ASaZ\n",
       "2ZxsWgSYma0BDnDO/bpTlR2CVuME33tZ6px7PzftaXxDPAF4LnQlA2kn1tOAB5xzF2fPnzSz5cD9\n",
       "ZvZD59xo6cm9Tu3tsgZ4Z/ir01nZRWxzgSnOuXu6XZ/AerUtalevtketCtYWda3H6pz7BFgM7F81\n",
       "a3/8ue5qHwBfBHbKPX4OPJP9/1BHKjpEbcQJ8ADwl2a2UW7a9kCKH5R3RGoz1k/h48orZ39H0/m1\n",
       "Bxm4XQ4AHnXOre5CfTom66nOA77pnBtt35VDj7ZFQ9CT7VEbwrVFXb5SayrwCf48/Q7AT4GPgG2y\n",
       "+bOA+Q2WP5seuBKv1TiBjYBXgV8CO+J/wvAscFW3Y+lArEcCq4Fj8d/lfAV4BHio27EMEudG9DWq\n",
       "Djgh+3/rOnFOBJYDs7Pt8p1sOx3W7VgCxzktez9n4HvolcfG3Y4lZJw1lu+JtqjN97Qn26M24gzW\n",
       "Fo2E4GcAL+GH7VkM7JObNw9Y2GDZXvowtxQn8Df43wOuyD7UlwAbdDuODsV6PP4nGSuA14D/AMZ3\n",
       "O45BYtw321mrH/MaxPlV4HfZdnkROKbbcYSOE1jYqPxIfbTzflYt30ttUTuf3Z5rj9qMM0hbpGHj\n",
       "REREAhoJVwWLiIiMGkqsIiIiASmxioiIBKTEKiIiEpASq4iISEBKrCIiIgEpsYqIiASkxCoiIhKQ\n",
       "EqvIEJnZPDNzNR53NLn8vln5TTpcVREZBm2NblOMCjOA7wNb4m//NLOUlu+vU/ZQ/L0XdwLGZuXP\n",
       "LqXlO3Nl1sePLHAEMB5/M+tTS2n5jqp1jQcuAv4R2AB/v8rvltLy4hqvmwBHAyeU0vKl7cQp0oI7\n",
       "gKOqpq0K+QJmNsb5gQ5EelaSpPvg88fO+BxySBxHtw6yzHTgFGA74H38/nZyHEfvZPMPBU4H/hpY\n",
       "Hz/iziVxHF2fW8d6+FtPTsffv3oZ/raG58dxlGZlNsfnmAOATYD7gOPjOGppBJ+We6zFqDAVuBS4\n",
       "AJgE3A/cXowKW9dZZB/8PSYn4zfkvcCCYlSYlCtzPhDj79O4I36kiFvyZYpR4S/woyysxifWHfGD\n",
       "KL9Xo44HA1/G3+tRZDiscs69XvX4M0DWG/1nM7vFzFaY2XNmVszmfQ6/TwD8OSs7L5u30MzmmNls\n",
       "M3sbvx9hZl81s4fNbJWZLTOzC81s7UFybrk5Zvaemb1jZudbNhq3mZ1pZr+vDsDMFpvZuR3cRiLg\n",
       "B75/AjiumcJJku4FzMcPQ/gFYAqwK3B1rti7+Jy0B/Al4Frg2iRJD8yVORU4JnvdHfCJ+vtkA5kn\n",
       "SWrArfgb8H8dn99eBu5JknTDVgJsp8d6IjC3lJYrQc0sRoUD8b3S06oLl9LyzKpJpxejwteBfwIe\n",
       "y6Z9G7iglJZvy55fma3zJOBb2bRTgVdLaTnfK3ip+vWyXu0c4EBgNA5ZJb3pLPrvyDeY2Tb4G5of\n",
       "BvwX8Hn8kGQf55Y7ArgSP9KGmdl44Db8kfbh+JujXwWsxB+N55ebiz/A3AX4d3wjcRVwDXCWme3q\n",
       "nHsEv+Iv4RuSKWHDFukvjqPbgdsBkqR6lLaadgdeiuPosuz5i0mSJvj9qbLOhVXL/CxJ0iOAvYDK\n",
       "2dE9gF/FcVTJCy8lSToNv3+A7w3vDvxtHEdPZfWbAbyJH7Upn8gbaqnHWowKY/C9zruqZt0F7Nnk\n",
       "OiL8QMHv5iaPxTcMeR/jN8raRYFHi1Hhl8Wo8GYxKjxWjAr/UmPd1wMXl9LyU83URySQr5nZR1WP\n",
       "H+Xmz3PO/cI59zz+lNWGwG7OuTJ9+8KbWU83P6D08865U5xzzzjnluBHDnoVOM45t8Q5dys+aZ9k\n",
       "Zvn9+VXghGy5G4DL8cNm4Zz7E76xyR+kHgX8xjn3x0DbQySURcCEJEknJ0lq2enab1Cn45SV2Q9/\n",
       "oHpfbtb/AvslSbp9Vu7v8Dmm0qEbm/1dm4viOCrjh3fM56JBtdpj/SxQAN6omv4G/px1M07CNyo3\n",
       "56bdCZxYjAr3AS8A++G74oVcmW3xveLZwI+B3YDLilFhVSktz8/KnAqsAS5DZHjdi/985uUPHp+s\n",
       "/OOcW25mHwKbNbHeR6ue7wA86PoPS/UAfuzJCcAr2bTfVpV5EJ98C1kyvwq4xsxOxA/mPB2/b4qM\n",
       "KHEcLcq+Y70JGIfPWyWyU7gVSZJuDCzFJ8gyMCOOo7tzRS4CNgaWJElaxueXM+I4+kU2fwn+rM6s\n",
       "JElj/PjJJ+Jz25at1Lndq4Krx5qzGtMGKEaFafjTVVNLafnN3Kzv4b9sXoI/OpiDP0dezpWJgN+V\n",
       "0vLppbT8WCktJ/jG4dhs3Ttn6zmylJY1Fp4Mt+XOueerHvnEurqqvKO5/W951fNa+5rl1tmsBfiL\n",
       "qw7Bfy0zFn86WmRESZJ0R3xn6Vz8GdODgIn4a3HyPsRfJLsrcAYwO0nSfXPzp+K/Wvwm8Pf4r0tO\n",
       "zk4ZE8fRavzXMtvjD4pX4Md0vZ3+uWhQrfZY385eoLp3uhkDe7H9ZBc9zQWmlNLyPfl5pbT8FnBw\n",
       "MSqMAzbFX3R0IX4w6IplwB+qVvs0fkMA7J3V45VitLajWwAuKUaFmaW0/LnBghPpksqVvoWGpbw/\n",
       "AIeZmeV6pHviG5WluXK7Vy23O/Bc1lvFObfGzK7DnwJeBdzonFvRbgAiHXQa8EAcRxdnz59MknQ5\n",
       "cH+SpD+M42gZQHZl7/NZmceTJN0hW3ZhNu1i4MI4jm7Mnv8+SdJtsjLXZetYDOyU9X7HxHH0VpKk\n",
       "DzHwzFFDLSXWUlr+pBgVFgP7A7fkZu0P/KrecllP9RpgWikt172gqJSWVwJLs5/fHEb/08UP4M+Z\n",
       "522P77qD/271nqr5d2bTr633miKBjDWz6gPONc65t5tY9mV8b/NrZnYb8LFz7qM6Za8AZgKXm9kc\n",
       "/D5xDjDbOZe/EmQrM5sNJPij8+MZeKr3avzBKfiLo0RGok/hv+LLq/QgjfqMvu9NK+upvlqqTI0z\n",
       "R3EcvQ+QJOl2+IubflRdppF2rgqeDVxfjAqP4r+3ORrYmqxbXowKs4DxpbR8ePZ8Gv5S6e8Bvy1G\n",
       "hUrj83EpLb+flfky/verj2d/z8YH+5Pc6/4UWFSMCqfjE+5u2WsfDVBKy+8A7+QrWowKq4HXS2n5\n",
       "mTbiFGnFQfizKnnP4K/abcg5t9TMzsKfpbkWv78c2aDsZPzR9xP4U1Zz8T9Zy5uP/633w/jG43L8\n",
       "lcH5dT1nZouATZ1zDw1WT5EQkiTdCP9704qJSZLuBLwbx9ErSZLOAsbHcXR4Nn8BcFWSpMfiO0tb\n",
       "4n/y+XAcR69l6zwN36t8ARiD/3nn4fS/7mEBcEaSpK/g76cwCf8d6jW5uk0B3sJfq/BF4GfArXEc\n",
       "VV+w21DLibWUlm8qRoVNgTOzAP8PmFxKy5We45b4RFsRZ6/zb9mj4jr6Go9x+IZhW+Aj/FVa3y6l\n",
       "5fdyr/tIMSocAszKXvtF/I0pbmg1BpGQnHNHUicRZvMHHFU75zapen4ecF7VtH3rrO83+APLRlY7\n",
       "52Yy8IKqtbLftW6O79WKDJdd6PvtNvjOGvTlhH45JI6jeUmSfhr/+9NL8Pcu+DX+YtWKDfFncybg\n",
       "f1GyBPhWHEc35cocj9/HrsB/bfga/rOf/+32lll9NscfKM+nar9shvW/cFBEep2ZLQQezxJrvTKb\n",
       "4X8/fg6wVeVmFiIydG3d0lBEet4b+IsRj1ZSFQlLPVYREZGANLqNiIhIQEqsIiIiASmxioiIBKTE\n",
       "KiIiEpASq4iISEBKrCIiIgEpsYqIiASkxCoiIhKQEquIiEhASqwiIiIB/T8TLeASxTYyjwAAAABJ\n",
       "RU5ErkJggg==\n",
       "'></div></div></td></tr></table>"
      ],
      "text/plain": [
       "<IPython.core.display.HTML object>"
      ]
     },
     "metadata": {},
     "output_type": "display_data"
    }
   ],
   "source": [
    "gnb.sideBySide(gexpl.getInformation(learned_bn, size=\"50\"))"
   ]
  },
  {
   "cell_type": "code",
   "execution_count": 81,
   "metadata": {},
   "outputs": [],
   "source": [
    "cee = csl.CausalEffectEstimation(df, causal_model)"
   ]
  },
  {
   "cell_type": "code",
   "execution_count": 82,
   "metadata": {},
   "outputs": [
    {
     "name": "stdout",
     "output_type": "stream",
     "text": [
      "No adjustment set found among: RCT, Backdoor, Generalized Frontdoor, or Generalized IV.\n",
      "\n",
      "The only supported estimator without a known adjustment is the Causal Bayesian Network Estimator, which can estimate the causal effect if identifiable using do-Calculus.\n",
      "Use `.fitCausalBNEstimator()` to apply this estimator.\n"
     ]
    },
    {
     "data": {
      "text/plain": [
       "'Unknown'"
      ]
     },
     "execution_count": 82,
     "metadata": {},
     "output_type": "execute_result"
    }
   ],
   "source": [
    "cee.identifyAdjustmentSet(intervention=T, outcome=Y)"
   ]
  },
  {
   "cell_type": "markdown",
   "metadata": {},
   "source": [
    "In this scenario, no adjustment set is available for causal inference:\n",
    "\n",
    "- This is not a randomized controlled trial (RCT) due to the presence of a backdoor path from `hasGraduateDegree` to `greaterThan50k`, which traverses through `age` and `inRelationship`.\n",
    "- The backdoor criterion is not met, as every node is a descendant of the intervention variable `hasGraduateDegree`.\n",
    "- The (Generalized) Frontdoor criterion is not applicable due to the absence of mediator variables.\n",
    "- There are no (Generalized) Instrumental Variables, as `hasGraduateDegree` lacks any ancestors in the causal graph.\n",
    "\n",
    "Consequently, the causal effect can only be estimated using the CausalBNEstimator, provided that the causal effect of the intervention on the outcome is identifiable through do-calculus. "
   ]
  },
  {
   "cell_type": "code",
   "execution_count": 83,
   "metadata": {},
   "outputs": [
    {
     "name": "stdout",
     "output_type": "stream",
     "text": [
      "ACE = 0.32520702765278653\n"
     ]
    }
   ],
   "source": [
    "cee.fitCausalBNEstimator()\n",
    "tau_hat = cee.estimateCausalEffect()\n",
    "\n",
    "print(f\"ACE = {tau_hat}\")"
   ]
  },
  {
   "cell_type": "markdown",
   "metadata": {},
   "source": [
    "We observe a stronger Causal Effect within the previously defined causal structure.\n",
    "\n",
    "Alternatively, it is possible to manually specify an adjustment set. However, it is important to note that this approach does not guarantee an asymptotically unbiased estimator."
   ]
  },
  {
   "cell_type": "code",
   "execution_count": 84,
   "metadata": {},
   "outputs": [],
   "source": [
    "cee.useBackdoorAdjustment(T, Y, {\"age\", \"inRelationship\"})"
   ]
  },
  {
   "cell_type": "code",
   "execution_count": 85,
   "metadata": {},
   "outputs": [
    {
     "name": "stdout",
     "output_type": "stream",
     "text": [
      "ACE = 0.2860493646590424\n"
     ]
    }
   ],
   "source": [
    "cee.fitSLearner()\n",
    "tau_hat = cee.estimateCausalEffect()\n",
    "\n",
    "print(f\"ACE = {tau_hat}\")"
   ]
  },
  {
   "cell_type": "code",
   "execution_count": 86,
   "metadata": {},
   "outputs": [
    {
     "name": "stdout",
     "output_type": "stream",
     "text": [
      "ACE = 0.27493045940088195\n"
     ]
    }
   ],
   "source": [
    "cee.fitTLearner()\n",
    "tau_hat = cee.estimateCausalEffect()\n",
    "\n",
    "print(f\"ACE = {tau_hat}\")"
   ]
  },
  {
   "cell_type": "code",
   "execution_count": 87,
   "metadata": {},
   "outputs": [
    {
     "name": "stdout",
     "output_type": "stream",
     "text": [
      "ACE = 0.27130820287006424\n"
     ]
    }
   ],
   "source": [
    "cee.fitIPW()\n",
    "tau_hat = cee.estimateCausalEffect()\n",
    "\n",
    "print(f\"ACE = {tau_hat}\")"
   ]
  },
  {
   "cell_type": "markdown",
   "metadata": {},
   "source": [
    "We obtain more consistent results when specifying the backdoor adjustment using a selected subset of covariates."
   ]
  }
 ],
 "metadata": {
  "kernelspec": {
   "display_name": "Python 3",
   "language": "python",
   "name": "python3"
  },
  "language_info": {
   "codemirror_mode": {
    "name": "ipython",
    "version": 3
   },
   "file_extension": ".py",
   "mimetype": "text/x-python",
   "name": "python",
   "nbconvert_exporter": "python",
   "pygments_lexer": "ipython3",
   "version": "3.10.12"
  }
 },
 "nbformat": 4,
 "nbformat_minor": 2
}
