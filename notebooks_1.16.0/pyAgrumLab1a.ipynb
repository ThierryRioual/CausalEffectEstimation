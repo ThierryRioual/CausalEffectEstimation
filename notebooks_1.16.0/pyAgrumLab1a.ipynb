{
 "cells": [
  {
   "cell_type": "markdown",
   "metadata": {},
   "source": [
    "# ACE estimations from generated RCT data\n",
    "*This notebook examines the use of the `CausalEffectEstimation` module for estimating Average Causal Effects (ACE) from generated data.*"
   ]
  },
  {
   "cell_type": "code",
   "execution_count": 1,
   "metadata": {
    "execution": {
     "iopub.execute_input": "2024-07-23T11:26:04.759035Z",
     "iopub.status.busy": "2024-07-23T11:26:04.758862Z",
     "iopub.status.idle": "2024-07-23T11:26:05.381440Z",
     "shell.execute_reply": "2024-07-23T11:26:05.381050Z",
     "shell.execute_reply.started": "2024-07-23T11:26:04.759016Z"
    }
   },
   "outputs": [],
   "source": [
    "import pyAgrum as gum\n",
    "import pyAgrum.lib.discretizer as disc\n",
    "\n",
    "import pyAgrum.causal as csl\n",
    "import pyAgrum.causal.notebook as cslnb\n",
    "\n",
    "import numpy as np\n",
    "import pandas as pd"
   ]
  },
  {
   "cell_type": "markdown",
   "metadata": {},
   "source": [
    "Consider two generative models:\n",
    "\n",
    "* A linear generative model described by the equation:\n",
    "$$ Y = 3X_1 + 2X_2 -2X_3 -0.8X_4 + T(2X_1 + 5X_3 +3X_4) $$\n",
    "\n",
    "* And a non-linear generative model described by the equation:\n",
    "$$ Y = 3X_1 + 2X_2^2 -2X_3 -0.8X_4 +10T $$\n",
    "\n",
    "\n",
    "Where $ (X_1,X_2,X_3,X_4) \\sim \\mathcal{N}_4((1,1,1,1), I_4) $, $T \\sim \\mathcal{Ber}(1/2)$ and $ (X_1,X_2,X_3,X_4,T) $ are jointly independent in both of the models.\n",
    "\n",
    "Data from the models can be obtatined by the functions given below."
   ]
  },
  {
   "cell_type": "code",
   "execution_count": 2,
   "metadata": {
    "execution": {
     "iopub.execute_input": "2024-07-23T11:26:05.382108Z",
     "iopub.status.busy": "2024-07-23T11:26:05.381934Z",
     "iopub.status.idle": "2024-07-23T11:26:05.386311Z",
     "shell.execute_reply": "2024-07-23T11:26:05.386068Z",
     "shell.execute_reply.started": "2024-07-23T11:26:05.382096Z"
    }
   },
   "outputs": [],
   "source": [
    "def linear_simulation(n : int = 100000, sigma : float = 1) -> pd.DataFrame:\n",
    "  \"\"\"\n",
    "  Returns n observations from the linear model with normally distributed\n",
    "  noise with expected value 0 and standard deviation sigma.\n",
    "  \"\"\"\n",
    "\n",
    "  X1 = np.random.normal(1, 1, n)\n",
    "  X2 = np.random.normal(1, 1, n)\n",
    "  X3 = np.random.normal(1, 1, n)\n",
    "  X4 = np.random.normal(1, 1, n)\n",
    "  epsilon = np.random.normal(0, sigma, n)\n",
    "  T=np.random.binomial(1, 0.5, n)\n",
    "  Y= 3*X1+2*X2-2*X3-0.8*X4+T*(2*X1+5*X3+3*X4)+epsilon\n",
    "  d=np.array([T,X1,X2,X3,X4,Y])\n",
    "  df_data = pd.DataFrame(data=d.T,columns=['T','X1','X2','X3','X4','Y'])\n",
    "  df_data[\"T\"] = df_data[\"T\"].astype(int)\n",
    "\n",
    "  return df_data\n",
    "\n",
    "def non_linear_simulation(n : int = 100000, sigma : float = 1) -> pd.DataFrame:\n",
    "  \"\"\"\n",
    "  Returns n observations from the non-linear model with normally distributed\n",
    "  noise with expected value 0 and standard deviation sigma.\n",
    "  \"\"\"\n",
    "\n",
    "  X1 = np.random.normal(1, 1, n)\n",
    "  X2 = np.random.normal(1, 1, n)\n",
    "  X3 = np.random.normal(1, 1, n)\n",
    "  X4 = np.random.normal(1, 1, n)\n",
    "  epsilon = np.random.normal(0, sigma, n)\n",
    "  T=np.random.binomial(1, 0.5, n)\n",
    "  Y= 3*X1+ 2*X2**2-2*X3-0.8*X4+10*T+epsilon\n",
    "  d=np.array([T,X1,X2,X3,X4,Y])\n",
    "  df_data = pd.DataFrame(data=d.T,columns=['T','X1','X2','X3','X4','Y'])\n",
    "  df_data[\"T\"] = df_data[\"T\"].astype(int)\n",
    "\n",
    "  return df_data"
   ]
  },
  {
   "cell_type": "markdown",
   "metadata": {},
   "source": [
    "Furthermore, the expected values of $Y(0)$ and $Y(1)$ can be explicitly calculated, providing us the theoretical ACE of $\\tau = 10$ which will serve as a point of reference for the estimations.\n",
    "\n",
    "We will explore how the `CausalEffectEstimation` module can estimate the causal effect of $T$ on $Y$ in both of the generated datasets."
   ]
  },
  {
   "cell_type": "markdown",
   "metadata": {},
   "source": [
    "### Setup\n",
    "\n",
    "First, genereate the data using the previously defined functions, and specify the causal graph of the variables. A single graph will be applicable to both datasets, as they share the same variables and causal structure."
   ]
  },
  {
   "cell_type": "code",
   "execution_count": 3,
   "metadata": {},
   "outputs": [
    {
     "data": {
      "image/svg+xml": [
       "<svg xmlns=\"http://www.w3.org/2000/svg\" xmlns:xlink=\"http://www.w3.org/1999/xlink\" width=\"350pt\" height=\"116pt\" viewBox=\"0.00 0.00 350.00 116.00\">\n",
       "<g id=\"graph0\" class=\"graph\" transform=\"scale(1 1) rotate(0) translate(4 112)\">\n",
       "<title>G</title>\n",
       "<!-- Y -->\n",
       "<g id=\"node1\" class=\"node\">\n",
       "<title>Y</title>\n",
       "<ellipse fill=\"#404040\" stroke=\"#4a4a4a\" cx=\"171\" cy=\"-18\" rx=\"27\" ry=\"18\"/>\n",
       "<text text-anchor=\"middle\" x=\"171\" y=\"-14.3\" font-family=\"Times,serif\" font-size=\"14.00\" fill=\"white\">Y</text>\n",
       "</g>\n",
       "<!-- T -->\n",
       "<g id=\"node2\" class=\"node\">\n",
       "<title>T</title>\n",
       "<ellipse fill=\"#404040\" stroke=\"#4a4a4a\" cx=\"27\" cy=\"-90\" rx=\"27\" ry=\"18\"/>\n",
       "<text text-anchor=\"middle\" x=\"27\" y=\"-86.3\" font-family=\"Times,serif\" font-size=\"14.00\" fill=\"white\">T</text>\n",
       "</g>\n",
       "<!-- T&#45;&gt;Y -->\n",
       "<g id=\"edge5\" class=\"edge\">\n",
       "<title>T-&gt;Y</title>\n",
       "<path fill=\"none\" stroke=\"#4a4a4a\" d=\"M47.81,-77.77C72.16,-65.93 112.28,-46.43 139.99,-32.96\"/>\n",
       "<path fill=\"none\" stroke=\"#4a4a4a\" d=\"M48.68,-79.57C73.04,-67.73 113.16,-48.23 140.86,-34.76\"/>\n",
       "<polygon fill=\"#4a4a4a\" stroke=\"#4a4a4a\" points=\"142.2,-36.89 149.67,-29.37 139.14,-30.6 142.2,-36.89\"/>\n",
       "</g>\n",
       "<!-- X1 -->\n",
       "<g id=\"node3\" class=\"node\">\n",
       "<title>X1</title>\n",
       "<ellipse fill=\"#404040\" stroke=\"#4a4a4a\" cx=\"99\" cy=\"-90\" rx=\"27\" ry=\"18\"/>\n",
       "<text text-anchor=\"middle\" x=\"99\" y=\"-86.3\" font-family=\"Times,serif\" font-size=\"14.00\" fill=\"white\">X1</text>\n",
       "</g>\n",
       "<!-- X1&#45;&gt;Y -->\n",
       "<g id=\"edge2\" class=\"edge\">\n",
       "<title>X1-&gt;Y</title>\n",
       "<path fill=\"none\" stroke=\"#4a4a4a\" d=\"M112.87,-74.12C123.05,-64.22 136.83,-50.83 148.33,-39.64\"/>\n",
       "<path fill=\"none\" stroke=\"#4a4a4a\" d=\"M114.27,-75.55C124.45,-65.65 138.22,-52.26 149.73,-41.08\"/>\n",
       "<polygon fill=\"#4a4a4a\" stroke=\"#4a4a4a\" points=\"151.47,-42.87 156.2,-33.38 146.59,-37.85 151.47,-42.87\"/>\n",
       "</g>\n",
       "<!-- X2 -->\n",
       "<g id=\"node4\" class=\"node\">\n",
       "<title>X2</title>\n",
       "<ellipse fill=\"#404040\" stroke=\"#4a4a4a\" cx=\"171\" cy=\"-90\" rx=\"27\" ry=\"18\"/>\n",
       "<text text-anchor=\"middle\" x=\"171\" y=\"-86.3\" font-family=\"Times,serif\" font-size=\"14.00\" fill=\"white\">X2</text>\n",
       "</g>\n",
       "<!-- X2&#45;&gt;Y -->\n",
       "<g id=\"edge3\" class=\"edge\">\n",
       "<title>X2-&gt;Y</title>\n",
       "<path fill=\"none\" stroke=\"#4a4a4a\" d=\"M170,-71.7C170,-63.98 170,-54.71 170,-46.11\"/>\n",
       "<path fill=\"none\" stroke=\"#4a4a4a\" d=\"M172,-71.7C172,-63.98 172,-54.71 172,-46.11\"/>\n",
       "<polygon fill=\"#4a4a4a\" stroke=\"#4a4a4a\" points=\"174.5,-46.1 171,-36.1 167.5,-46.1 174.5,-46.1\"/>\n",
       "</g>\n",
       "<!-- X3 -->\n",
       "<g id=\"node5\" class=\"node\">\n",
       "<title>X3</title>\n",
       "<ellipse fill=\"#404040\" stroke=\"#4a4a4a\" cx=\"243\" cy=\"-90\" rx=\"27\" ry=\"18\"/>\n",
       "<text text-anchor=\"middle\" x=\"243\" y=\"-86.3\" font-family=\"Times,serif\" font-size=\"14.00\" fill=\"white\">X3</text>\n",
       "</g>\n",
       "<!-- X3&#45;&gt;Y -->\n",
       "<g id=\"edge1\" class=\"edge\">\n",
       "<title>X3-&gt;Y</title>\n",
       "<path fill=\"none\" stroke=\"#4a4a4a\" d=\"M227.73,-75.55C217.55,-65.65 203.78,-52.26 192.27,-41.08\"/>\n",
       "<path fill=\"none\" stroke=\"#4a4a4a\" d=\"M229.13,-74.12C218.95,-64.22 205.17,-50.83 193.67,-39.64\"/>\n",
       "<polygon fill=\"#4a4a4a\" stroke=\"#4a4a4a\" points=\"195.41,-37.85 185.8,-33.38 190.53,-42.87 195.41,-37.85\"/>\n",
       "</g>\n",
       "<!-- X4 -->\n",
       "<g id=\"node6\" class=\"node\">\n",
       "<title>X4</title>\n",
       "<ellipse fill=\"#404040\" stroke=\"#4a4a4a\" cx=\"315\" cy=\"-90\" rx=\"27\" ry=\"18\"/>\n",
       "<text text-anchor=\"middle\" x=\"315\" y=\"-86.3\" font-family=\"Times,serif\" font-size=\"14.00\" fill=\"white\">X4</text>\n",
       "</g>\n",
       "<!-- X4&#45;&gt;Y -->\n",
       "<g id=\"edge4\" class=\"edge\">\n",
       "<title>X4-&gt;Y</title>\n",
       "<path fill=\"none\" stroke=\"#4a4a4a\" d=\"M293.32,-79.57C268.96,-67.73 228.84,-48.23 201.14,-34.76\"/>\n",
       "<path fill=\"none\" stroke=\"#4a4a4a\" d=\"M294.19,-77.77C269.84,-65.93 229.72,-46.43 202.01,-32.96\"/>\n",
       "<polygon fill=\"#4a4a4a\" stroke=\"#4a4a4a\" points=\"202.86,-30.6 192.33,-29.37 199.8,-36.89 202.86,-30.6\"/>\n",
       "</g>\n",
       "</g>\n",
       "</svg>"
      ],
      "text/plain": [
       "<IPython.core.display.SVG object>"
      ]
     },
     "metadata": {},
     "output_type": "display_data"
    }
   ],
   "source": [
    "linear_data = linear_simulation()\n",
    "non_linear_data = non_linear_simulation()\n",
    "\n",
    "bn = gum.fastBN(\"Y<-T; Y<-X1; Y<-X2; Y<-X3; Y<-X4\")\n",
    "causal_model = csl.CausalModel(bn)\n",
    "\n",
    "cslnb.showCausalModel(causal_model, size=\"10\")"
   ]
  },
  {
   "cell_type": "markdown",
   "metadata": {},
   "source": [
    "If the `CausalBNEstimator` estimation method is not employed for estimation process, the model generated using `gum.fastBN` will suffice, as only the graph structure of the Causal Bayesian Network will be used for causal identification.\n",
    "\n",
    "However, if the Causal Bayesian Network estimator is utilized, it will be necessary to provide a `csl.CausalModel` object with appropriate discretization, as the Conditional Probability Tables of the model will be used for estimation. Here we use the `discretizer` module to perform this task, the arcs are added manually.\n",
    "\n",
    "Selecting an optimal discretization is crucial: a coarse discretization may lead to poor estimation due to its inability to capture fine variations in the distribution, while an overly fine discretization may result in too many parameters, making it difficult for the parameter learning algorithm to accurately estimate the distribution. Therefore, the discretization should strike a balance, being neither too coarse nor too fine."
   ]
  },
  {
   "cell_type": "code",
   "execution_count": 4,
   "metadata": {},
   "outputs": [
    {
     "name": "stdout",
     "output_type": "stream",
     "text": [
      "T:Range([0,1])\n",
      "X1:Discretized(<(-3.09085;-2.66317[,[-2.66317;-2.23549[,[-2.23549;-1.80781[,[-1.80781;-1.38014[,[-1.38014;-0.952457[,[-0.952457;-0.524778[,[-0.524778;-0.0970988[,[-0.0970988;0.33058[,[0.33058;0.758259[,[0.758259;1.18594[,[1.18594;1.61362[,[1.61362;2.0413[,[2.0413;2.46897[,[2.46897;2.89665[,[2.89665;3.32433[,[3.32433;3.75201[,[3.75201;4.17969[,[4.17969;4.60737[,[4.60737;5.03505[,[5.03505;5.46273)>)\n",
      "X2:Discretized(<(-3.43952;-2.98806[,[-2.98806;-2.53661[,[-2.53661;-2.08515[,[-2.08515;-1.6337[,[-1.6337;-1.18224[,[-1.18224;-0.730783[,[-0.730783;-0.279326[,[-0.279326;0.17213[,[0.17213;0.623586[,[0.623586;1.07504[,[1.07504;1.5265[,[1.5265;1.97796[,[1.97796;2.42941[,[2.42941;2.88087[,[2.88087;3.33232[,[3.33232;3.78378[,[3.78378;4.23524[,[4.23524;4.68669[,[4.68669;5.13815[,[5.13815;5.58961)>)\n",
      "X3:Discretized(<(-3.43262;-2.99699[,[-2.99699;-2.56137[,[-2.56137;-2.12574[,[-2.12574;-1.69012[,[-1.69012;-1.25449[,[-1.25449;-0.818865[,[-0.818865;-0.383239[,[-0.383239;0.0523867[,[0.0523867;0.488013[,[0.488013;0.923639[,[0.923639;1.35926[,[1.35926;1.79489[,[1.79489;2.23052[,[2.23052;2.66614[,[2.66614;3.10177[,[3.10177;3.53739[,[3.53739;3.97302[,[3.97302;4.40865[,[4.40865;4.84427[,[4.84427;5.2799)>)\n",
      "X4:Discretized(<(-3.36443;-2.93203[,[-2.93203;-2.49963[,[-2.49963;-2.06723[,[-2.06723;-1.63483[,[-1.63483;-1.20242[,[-1.20242;-0.770022[,[-0.770022;-0.33762[,[-0.33762;0.0947816[,[0.0947816;0.527184[,[0.527184;0.959586[,[0.959586;1.39199[,[1.39199;1.82439[,[1.82439;2.25679[,[2.25679;2.68919[,[2.68919;3.1216[,[3.1216;3.554[,[3.554;3.9864[,[3.9864;4.4188[,[4.4188;4.8512[,[4.8512;5.28361)>)\n",
      "Y:Discretized(<(-18.056;-15.0192[,[-15.0192;-11.9823[,[-11.9823;-8.94546[,[-8.94546;-5.90861[,[-5.90861;-2.87176[,[-2.87176;0.165096[,[0.165096;3.20195[,[3.20195;6.2388[,[6.2388;9.27565[,[9.27565;12.3125[,[12.3125;15.3494[,[15.3494;18.3862[,[18.3862;21.4231[,[21.4231;24.4599[,[24.4599;27.4968[,[27.4968;30.5336[,[30.5336;33.5705[,[33.5705;36.6073[,[36.6073;39.6442[,[39.6442;42.681)>)\n"
     ]
    }
   ],
   "source": [
    "discretizer = disc.Discretizer(\n",
    "    defaultDiscretizationMethod=\"uniform\",\n",
    "    defaultNumberOfBins=20\n",
    ")\n",
    "disc_bn = discretizer.discretizedTemplate(linear_data)\n",
    "\n",
    "disc_bn.beginTopologyTransformation()\n",
    "for node in {\"T\", \"X1\", \"X2\", \"X3\", \"X4\"}:\n",
    "    disc_bn.addArc(node, \"Y\")\n",
    "disc_bn.endTopologyTransformation()\n",
    "\n",
    "disc_causal_model = csl.CausalModel(disc_bn)\n",
    "\n",
    "for id, _ in disc_bn:\n",
    "    print(disc_bn.variable(id))"
   ]
  },
  {
   "cell_type": "markdown",
   "metadata": {},
   "source": [
    "We are now prepared to instantiate the `CausalEffectEstimation` object for both datasets."
   ]
  },
  {
   "cell_type": "code",
   "execution_count": 5,
   "metadata": {},
   "outputs": [
    {
     "name": "stdout",
     "output_type": "stream",
     "text": [
      "<pyAgrum.causal.causalEffectEstimation._CausalEffectEstimation.CausalEffectEstimation object at 0x7e57d8fd89d0>\n",
      "\n",
      " Dataframe\t: <pandas.core.frame.DataFrame object at 0x7e58045cd570>\n",
      "\t- shape\t\t: (100000, 6)\n",
      "\t- columns\t: Index(['T', 'X1', 'X2', 'X3', 'X4', 'Y'], dtype='object')\n",
      "\t- memory usage\t: 4.800128 MB\n",
      " Causal Model\t: <pyAgrum.causal._CausalModel.CausalModel object at 0x7e57d8fd9bd0>\n",
      "\t- names\t\t: {0: 'T', 1: 'X1', 2: 'X2', 3: 'X3', 4: 'X4', 5: 'Y'}\n",
      "\t- causal BN\t: BN{nodes: 6, arcs: 5, domainSize: 10^6.80618, dim: 6080077, mem: 48Mo 848Ko 656o}\n",
      "\t- observ. BN\t: BN{nodes: 6, arcs: 5, domainSize: 10^6.80618, dim: 6080077, mem: 48Mo 848Ko 656o}\n"
     ]
    }
   ],
   "source": [
    "linear_cee = csl.CausalEffectEstimation(linear_data, disc_causal_model)\n",
    "print(linear_cee)"
   ]
  },
  {
   "cell_type": "code",
   "execution_count": 6,
   "metadata": {},
   "outputs": [
    {
     "name": "stdout",
     "output_type": "stream",
     "text": [
      "<pyAgrum.causal.causalEffectEstimation._CausalEffectEstimation.CausalEffectEstimation object at 0x7e57d8fd8cd0>\n",
      "\n",
      " Dataframe\t: <pandas.core.frame.DataFrame object at 0x7e57f139bbb0>\n",
      "\t- shape\t\t: (100000, 6)\n",
      "\t- columns\t: Index(['T', 'X1', 'X2', 'X3', 'X4', 'Y'], dtype='object')\n",
      "\t- memory usage\t: 4.800128 MB\n",
      " Causal Model\t: <pyAgrum.causal._CausalModel.CausalModel object at 0x7e57d8fd9bd0>\n",
      "\t- names\t\t: {0: 'T', 1: 'X1', 2: 'X2', 3: 'X3', 4: 'X4', 5: 'Y'}\n",
      "\t- causal BN\t: BN{nodes: 6, arcs: 5, domainSize: 10^6.80618, dim: 6080077, mem: 48Mo 848Ko 656o}\n",
      "\t- observ. BN\t: BN{nodes: 6, arcs: 5, domainSize: 10^6.80618, dim: 6080077, mem: 48Mo 848Ko 656o}\n"
     ]
    }
   ],
   "source": [
    "non_linear_cee = csl.CausalEffectEstimation(non_linear_data, disc_causal_model)\n",
    "print(non_linear_cee)"
   ]
  },
  {
   "cell_type": "markdown",
   "metadata": {},
   "source": [
    "### Causal Indentification\n",
    "\n",
    "The subsequent step involves identifying the causal criterion to be used for estimation. This is crucial, as most estimators rely on strong assumptions regarding the underlying causal structure of the data-generating process. Incorrect specification of the adjustment may compromise the guarantee of asymptotic normality."
   ]
  },
  {
   "cell_type": "code",
   "execution_count": 7,
   "metadata": {},
   "outputs": [
    {
     "name": "stdout",
     "output_type": "stream",
     "text": [
      "Randomized Controlled Trial adjustment found. \n",
      "\n",
      "Supported estimators include:\n",
      "- CausalModelEstimator\n",
      "- DM\n",
      "If the outcome variable is a cause of other covariates in the causal graph,\n",
      "Backdoor estimators may also be used.\n"
     ]
    },
    {
     "data": {
      "text/plain": [
       "'Randomized Controlled Trial'"
      ]
     },
     "execution_count": 7,
     "metadata": {},
     "output_type": "execute_result"
    }
   ],
   "source": [
    "linear_cee.identifyAdjustmentSet(intervention=\"T\", outcome=\"Y\")\n",
    "non_linear_cee.identifyAdjustmentSet(intervention=\"T\", outcome=\"Y\", verbose=False)"
   ]
  },
  {
   "cell_type": "markdown",
   "metadata": {},
   "source": [
    "Consistent with the data generation, the adjustment identified is the Randomized Control Trial adjustment. This yields a list of the various estimators supported by this adjustment."
   ]
  },
  {
   "cell_type": "markdown",
   "metadata": {},
   "source": [
    "### Causal Effect Estimation\n",
    "Once the adjustment is identified, we can proceed to estimation using the supported estimators. First, the estimator must be fitted to the data."
   ]
  },
  {
   "cell_type": "code",
   "execution_count": 8,
   "metadata": {},
   "outputs": [],
   "source": [
    "linear_cee.fitDM()\n",
    "non_linear_cee.fitDM()"
   ]
  },
  {
   "cell_type": "markdown",
   "metadata": {},
   "source": [
    "The estimation is obtained by calling the `estimateCausalEffect` method."
   ]
  },
  {
   "cell_type": "code",
   "execution_count": 9,
   "metadata": {},
   "outputs": [
    {
     "name": "stdout",
     "output_type": "stream",
     "text": [
      "ACE linear = 9.98237594906074, MAPE = 0.1762405093925956 %\n",
      "ACE non linear = 9.991739591988692, MAPE = 0.08260408011308229 %\n"
     ]
    }
   ],
   "source": [
    "linear_tau_hat = linear_cee.estimateCausalEffect()\n",
    "non_linear_tau_hat = non_linear_cee.estimateCausalEffect()\n",
    "\n",
    "print(f\"ACE linear = {linear_tau_hat}, MAPE = {abs((linear_tau_hat-10)*10)} %\")\n",
    "print(f\"ACE non linear = {non_linear_tau_hat}, MAPE = {abs((non_linear_tau_hat-10)*10)} %\")"
   ]
  },
  {
   "cell_type": "markdown",
   "metadata": {},
   "source": [
    "The difference-in-means estimator, which is the simplest estimator for the ACE, yields mostly accurate results. This is expected in an RCT environment where the treatment is independent of confounders, making intervention equivalent to observation."
   ]
  },
  {
   "cell_type": "markdown",
   "metadata": {},
   "source": [
    "# User specified adjustment\n",
    "\n",
    "If the user wish to apply an alternative adjustment, they may specify their own set of variables for each component of the adjustment. However, please note that such custom adjustments do not guarantee unbiased estimation and may not ensure an error-free estimation process."
   ]
  },
  {
   "cell_type": "code",
   "execution_count": 10,
   "metadata": {},
   "outputs": [],
   "source": [
    "linear_cee.useBackdoorAdjustment(intervention=\"T\", outcome=\"Y\", confounders={\"X1\", \"X2\", \"X3\", \"X4\"})\n",
    "non_linear_cee.useBackdoorAdjustment(intervention=\"T\", outcome=\"Y\", confounders={\"X1\", \"X2\", \"X3\", \"X4\"})"
   ]
  },
  {
   "cell_type": "code",
   "execution_count": 11,
   "metadata": {},
   "outputs": [],
   "source": [
    "linear_cee.fitSLearner()\n",
    "non_linear_cee.fitSLearner()"
   ]
  },
  {
   "cell_type": "code",
   "execution_count": 12,
   "metadata": {},
   "outputs": [
    {
     "name": "stdout",
     "output_type": "stream",
     "text": [
      "ACE linear = 9.971630783063747, MAPE = 0.28369216936253494 %\n",
      "ACE non linear = 9.997707502528284, MAPE = 0.02292497471716004 %\n"
     ]
    }
   ],
   "source": [
    "linear_tau_hat = linear_cee.estimateCausalEffect()\n",
    "non_linear_tau_hat = non_linear_cee.estimateCausalEffect()\n",
    "\n",
    "print(f\"ACE linear = {linear_tau_hat}, MAPE = {abs((linear_tau_hat-10)*10)} %\")\n",
    "print(f\"ACE non linear = {non_linear_tau_hat}, MAPE = {abs((non_linear_tau_hat-10)*10)} %\")"
   ]
  },
  {
   "cell_type": "markdown",
   "metadata": {},
   "source": [
    "In this case, RCT adjustment also supports Backdoor adjustment, we thus get mostly accurate estimations. Let's see how the estimation would be if we specify an uncompatible adjustment."
   ]
  },
  {
   "cell_type": "markdown",
   "metadata": {},
   "source": [
    "### Incorrectly specified adjustment\n",
    "\n",
    "We will use the frontdoor adjustment to illustrate the behaviours of incorrect specification. "
   ]
  },
  {
   "cell_type": "code",
   "execution_count": 13,
   "metadata": {},
   "outputs": [],
   "source": [
    "linear_cee.useFrontdoorAdjustment(intervention=\"T\", outcome=\"Y\", mediators={\"X1\", \"X2\", \"X3\", \"X4\"})\n",
    "non_linear_cee.useFrontdoorAdjustment(intervention=\"T\", outcome=\"Y\", mediators={\"X1\", \"X2\", \"X3\", \"X4\"})"
   ]
  },
  {
   "cell_type": "code",
   "execution_count": 14,
   "metadata": {},
   "outputs": [],
   "source": [
    "linear_cee.fitSimplePlugIn()\n",
    "non_linear_cee.fitSimplePlugIn()"
   ]
  },
  {
   "cell_type": "code",
   "execution_count": 15,
   "metadata": {},
   "outputs": [
    {
     "name": "stdout",
     "output_type": "stream",
     "text": [
      "ACE linear = 0.008951735929863099, MAPE = 99.91048264070137 %\n",
      "ACE non linear = -0.004451475674301647, MAPE = 100.04451475674301 %\n"
     ]
    }
   ],
   "source": [
    "linear_tau_hat = linear_cee.estimateCausalEffect()\n",
    "non_linear_tau_hat = non_linear_cee.estimateCausalEffect()\n",
    "\n",
    "print(f\"ACE linear = {linear_tau_hat}, MAPE = {abs((linear_tau_hat-10)*10)} %\")\n",
    "print(f\"ACE non linear = {non_linear_tau_hat}, MAPE = {abs((non_linear_tau_hat-10)*10)} %\")"
   ]
  },
  {
   "cell_type": "markdown",
   "metadata": {},
   "source": [
    "As anticipated, using an incorrect adjustment set results in a heavily biased estimation. In this case, the ACE is close to zero, indicating that the estimator incorrectly predicts no causal effect of $T$ on $Y$."
   ]
  },
  {
   "cell_type": "markdown",
   "metadata": {},
   "source": [
    "### Causal Bayesian Network Estimation\n",
    "\n",
    "To fully utilize the causal model within the estimation process, we will now use the Conditional Probability Tables of the Causal Bayesian Network via the `CausalBNEstimator`, rather than relying solely on the underlying causal graph. The procedure will follow the same methodology as previously applied."
   ]
  },
  {
   "cell_type": "code",
   "execution_count": 16,
   "metadata": {},
   "outputs": [
    {
     "data": {
      "text/plain": [
       "'Randomized Controlled Trial'"
      ]
     },
     "execution_count": 16,
     "metadata": {},
     "output_type": "execute_result"
    }
   ],
   "source": [
    "linear_cee.identifyAdjustmentSet(intervention=\"T\", outcome=\"Y\", verbose=False)\n",
    "non_linear_cee.identifyAdjustmentSet(intervention=\"T\", outcome=\"Y\", verbose=False)"
   ]
  },
  {
   "cell_type": "code",
   "execution_count": 17,
   "metadata": {},
   "outputs": [],
   "source": [
    "linear_cee.fitCausalBNEstimator()\n",
    "non_linear_cee.fitCausalBNEstimator()"
   ]
  },
  {
   "cell_type": "code",
   "execution_count": 18,
   "metadata": {},
   "outputs": [
    {
     "name": "stdout",
     "output_type": "stream",
     "text": [
      "ACE linear = 9.000975786263197, MAPE = 9.990242137368028 %\n",
      "ACE non linear = 9.018543054650321, MAPE = 9.81456945349679 %\n"
     ]
    }
   ],
   "source": [
    "linear_tau_hat = linear_cee.estimateCausalEffect()\n",
    "non_linear_tau_hat = non_linear_cee.estimateCausalEffect()\n",
    "\n",
    "print(f\"ACE linear = {linear_tau_hat}, MAPE = {abs((linear_tau_hat-10)*10)} %\")\n",
    "print(f\"ACE non linear = {non_linear_tau_hat}, MAPE = {abs((non_linear_tau_hat-10)*10)} %\")"
   ]
  }
 ],
 "metadata": {
  "kernelspec": {
   "display_name": "Python 3 (ipykernel)",
   "language": "python",
   "name": "python3"
  },
  "language_info": {
   "codemirror_mode": {
    "name": "ipython",
    "version": 3
   },
   "file_extension": ".py",
   "mimetype": "text/x-python",
   "name": "python",
   "nbconvert_exporter": "python",
   "pygments_lexer": "ipython3",
   "version": "3.10.12"
  }
 },
 "nbformat": 4,
 "nbformat_minor": 4
}
